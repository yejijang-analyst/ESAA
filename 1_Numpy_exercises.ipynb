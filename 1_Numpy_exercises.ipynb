{
  "nbformat": 4,
  "nbformat_minor": 5,
  "metadata": {
    "colab": {
      "provenance": [],
      "collapsed_sections": [
        "51898680"
      ],
      "include_colab_link": true
    },
    "language_info": {
      "name": "python"
    },
    "kernelspec": {
      "name": "python3",
      "display_name": "Python 3"
    }
  },
  "cells": [
    {
      "cell_type": "markdown",
      "metadata": {
        "id": "view-in-github",
        "colab_type": "text"
      },
      "source": [
        "<a href=\"https://colab.research.google.com/github/yejijang-analyst/ESAA_note/blob/main/Numpy_exercises.ipynb\" target=\"_parent\"><img src=\"https://colab.research.google.com/assets/colab-badge.svg\" alt=\"Open In Colab\"/></a>"
      ]
    },
    {
      "cell_type": "markdown",
      "metadata": {
        "id": "bf79c78b"
      },
      "source": [
        "# Numpy exercises\n",
        "\n",
        "This is a collection of exercises that have been collected in the numpy mailing list, on stack overflow\n",
        "and in the numpy documentation. The goal of this collection is to offer a quick reference for both old\n",
        "and new users but also to provide a set of exercises for those who teach.\n",
        "\n",
        "\n",
        "If you find an error or think you've a better way to solve some of them, feel\n",
        "free to open an issue at <https://github.com/rougier/numpy-100>."
      ],
      "id": "bf79c78b"
    },
    {
      "cell_type": "markdown",
      "metadata": {
        "id": "8536e059"
      },
      "source": [
        "File automatically generated. See the documentation to update questions/answers/hints programmatically."
      ],
      "id": "8536e059"
    },
    {
      "cell_type": "markdown",
      "metadata": {
        "id": "017db353"
      },
      "source": [
        "#### 1. Import the numpy package under the name `np` (★☆☆)"
      ],
      "id": "017db353"
    },
    {
      "cell_type": "code",
      "metadata": {
        "id": "68182a76"
      },
      "source": [
        "import numpy as np"
      ],
      "id": "68182a76",
      "execution_count": 2,
      "outputs": []
    },
    {
      "cell_type": "markdown",
      "metadata": {
        "id": "46950f4f"
      },
      "source": [
        "#### 2. Print the numpy version and the configuration (★☆☆)"
      ],
      "id": "46950f4f"
    },
    {
      "cell_type": "code",
      "metadata": {
        "id": "2a9f5838",
        "colab": {
          "base_uri": "https://localhost:8080/"
        },
        "outputId": "06efa832-9212-49d6-fdc2-ec8136713825"
      },
      "source": [
        "print(np.__version__)\n",
        "print(np.show_config())"
      ],
      "id": "2a9f5838",
      "execution_count": null,
      "outputs": [
        {
          "output_type": "stream",
          "name": "stdout",
          "text": [
            "1.23.5\n",
            "openblas64__info:\n",
            "    libraries = ['openblas64_', 'openblas64_']\n",
            "    library_dirs = ['/usr/local/lib']\n",
            "    language = c\n",
            "    define_macros = [('HAVE_CBLAS', None), ('BLAS_SYMBOL_SUFFIX', '64_'), ('HAVE_BLAS_ILP64', None)]\n",
            "    runtime_library_dirs = ['/usr/local/lib']\n",
            "blas_ilp64_opt_info:\n",
            "    libraries = ['openblas64_', 'openblas64_']\n",
            "    library_dirs = ['/usr/local/lib']\n",
            "    language = c\n",
            "    define_macros = [('HAVE_CBLAS', None), ('BLAS_SYMBOL_SUFFIX', '64_'), ('HAVE_BLAS_ILP64', None)]\n",
            "    runtime_library_dirs = ['/usr/local/lib']\n",
            "openblas64__lapack_info:\n",
            "    libraries = ['openblas64_', 'openblas64_']\n",
            "    library_dirs = ['/usr/local/lib']\n",
            "    language = c\n",
            "    define_macros = [('HAVE_CBLAS', None), ('BLAS_SYMBOL_SUFFIX', '64_'), ('HAVE_BLAS_ILP64', None), ('HAVE_LAPACKE', None)]\n",
            "    runtime_library_dirs = ['/usr/local/lib']\n",
            "lapack_ilp64_opt_info:\n",
            "    libraries = ['openblas64_', 'openblas64_']\n",
            "    library_dirs = ['/usr/local/lib']\n",
            "    language = c\n",
            "    define_macros = [('HAVE_CBLAS', None), ('BLAS_SYMBOL_SUFFIX', '64_'), ('HAVE_BLAS_ILP64', None), ('HAVE_LAPACKE', None)]\n",
            "    runtime_library_dirs = ['/usr/local/lib']\n",
            "Supported SIMD extensions in this NumPy install:\n",
            "    baseline = SSE,SSE2,SSE3\n",
            "    found = SSSE3,SSE41,POPCNT,SSE42,AVX,F16C,FMA3,AVX2\n",
            "    not found = AVX512F,AVX512CD,AVX512_KNL,AVX512_KNM,AVX512_SKX,AVX512_CLX,AVX512_CNL,AVX512_ICL\n",
            "None\n"
          ]
        }
      ]
    },
    {
      "cell_type": "markdown",
      "metadata": {
        "id": "e3c20b3d"
      },
      "source": [
        "#### 3. Create a null vector of size 10 (★☆☆)"
      ],
      "id": "e3c20b3d"
    },
    {
      "cell_type": "code",
      "metadata": {
        "id": "8a758bcf",
        "colab": {
          "base_uri": "https://localhost:8080/"
        },
        "outputId": "bcbd510f-6f11-4b07-b72a-74276645889b"
      },
      "source": [
        "array = np.zeros(10)\n",
        "print(array)\n",
        "\n"
      ],
      "id": "8a758bcf",
      "execution_count": null,
      "outputs": [
        {
          "output_type": "stream",
          "name": "stdout",
          "text": [
            "[0. 0. 0. 0. 0. 0. 0. 0. 0. 0.]\n"
          ]
        }
      ]
    },
    {
      "cell_type": "markdown",
      "metadata": {
        "id": "b15a879f"
      },
      "source": [
        "#### 4. How to find the memory size of any array (★☆☆)"
      ],
      "id": "b15a879f"
    },
    {
      "cell_type": "code",
      "metadata": {
        "id": "1cc3cbc5",
        "colab": {
          "base_uri": "https://localhost:8080/"
        },
        "outputId": "dec9eb16-5e23-4996-dd5c-8f108233f8fe"
      },
      "source": [
        "# 내 풀이 print('array size:', array.size) ## 오답\n",
        "array4 = np.zeros((10,10))\n",
        "print(\"%d bytes\" % (array4.size * array4.itemsize))"
      ],
      "id": "1cc3cbc5",
      "execution_count": 5,
      "outputs": [
        {
          "output_type": "stream",
          "name": "stdout",
          "text": [
            "800 bytes\n"
          ]
        }
      ]
    },
    {
      "cell_type": "markdown",
      "metadata": {
        "id": "0b16cd77"
      },
      "source": [
        "#### 5. Create a null vector of size 10 but the fifth value which is 1 (★☆☆)"
      ],
      "id": "0b16cd77"
    },
    {
      "cell_type": "code",
      "metadata": {
        "id": "4d9b5975",
        "colab": {
          "base_uri": "https://localhost:8080/"
        },
        "outputId": "5373267d-ae06-44ee-e428-eb1b99d9bb22"
      },
      "source": [
        "array1 = np.zeros(10)\n",
        "array1[4] = 1 #4? 5?\n",
        "print(array1)\n"
      ],
      "id": "4d9b5975",
      "execution_count": null,
      "outputs": [
        {
          "output_type": "stream",
          "name": "stdout",
          "text": [
            "[0. 0. 0. 0. 1. 0. 0. 0. 0. 0.]\n"
          ]
        }
      ]
    },
    {
      "cell_type": "markdown",
      "metadata": {
        "id": "782d4c77"
      },
      "source": [
        "#### 6. Create a vector with values ranging from 10 to 49 (★☆☆)"
      ],
      "id": "782d4c77"
    },
    {
      "cell_type": "code",
      "metadata": {
        "id": "5dbe1a08",
        "colab": {
          "base_uri": "https://localhost:8080/"
        },
        "outputId": "3c90bf93-70e6-4604-f86f-ce8b2c49a91c"
      },
      "source": [
        "array2 = np.arange(start=10,stop=50)\n",
        "print(array2)"
      ],
      "id": "5dbe1a08",
      "execution_count": null,
      "outputs": [
        {
          "output_type": "stream",
          "name": "stdout",
          "text": [
            "[10 11 12 13 14 15 16 17 18 19 20 21 22 23 24 25 26 27 28 29 30 31 32 33\n",
            " 34 35 36 37 38 39 40 41 42 43 44 45 46 47 48 49]\n"
          ]
        }
      ]
    },
    {
      "cell_type": "markdown",
      "metadata": {
        "id": "48d48f01"
      },
      "source": [
        "#### 7. Reverse a vector (first element becomes last) (★☆☆)"
      ],
      "id": "48d48f01"
    },
    {
      "cell_type": "code",
      "metadata": {
        "id": "3ed233e7",
        "colab": {
          "base_uri": "https://localhost:8080/"
        },
        "outputId": "f5fba0c9-14b2-4462-ca3c-fd6ecc38f62c"
      },
      "source": [
        "array2 = np.arange(start=10,stop=50)\n",
        "array3 = array2[::-1] #np. 붙일 필요 없음\n",
        "print(array3)"
      ],
      "id": "3ed233e7",
      "execution_count": null,
      "outputs": [
        {
          "output_type": "stream",
          "name": "stdout",
          "text": [
            "[49 48 47 46 45 44 43 42 41 40 39 38 37 36 35 34 33 32 31 30 29 28 27 26\n",
            " 25 24 23 22 21 20 19 18 17 16 15 14 13 12 11 10]\n"
          ]
        }
      ]
    },
    {
      "cell_type": "markdown",
      "metadata": {
        "id": "4fa39382"
      },
      "source": [
        "#### 8. Create a 3x3 matrix with values ranging from 0 to 8 (★☆☆)"
      ],
      "id": "4fa39382"
    },
    {
      "cell_type": "code",
      "metadata": {
        "id": "c97757ec",
        "colab": {
          "base_uri": "https://localhost:8080/"
        },
        "outputId": "c2013988-a342-402f-feac-cf4f7fb1cfea"
      },
      "source": [
        "array33 = np.arange(start=0,stop=9)\n",
        "array33d = array33.reshape(3,3)\n",
        "print(array33d)"
      ],
      "id": "c97757ec",
      "execution_count": null,
      "outputs": [
        {
          "output_type": "stream",
          "name": "stdout",
          "text": [
            "[[0 1 2]\n",
            " [3 4 5]\n",
            " [6 7 8]]\n"
          ]
        }
      ]
    },
    {
      "cell_type": "markdown",
      "metadata": {
        "id": "da64551a"
      },
      "source": [
        "#### 9. Find indices of non-zero elements from [1,2,0,0,4,0] (★☆☆)"
      ],
      "id": "da64551a"
    },
    {
      "cell_type": "code",
      "metadata": {
        "id": "327f7adb",
        "colab": {
          "base_uri": "https://localhost:8080/"
        },
        "outputId": "cb8a2717-5ce4-4a36-99a7-87bf46f45722"
      },
      "source": [
        "array9 = np.nonzero([1,2,0,0,4,0])  #####\n",
        "\n",
        "print(array9)"
      ],
      "id": "327f7adb",
      "execution_count": null,
      "outputs": [
        {
          "output_type": "stream",
          "name": "stdout",
          "text": [
            "(array([0, 1, 4]),)\n"
          ]
        }
      ]
    },
    {
      "cell_type": "markdown",
      "metadata": {
        "id": "f89d9c9e"
      },
      "source": [
        "#### 10. Create a 3x3 identity matrix (★☆☆)\n",
        "Hint : identity & eye, try to use 'help' to learn how to use two functions of numpy"
      ],
      "id": "f89d9c9e"
    },
    {
      "cell_type": "code",
      "metadata": {
        "id": "ba625832",
        "colab": {
          "base_uri": "https://localhost:8080/"
        },
        "outputId": "698f75aa-b2f1-40f8-9809-7c1d3ad88312"
      },
      "source": [
        "array_i=np.identity(3)\n",
        "print(array_i)"
      ],
      "id": "ba625832",
      "execution_count": null,
      "outputs": [
        {
          "output_type": "stream",
          "name": "stdout",
          "text": [
            "[[1. 0. 0.]\n",
            " [0. 1. 0.]\n",
            " [0. 0. 1.]]\n"
          ]
        }
      ]
    },
    {
      "cell_type": "markdown",
      "metadata": {
        "id": "7e44c6fa"
      },
      "source": [
        "#### 11. Create a 3x3x3 array with random values (★☆☆)\n",
        "Hint : numpy.random.random"
      ],
      "id": "7e44c6fa"
    },
    {
      "cell_type": "code",
      "metadata": {
        "id": "1cb3dddf",
        "colab": {
          "base_uri": "https://localhost:8080/"
        },
        "outputId": "a14b95aa-5f0a-4949-94f6-ca689ba3fbdd"
      },
      "source": [
        "q11 = np.random.random((3,3,3))\n",
        "print(q11)"
      ],
      "id": "1cb3dddf",
      "execution_count": null,
      "outputs": [
        {
          "output_type": "stream",
          "name": "stdout",
          "text": [
            "[[[0.91054662 0.87913976 0.75607011]\n",
            "  [0.68432798 0.24826482 0.49464162]\n",
            "  [0.37407244 0.38514378 0.24225928]]\n",
            "\n",
            " [[0.39750169 0.37784402 0.55926408]\n",
            "  [0.22250888 0.49623441 0.06173556]\n",
            "  [0.1161415  0.14654653 0.94559921]]\n",
            "\n",
            " [[0.2895782  0.0332383  0.84950713]\n",
            "  [0.98686448 0.99483615 0.6494694 ]\n",
            "  [0.53192285 0.50695422 0.94503894]]]\n"
          ]
        }
      ]
    },
    {
      "cell_type": "markdown",
      "metadata": {
        "id": "13c5928c"
      },
      "source": [
        "#### 12. Create a 10x10 array with random values and find the **min**imum and **max**imum values (★☆☆)"
      ],
      "id": "13c5928c"
    },
    {
      "cell_type": "code",
      "metadata": {
        "id": "911c9b93",
        "colab": {
          "base_uri": "https://localhost:8080/"
        },
        "outputId": "865d0af5-92cc-4dca-8208-b5d4b68c1ca2"
      },
      "source": [
        "q11 = np.random.random((10, 10))\n",
        "print(q11)\n",
        "print(q11.min(), q11.max()) # 함수 사용시 () 뒤에 괄호 꼭 붙이기"
      ],
      "id": "911c9b93",
      "execution_count": null,
      "outputs": [
        {
          "output_type": "stream",
          "name": "stdout",
          "text": [
            "[[0.80651213 0.66287986 0.35940914 0.65777399 0.22532615 0.17222427\n",
            "  0.73119256 0.54241892 0.59109831 0.09788637]\n",
            " [0.70108808 0.14353245 0.54872561 0.2462446  0.51769933 0.56391362\n",
            "  0.05704498 0.56824207 0.62315259 0.57151593]\n",
            " [0.83254837 0.46432535 0.00139336 0.60773741 0.72735827 0.20427311\n",
            "  0.08128714 0.34751139 0.0427396  0.22031683]\n",
            " [0.55558085 0.08382465 0.59793744 0.08868955 0.3346046  0.5647525\n",
            "  0.16106193 0.79310507 0.18583745 0.88383432]\n",
            " [0.72095319 0.35254721 0.08550481 0.57634576 0.34337452 0.6529888\n",
            "  0.16340107 0.73043687 0.58731236 0.25206798]\n",
            " [0.64393494 0.99966935 0.68090098 0.01962915 0.86244961 0.61866005\n",
            "  0.61466905 0.34498116 0.11153266 0.10525806]\n",
            " [0.27893311 0.60911073 0.3699117  0.11183492 0.43185148 0.94882301\n",
            "  0.50370212 0.58371032 0.26717334 0.44118974]\n",
            " [0.21906773 0.88708319 0.01367875 0.66552474 0.55297038 0.88030722\n",
            "  0.85420818 0.0596087  0.8598609  0.02752391]\n",
            " [0.83645055 0.26537856 0.29776075 0.62748203 0.69448654 0.19672093\n",
            "  0.89332228 0.90767809 0.07838383 0.63218402]\n",
            " [0.21299145 0.48479019 0.85454055 0.25689159 0.80347113 0.83737412\n",
            "  0.12091474 0.18852212 0.71204801 0.96296514]]\n",
            "0.0013933556672611758 0.9996693525873143\n"
          ]
        }
      ]
    },
    {
      "cell_type": "markdown",
      "metadata": {
        "id": "3fa2e461"
      },
      "source": [
        "#### 13. Create a random vector of size 30 and find the **mean** value (★☆☆)"
      ],
      "id": "3fa2e461"
    },
    {
      "cell_type": "code",
      "metadata": {
        "id": "323eb38a",
        "colab": {
          "base_uri": "https://localhost:8080/"
        },
        "outputId": "77c5f358-2cf2-4d6b-df03-d016316d6b4f"
      },
      "source": [
        "q11 = np.random.random((30))\n",
        "print(q11)\n",
        "print('mean:', q11.mean())"
      ],
      "id": "323eb38a",
      "execution_count": null,
      "outputs": [
        {
          "output_type": "stream",
          "name": "stdout",
          "text": [
            "[0.37518068 0.6231388  0.64346857 0.14068311 0.49829861 0.30402185\n",
            " 0.11465569 0.20382151 0.92744702 0.31402118 0.8213977  0.68760971\n",
            " 0.10772351 0.80597544 0.69315055 0.74740662 0.24087766 0.57622037\n",
            " 0.02713381 0.68850514 0.19317859 0.0989353  0.18564132 0.88295511\n",
            " 0.67895556 0.2536385  0.36978176 0.3826691  0.95971227 0.27287601]\n",
            "mean: 0.46063603472447856\n"
          ]
        }
      ]
    },
    {
      "cell_type": "markdown",
      "metadata": {
        "id": "73f7a549"
      },
      "source": [
        "#### 14. Create a 2d array with 1 on the border and 0 inside (★☆☆)"
      ],
      "id": "73f7a549"
    },
    {
      "cell_type": "code",
      "metadata": {
        "id": "e3a6807d",
        "colab": {
          "base_uri": "https://localhost:8080/"
        },
        "outputId": "20855fe5-13c5-446c-d693-9dc558d034ae"
      },
      "source": [
        "x = np.ones((5,5))\n",
        "print(x)\n",
        "print(\"1 on the border and 0 inside in the array\")\n",
        "x[1:-1,1:-1] = 0\n",
        "print(x)"
      ],
      "id": "e3a6807d",
      "execution_count": null,
      "outputs": [
        {
          "output_type": "stream",
          "name": "stdout",
          "text": [
            "[[1. 1. 1. 1. 1.]\n",
            " [1. 1. 1. 1. 1.]\n",
            " [1. 1. 1. 1. 1.]\n",
            " [1. 1. 1. 1. 1.]\n",
            " [1. 1. 1. 1. 1.]]\n",
            "1 on the border and 0 inside in the array\n",
            "[[1. 1. 1. 1. 1.]\n",
            " [1. 0. 0. 0. 1.]\n",
            " [1. 0. 0. 0. 1.]\n",
            " [1. 0. 0. 0. 1.]\n",
            " [1. 1. 1. 1. 1.]]\n"
          ]
        }
      ]
    },
    {
      "cell_type": "markdown",
      "metadata": {
        "id": "d6ad1a9f"
      },
      "source": [
        "#### 15. What is the result of the following expression? (★☆☆)\n",
        "```python\n",
        "0 * np.nan\n",
        "np.nan == np.nan\n",
        "np.inf > np.nan\n",
        "np.nan - np.nan\n",
        "np.nan in set([np.nan])\n",
        "0.3 == 3 * 0.1\n",
        "```"
      ],
      "id": "d6ad1a9f"
    },
    {
      "cell_type": "code",
      "metadata": {
        "id": "ee7ff0f3",
        "colab": {
          "base_uri": "https://localhost:8080/"
        },
        "outputId": "d903df5a-140c-431c-8892-91c2f0938222"
      },
      "source": [
        "print(0 * np.nan)  ###\n",
        "print(np.nan == np.nan)\n",
        "print(np.inf > np.nan)\n",
        "print(np.nan - np.nan)\n",
        "print(np.nan in set([np.nan]))\n",
        "print(0.3 == 3 * 0.1)"
      ],
      "id": "ee7ff0f3",
      "execution_count": null,
      "outputs": [
        {
          "output_type": "stream",
          "name": "stdout",
          "text": [
            "nan\n",
            "False\n",
            "False\n",
            "nan\n",
            "True\n",
            "False\n"
          ]
        }
      ]
    },
    {
      "cell_type": "markdown",
      "metadata": {
        "id": "e3a7ba7f"
      },
      "source": [
        "#### 16. Create a 5x5 matrix with values 1,2,3,4 just below the **diag**onal (★☆☆)"
      ],
      "id": "e3a7ba7f"
    },
    {
      "cell_type": "code",
      "metadata": {
        "id": "01d8e257",
        "colab": {
          "base_uri": "https://localhost:8080/"
        },
        "outputId": "7b8ca37c-e59b-48cb-8642-1bfa916f8783"
      },
      "source": [
        "x = np.diag(1+np.arange(4),k=-1)\n",
        "print(x)"
      ],
      "id": "01d8e257",
      "execution_count": null,
      "outputs": [
        {
          "output_type": "stream",
          "name": "stdout",
          "text": [
            "[[0 0 0 0 0]\n",
            " [1 0 0 0 0]\n",
            " [0 2 0 0 0]\n",
            " [0 0 3 0 0]\n",
            " [0 0 0 4 0]]\n"
          ]
        }
      ]
    },
    {
      "cell_type": "markdown",
      "metadata": {
        "id": "6d17ab5d"
      },
      "source": [
        "#### 17. Create a 8x8 matrix and fill it with a checkerboard pattern (★☆☆)"
      ],
      "id": "6d17ab5d"
    },
    {
      "cell_type": "code",
      "metadata": {
        "id": "841373cd",
        "colab": {
          "base_uri": "https://localhost:8080/"
        },
        "outputId": "570c00c7-96ed-4fa3-d9b6-02f7e0906b37"
      },
      "source": [
        "x = np.zeros((8,8))\n",
        "print(x)\n",
        "x[1::2, ::2 ] = 1\n",
        "x[::2, 1::2 ] = 1\n",
        "print(x)"
      ],
      "id": "841373cd",
      "execution_count": null,
      "outputs": [
        {
          "output_type": "stream",
          "name": "stdout",
          "text": [
            "[[0. 0. 0. 0. 0. 0. 0. 0.]\n",
            " [0. 0. 0. 0. 0. 0. 0. 0.]\n",
            " [0. 0. 0. 0. 0. 0. 0. 0.]\n",
            " [0. 0. 0. 0. 0. 0. 0. 0.]\n",
            " [0. 0. 0. 0. 0. 0. 0. 0.]\n",
            " [0. 0. 0. 0. 0. 0. 0. 0.]\n",
            " [0. 0. 0. 0. 0. 0. 0. 0.]\n",
            " [0. 0. 0. 0. 0. 0. 0. 0.]]\n",
            "[[0. 1. 0. 1. 0. 1. 0. 1.]\n",
            " [1. 0. 1. 0. 1. 0. 1. 0.]\n",
            " [0. 1. 0. 1. 0. 1. 0. 1.]\n",
            " [1. 0. 1. 0. 1. 0. 1. 0.]\n",
            " [0. 1. 0. 1. 0. 1. 0. 1.]\n",
            " [1. 0. 1. 0. 1. 0. 1. 0.]\n",
            " [0. 1. 0. 1. 0. 1. 0. 1.]\n",
            " [1. 0. 1. 0. 1. 0. 1. 0.]]\n"
          ]
        }
      ]
    },
    {
      "cell_type": "markdown",
      "metadata": {
        "id": "8837119b"
      },
      "source": [
        "#### 18. Consider a (6,7,8) shape array, what is the index (x,y,z) of the 100th element? (★☆☆)\n",
        "Hint : use 'numpy.unravel_index(value, (x, y, z))"
      ],
      "id": "8837119b"
    },
    {
      "cell_type": "code",
      "metadata": {
        "id": "2c0d16f1",
        "colab": {
          "base_uri": "https://localhost:8080/"
        },
        "outputId": "877dcd85-a65b-4b04-9aae-544e8b8c1b55"
      },
      "source": [
        "x = np.unravel_index(100, (6, 7, 8)) #####\n",
        "print(x)"
      ],
      "id": "2c0d16f1",
      "execution_count": null,
      "outputs": [
        {
          "output_type": "stream",
          "name": "stdout",
          "text": [
            "(1, 5, 4)\n"
          ]
        }
      ]
    },
    {
      "cell_type": "markdown",
      "metadata": {
        "id": "391791e0"
      },
      "source": [
        "#### 19. Normalize a 5x5 random matrix (★☆☆)\n",
        "Hint : $Z = \\frac{X - \\overline{X}}{S}$"
      ],
      "id": "391791e0"
    },
    {
      "cell_type": "code",
      "metadata": {
        "id": "f6533d39",
        "colab": {
          "base_uri": "https://localhost:8080/"
        },
        "outputId": "f3cf36f5-2281-463e-8886-371a82b7a503"
      },
      "source": [
        "x = np.random.random((5,5))\n",
        "print(x)\n",
        "z = (x - (np.mean(x)))/(np.std(x))\n",
        "print(z)\n",
        "\n",
        "y = (x - (x.mean()))/(x.std())\n",
        "print(y)"
      ],
      "id": "f6533d39",
      "execution_count": null,
      "outputs": [
        {
          "output_type": "stream",
          "name": "stdout",
          "text": [
            "[[0.72472426 0.58443599 0.31098351 0.19210487 0.224505  ]\n",
            " [0.35017904 0.07023651 0.30616236 0.02617071 0.77509515]\n",
            " [0.05207876 0.17860904 0.63442268 0.0477328  0.79265349]\n",
            " [0.87097326 0.70241072 0.25887416 0.65653779 0.69137337]\n",
            " [0.57963633 0.82000882 0.53567189 0.79773044 0.72205132]]\n",
            "[[ 0.88916134  0.38721365 -0.59119205 -1.01653666 -0.90060986]\n",
            " [-0.45095147 -1.4525784  -0.60844198 -1.61024467  1.06938703]\n",
            " [-1.51754635 -1.0648244   0.56606469 -1.53309607  1.13221032]\n",
            " [ 1.41243636  0.80932407 -0.7776379   0.64519195  0.76983273]\n",
            " [ 0.37004059  1.23008696  0.21273699  1.1503755   0.87959761]]\n",
            "[[ 0.88916134  0.38721365 -0.59119205 -1.01653666 -0.90060986]\n",
            " [-0.45095147 -1.4525784  -0.60844198 -1.61024467  1.06938703]\n",
            " [-1.51754635 -1.0648244   0.56606469 -1.53309607  1.13221032]\n",
            " [ 1.41243636  0.80932407 -0.7776379   0.64519195  0.76983273]\n",
            " [ 0.37004059  1.23008696  0.21273699  1.1503755   0.87959761]]\n"
          ]
        }
      ]
    },
    {
      "cell_type": "markdown",
      "metadata": {
        "id": "1e74d39e"
      },
      "source": [
        "#### 20. Create a custom dtype that describes a color as four unsigned bytes (RGBA) (★☆☆)\n",
        "Hint : modify the code below\n",
        "```python\n",
        "numpy.dtype([(value, numpy.ubyte), … , (value, numpy.ubyte)])\n",
        "```"
      ],
      "id": "1e74d39e"
    },
    {
      "cell_type": "code",
      "metadata": {
        "id": "3f639d33"
      },
      "source": [
        "\n",
        "color = np.dtype([(\"r\", np.ubyte),\n",
        "                  (\"g\", np.ubyte),\n",
        "                  (\"b\", np.ubyte),\n",
        "                  (\"a\", np.ubyte)])\n",
        "\n",
        "my_color = np.array((255, 128, 64, 192), dtype=color)\n",
        "\n",
        "# 색상 정보 출력\n",
        "print(\"빨강:\", my_color[\"r\"])\n",
        "print(\"초록:\", my_color[\"g\"])\n",
        "print(\"파랑:\", my_color[\"b\"])\n",
        "print(\"투명도:\", my_color[\"a\"])\n",
        "\n",
        "# 다른 색상 생성\n",
        "another_color = np.array((128, 192, 255, 128), dtype=color)\n",
        "\n",
        "# 색상 정보 출력\n",
        "print(\"\\n빨강:\", another_color[\"r\"])\n",
        "print(\"초록:\", another_color[\"g\"])\n",
        "print(\"파랑:\", another_color[\"b\"])\n",
        "print(\"투명도:\", another_color[\"a\"])\n",
        "\n",
        "##이렇게 color 데이터 타입을 활용하면 색상 정보를 구조화된 방식으로 저장하고\n",
        "##다룰 수 있으며, 각 색상 채널에 쉽게 액세스할 수 있습니다."
      ],
      "id": "3f639d33",
      "execution_count": 4,
      "outputs": []
    },
    {
      "cell_type": "markdown",
      "metadata": {
        "id": "78250c14"
      },
      "source": [
        "#### 21. Multiply a 5x3 matrix by a 3x2 matrix (real matrix product) (★☆☆)"
      ],
      "id": "78250c14"
    },
    {
      "cell_type": "code",
      "metadata": {
        "id": "9fe729cb",
        "colab": {
          "base_uri": "https://localhost:8080/"
        },
        "outputId": "378fd18a-133f-4069-b949-cd401be0a25a"
      },
      "source": [
        "array21 = np.dot(np.ones((5,3)), np.ones((3,2)))\n",
        "print(array21)"
      ],
      "id": "9fe729cb",
      "execution_count": 5,
      "outputs": [
        {
          "output_type": "stream",
          "name": "stdout",
          "text": [
            "[[3. 3.]\n",
            " [3. 3.]\n",
            " [3. 3.]\n",
            " [3. 3.]\n",
            " [3. 3.]]\n"
          ]
        }
      ]
    },
    {
      "cell_type": "markdown",
      "metadata": {
        "id": "51898680"
      },
      "source": [
        "#### 22. Given a 1D array, negate all elements which are between 3 and 8, in place. (★☆☆)"
      ],
      "id": "51898680"
    },
    {
      "cell_type": "code",
      "metadata": {
        "id": "51c90f2d",
        "colab": {
          "base_uri": "https://localhost:8080/"
        },
        "outputId": "d7676c68-3800-4d3e-e90a-78b094c8b271"
      },
      "source": [
        "#\"in place\"는 새로운 배열을 생성하지 말고 주어진 배열 자체를 수정하라\n",
        "\n",
        "array22 = np.arange(11)\n",
        "array22[ ( 3 < array22 ) & ( array22 < 8 )] *= -1 # 인덱싱 기능을 사용\n",
        "print(array22)"
      ],
      "id": "51c90f2d",
      "execution_count": 6,
      "outputs": [
        {
          "output_type": "stream",
          "name": "stdout",
          "text": [
            "[ 0  1  2  3 -4 -5 -6 -7 -8  9 10]\n"
          ]
        }
      ]
    },
    {
      "cell_type": "markdown",
      "metadata": {
        "id": "89e78048"
      },
      "source": [
        "#### 23. What is the output of the following script? (★☆☆)\n",
        "```python\n",
        "# Author: Jake VanderPlas\n",
        "\n",
        "print(sum(range(5),-1))\n",
        "from numpy import *\n",
        "print(sum(range(5),-1))\n",
        "```"
      ],
      "id": "89e78048"
    },
    {
      "cell_type": "code",
      "metadata": {
        "id": "b62e9d1c",
        "colab": {
          "base_uri": "https://localhost:8080/"
        },
        "outputId": "f6fa6e0a-0de0-4a19-e0cc-2d3c946b3fe3"
      },
      "source": [
        "\n",
        "print(sum(range(5),-1)) #그냥 sum은 두번째인자를 첫번째 원소로 지정하여 합에 포함\n",
        "from numpy import *\n",
        "print(sum(range(5),-1))  #np sum은 두번째 인자의 축을 지정함"
      ],
      "id": "b62e9d1c",
      "execution_count": 7,
      "outputs": [
        {
          "output_type": "stream",
          "name": "stdout",
          "text": [
            "9\n",
            "10\n"
          ]
        }
      ]
    },
    {
      "cell_type": "markdown",
      "metadata": {
        "id": "ebd10810"
      },
      "source": [
        "#### 24. Consider an integer vector Z, which of these expressions are legal? (★☆☆)\n",
        "```python\n",
        "Z**Z\n",
        "2 << Z >> 2\n",
        "Z <- Z\n",
        "1j*Z\n",
        "Z/1/1\n",
        "Z<Z>Z\n",
        "```"
      ],
      "id": "ebd10810"
    },
    {
      "cell_type": "code",
      "metadata": {
        "id": "6ada209f",
        "colab": {
          "base_uri": "https://localhost:8080/"
        },
        "outputId": "08fb9995-bad6-4203-96bb-8d0aa7648a67"
      },
      "source": [
        "Z = np.array([1, 2, 3, 4, 5], dtype=int)\n",
        " # Z**Z\n",
        "# 2 << Z >> 2\n",
        "# Z <-  Z\n",
        "\n",
        "x = 1j * Z\n",
        "print(x)\n",
        "y = Z/1/1\n",
        "y\n",
        "# v = Z<Z>Z\n",
        "\n"
      ],
      "id": "6ada209f",
      "execution_count": 34,
      "outputs": [
        {
          "output_type": "stream",
          "name": "stdout",
          "text": [
            "[0.+1.j 0.+2.j 0.+3.j 0.+4.j 0.+5.j]\n"
          ]
        },
        {
          "output_type": "execute_result",
          "data": {
            "text/plain": [
              "array([1., 2., 3., 4., 5.])"
            ]
          },
          "metadata": {},
          "execution_count": 34
        }
      ]
    },
    {
      "cell_type": "code",
      "source": [
        "Z = np.array([1, 2, 3])\n",
        "\n",
        "# Z를 부호 반전\n",
        "result1 = -Z\n",
        "\n",
        "# Z에 1j를 곱함 (복소수로 변환)\n",
        "result2 = 1j * Z\n",
        "\n",
        "# Z를 1로 나누고 다시 1로 나눔 (변화 없음)\n",
        "result3 = Z / 1 / 1\n",
        "\n",
        "print(result1)  # [-1 -2 -3]\n",
        "print(result2)  # [0.+1.j 0.+2.j 0.+3.j]\n",
        "print(result3)  # [1. 2. 3.]\n",
        "\n",
        "\n",
        "\n",
        "\n",
        "\n"
      ],
      "metadata": {
        "colab": {
          "base_uri": "https://localhost:8080/"
        },
        "id": "n6NOx1M6nFdA",
        "outputId": "a8a9cdfa-bb45-45d1-c9ce-ac17dad162ca"
      },
      "id": "n6NOx1M6nFdA",
      "execution_count": 14,
      "outputs": [
        {
          "output_type": "stream",
          "name": "stdout",
          "text": [
            "[-1 -2 -3]\n",
            "[0.+1.j 0.+2.j 0.+3.j]\n",
            "[1. 2. 3.]\n"
          ]
        }
      ]
    },
    {
      "cell_type": "markdown",
      "metadata": {
        "id": "c0e940f8"
      },
      "source": [
        "#### 25. What are the result of the following expressions? (★☆☆)\n",
        "```python\n",
        "np.array(0) / np.array(0)\n",
        "np.array(0) // np.array(0)\n",
        "np.array([np.nan]).astype(int).astype(float)\n",
        "```"
      ],
      "id": "c0e940f8"
    },
    {
      "cell_type": "code",
      "metadata": {
        "id": "820dc7a5",
        "colab": {
          "base_uri": "https://localhost:8080/"
        },
        "outputId": "b2062200-77af-4907-a87b-2fc02d1e0faa"
      },
      "source": [
        "np.array(0) / np.array(0)\n",
        "np.array(0) // np.array(0)\n",
        "np.array([np.nan]).astype(int).astype(float)"
      ],
      "id": "820dc7a5",
      "execution_count": 36,
      "outputs": [
        {
          "output_type": "stream",
          "name": "stderr",
          "text": [
            "<ipython-input-36-ee897105b7c6>:1: RuntimeWarning: invalid value encountered in divide\n",
            "  np.array(0) / np.array(0)\n",
            "<ipython-input-36-ee897105b7c6>:2: RuntimeWarning: divide by zero encountered in floor_divide\n",
            "  np.array(0) // np.array(0)\n"
          ]
        },
        {
          "output_type": "execute_result",
          "data": {
            "text/plain": [
              "array([-9.22337204e+18])"
            ]
          },
          "metadata": {},
          "execution_count": 36
        }
      ]
    },
    {
      "cell_type": "markdown",
      "metadata": {
        "id": "f1ae2c2d"
      },
      "source": [
        "#### 26. How to find common values between two arrays? (★☆☆)\n",
        "```python\n",
        "Z1 = np.random.randint(0,10,10)\n",
        "Z2 = np.random.randint(0,10,10)\n",
        "```\n",
        "Hint : use `numpy.random.randint(start, end, size)`"
      ],
      "id": "f1ae2c2d"
    },
    {
      "cell_type": "code",
      "metadata": {
        "id": "6801c73d",
        "colab": {
          "base_uri": "https://localhost:8080/"
        },
        "outputId": "effd3da6-42fe-4f09-881d-ab3e16817152"
      },
      "source": [
        "\n",
        "Z1 = np.random.randint(0, 10, 10)\n",
        "Z2 = np.random.randint(0, 10, 10)\n",
        "\n",
        "common = np.intersect1d(Z1, Z2) #####np.intersect1d 함수 사용!\n",
        "print(common)\n"
      ],
      "id": "6801c73d",
      "execution_count": 43,
      "outputs": [
        {
          "output_type": "stream",
          "name": "stdout",
          "text": [
            "[0 1 4 5 6 9]\n"
          ]
        }
      ]
    },
    {
      "cell_type": "markdown",
      "metadata": {
        "id": "37bc0973"
      },
      "source": [
        "#### 27. Is the following expressions true? (★☆☆)\n",
        "```python\n",
        "np.sqrt(-1) == np.emath.sqrt(-1)\n",
        "```"
      ],
      "id": "37bc0973"
    },
    {
      "cell_type": "code",
      "metadata": {
        "id": "c70cbabe",
        "colab": {
          "base_uri": "https://localhost:8080/"
        },
        "outputId": "4647de57-aeda-4356-bd39-72a5fbbc9ff4"
      },
      "source": [
        "print(np.sqrt(-1) == np.emath.sqrt(-1))\n",
        "print(np.allclose(np.sqrt(-1) , np.emath.sqrt(-1)))"
      ],
      "id": "c70cbabe",
      "execution_count": 50,
      "outputs": [
        {
          "output_type": "stream",
          "name": "stdout",
          "text": [
            "False\n",
            "False\n"
          ]
        },
        {
          "output_type": "stream",
          "name": "stderr",
          "text": [
            "<ipython-input-50-4ed0071ab13e>:1: RuntimeWarning: invalid value encountered in sqrt\n",
            "  print(np.sqrt(-1) == np.emath.sqrt(-1))\n",
            "<ipython-input-50-4ed0071ab13e>:2: RuntimeWarning: invalid value encountered in sqrt\n",
            "  print(np.allclose(np.sqrt(-1) , np.emath.sqrt(-1)))\n"
          ]
        }
      ]
    },
    {
      "cell_type": "markdown",
      "metadata": {
        "id": "42f8b2f9"
      },
      "source": [
        "#### 28. How to get all the dates corresponding to the month of July 2016? (★★☆)\n",
        "Hint : modify the code below\n",
        "```python\n",
        "Z = np.arange('start', 'end', dtype='datetime64[D]')\n",
        "```"
      ],
      "id": "42f8b2f9"
    },
    {
      "cell_type": "code",
      "source": [
        "Z = np.arange('2016-07', '2016-08', dtype='datetime64[D]')\n",
        "Z"
      ],
      "metadata": {
        "id": "3kkl01x3x0NF",
        "colab": {
          "base_uri": "https://localhost:8080/"
        },
        "outputId": "94e9f165-5e1a-4578-b8a6-64d6b921f769"
      },
      "id": "3kkl01x3x0NF",
      "execution_count": 51,
      "outputs": [
        {
          "output_type": "execute_result",
          "data": {
            "text/plain": [
              "array(['2016-07-01', '2016-07-02', '2016-07-03', '2016-07-04',\n",
              "       '2016-07-05', '2016-07-06', '2016-07-07', '2016-07-08',\n",
              "       '2016-07-09', '2016-07-10', '2016-07-11', '2016-07-12',\n",
              "       '2016-07-13', '2016-07-14', '2016-07-15', '2016-07-16',\n",
              "       '2016-07-17', '2016-07-18', '2016-07-19', '2016-07-20',\n",
              "       '2016-07-21', '2016-07-22', '2016-07-23', '2016-07-24',\n",
              "       '2016-07-25', '2016-07-26', '2016-07-27', '2016-07-28',\n",
              "       '2016-07-29', '2016-07-30', '2016-07-31'], dtype='datetime64[D]')"
            ]
          },
          "metadata": {},
          "execution_count": 51
        }
      ]
    },
    {
      "cell_type": "markdown",
      "metadata": {
        "id": "252c43e2"
      },
      "source": [
        "#### 29. How to compute ((A+B)*(-A/2)) in place (without copy)? (★★☆)\n",
        "Hint : use `numpy.add`, `numpy.divide`,`numpy.negative`, `numpy.multiply` and parameter `out` of the funtions"
      ],
      "id": "252c43e2"
    },
    {
      "cell_type": "code",
      "metadata": {
        "id": "f06ff615",
        "colab": {
          "base_uri": "https://localhost:8080/"
        },
        "outputId": "7f8ed0dc-16c2-4877-c16b-b81f9cc3b683"
      },
      "source": [
        "A = np.ones(3)*1\n",
        "B = np.ones(3)*2\n",
        "np.add(A,B,out=B)\n",
        "np.divide(A,2,out=A)\n",
        "np.negative(A,out=A)\n",
        "np.multiply(A,B,out=A)"
      ],
      "id": "f06ff615",
      "execution_count": 52,
      "outputs": [
        {
          "output_type": "execute_result",
          "data": {
            "text/plain": [
              "array([-1.5, -1.5, -1.5])"
            ]
          },
          "metadata": {},
          "execution_count": 52
        }
      ]
    },
    {
      "cell_type": "markdown",
      "metadata": {
        "id": "486df8ea"
      },
      "source": [
        "#### 30. Extract the integer part of a random array of positive numbers using 2 different methods (★★☆)\n",
        "Hint : `%`, `//`"
      ],
      "id": "486df8ea"
    },
    {
      "cell_type": "code",
      "metadata": {
        "id": "34b4fa08",
        "colab": {
          "base_uri": "https://localhost:8080/"
        },
        "outputId": "cda208f1-eeef-4812-92f4-400a0e50a83e"
      },
      "source": [
        "Z = np.random.uniform(0,10,10) #(min,max,size)\n",
        "print(Z - Z%1) #1로 나눈 나머지를 뺀다. 즉 정수화 ok\n",
        "print(Z // 1) #1로 나눈 몫을 계산\n",
        "print(np.floor(Z)) #np.floor 함수는 각 요소를 가장 가까운 작은 정수로 내림\n",
        "print(Z.astype(int))\n",
        "print(np.trunc(Z)) # np.trunc 함수는 각 요소를 소수점\n",
        "#이하를 버리고 가장 가까운 정수로 내립니다."
      ],
      "id": "34b4fa08",
      "execution_count": 57,
      "outputs": [
        {
          "output_type": "stream",
          "name": "stdout",
          "text": [
            "[4. 7. 5. 9. 0. 4. 3. 3. 6. 5.]\n",
            "[4. 7. 5. 9. 0. 4. 3. 3. 6. 5.]\n",
            "[4. 7. 5. 9. 0. 4. 3. 3. 6. 5.]\n",
            "[4 7 5 9 0 4 3 3 6 5]\n",
            "[4. 7. 5. 9. 0. 4. 3. 3. 6. 5.]\n"
          ]
        }
      ]
    },
    {
      "cell_type": "markdown",
      "metadata": {
        "id": "649e89f9"
      },
      "source": [
        "#### 31. Create a 5x5 matrix with row values ranging from 0 to 4 (★★☆)"
      ],
      "id": "649e89f9"
    },
    {
      "cell_type": "code",
      "metadata": {
        "id": "663cc611",
        "colab": {
          "base_uri": "https://localhost:8080/"
        },
        "outputId": "0ab181f6-695d-4fe6-8eea-8cc5a3a07988"
      },
      "source": [
        "Z = np.zeros((5,5))\n",
        "Z += np.arange(5)\n",
        "print(Z)\n",
        "\n",
        "#Z += np.arange(5) 코드는 배열 Z의 각 행에 [0, 1, 2, 3, 4]를 더합니다.\n",
        "#이 연산은 NumPy의 브로드캐스팅(broadcasting)을 활용하여\n",
        "#각 행에 해당하는 값을 더하는 것을 가능하게 합니다."
      ],
      "id": "663cc611",
      "execution_count": 58,
      "outputs": [
        {
          "output_type": "stream",
          "name": "stdout",
          "text": [
            "[[0. 1. 2. 3. 4.]\n",
            " [0. 1. 2. 3. 4.]\n",
            " [0. 1. 2. 3. 4.]\n",
            " [0. 1. 2. 3. 4.]\n",
            " [0. 1. 2. 3. 4.]]\n"
          ]
        }
      ]
    },
    {
      "cell_type": "markdown",
      "metadata": {
        "id": "2d07be1c"
      },
      "source": [
        "#### 32. Create a random vector of size 10 and sort it (★★☆)"
      ],
      "id": "2d07be1c"
    },
    {
      "cell_type": "code",
      "metadata": {
        "id": "4f7cb3ad",
        "colab": {
          "base_uri": "https://localhost:8080/"
        },
        "outputId": "ec120fab-8954-4cd6-db11-a70301bddd66"
      },
      "source": [
        "z = np.random.random(10)\n",
        "z.sort()\n",
        "z"
      ],
      "id": "4f7cb3ad",
      "execution_count": 60,
      "outputs": [
        {
          "output_type": "execute_result",
          "data": {
            "text/plain": [
              "array([0.00296907, 0.09167913, 0.17368971, 0.36982251, 0.45321898,\n",
              "       0.48019852, 0.58445938, 0.60745865, 0.87153998, 0.92961966])"
            ]
          },
          "metadata": {},
          "execution_count": 60
        }
      ]
    },
    {
      "cell_type": "markdown",
      "metadata": {
        "id": "fe043549"
      },
      "source": [
        "#### 33. Consider two random array A and B, check if they are equal (★★☆)\n",
        "```python\n",
        "A = np.random.randint(0,2,5)\n",
        "B = np.random.randint(0,2,5)\n",
        "```\n",
        "Hint : Use `numpy.array_equal()`"
      ],
      "id": "fe043549"
    },
    {
      "cell_type": "code",
      "metadata": {
        "id": "3326a686",
        "colab": {
          "base_uri": "https://localhost:8080/"
        },
        "outputId": "6496329c-42fd-47a2-b12c-74ab47a80876"
      },
      "source": [
        "A = np.random.randint(0,2,5)\n",
        "B = np.random.randint(0,2,5)\n",
        "np.array_equal(A, B)"
      ],
      "id": "3326a686",
      "execution_count": 62,
      "outputs": [
        {
          "output_type": "execute_result",
          "data": {
            "text/plain": [
              "False"
            ]
          },
          "metadata": {},
          "execution_count": 62
        }
      ]
    },
    {
      "cell_type": "markdown",
      "metadata": {
        "id": "2002cb03"
      },
      "source": [
        "#### 34. Consider a random 10x2 matrix representing cartesian coordinates, convert them to polar coordinates (★★☆)\n",
        "Hint 1 : Note that cartesian coodinate **(x, y)** can be represented as  polar coordinates **(distance from origin to (x,y), angle from the x-axis)**\n",
        "\n",
        "Hint 2 : Use `numpy.sqrt` and `numpy.arctan2`"
      ],
      "id": "2002cb03"
    },
    {
      "cell_type": "code",
      "metadata": {
        "id": "58be72bc",
        "colab": {
          "base_uri": "https://localhost:8080/"
        },
        "outputId": "66a728f8-91b7-4ed3-f42f-c5dc47a808e9"
      },
      "source": [
        "# 무작위로 생성된 10x2 카테시안 좌표 행렬 생성\n",
        "cartesian_coordinates = np.random.rand(10, 2)\n",
        "\n",
        "# 각 점의 x, y 좌표 추출\n",
        "x = cartesian_coordinates[:, 0]\n",
        "y = cartesian_coordinates[:, 1]\n",
        "\n",
        "# 원점으로부터의 거리 계산 (극좌표의 반지름)\n",
        "radius = np.sqrt(x**2 + y**2)\n",
        "\n",
        "# x축과 이루는 각도 계산 (극좌표의 각도)\n",
        "angle = np.arctan2(y, x)\n",
        "\n",
        "# 결과를 극좌표로 나타낸 행렬 생성\n",
        "polar_coordinates = np.column_stack((radius, angle))\n",
        "\n",
        "# 결과 출력\n",
        "print(\"카테시안 좌표:\")\n",
        "print(cartesian_coordinates)\n",
        "print(\"\\n극좌표:\")\n",
        "print(polar_coordinates)\n",
        "\n"
      ],
      "id": "58be72bc",
      "execution_count": 63,
      "outputs": [
        {
          "output_type": "stream",
          "name": "stdout",
          "text": [
            "카테시안 좌표:\n",
            "[[0.39503878 0.73952483]\n",
            " [0.82107519 0.53441985]\n",
            " [0.59071179 0.9396652 ]\n",
            " [0.25259655 0.07996631]\n",
            " [0.62347404 0.2167414 ]\n",
            " [0.33573707 0.02243041]\n",
            " [0.95443156 0.23846968]\n",
            " [0.71089574 0.19936662]\n",
            " [0.08966807 0.1624731 ]\n",
            " [0.61304518 0.05102073]]\n",
            "\n",
            "극좌표:\n",
            "[[0.8384227  1.08018068]\n",
            " [0.97967803 0.57699225]\n",
            " [1.10991491 1.00958327]\n",
            " [0.26495212 0.306595  ]\n",
            " [0.66007326 0.33456636]\n",
            " [0.33648552 0.06671033]\n",
            " [0.98377202 0.24484237]\n",
            " [0.73832229 0.27342061]\n",
            " [0.18557444 1.06649952]\n",
            " [0.61516462 0.08303372]]\n"
          ]
        }
      ]
    },
    {
      "cell_type": "markdown",
      "metadata": {
        "id": "b7109c9f"
      },
      "source": [
        "#### 35. Create random vector Z of size 10 and replace the maximum value by 0 (★★☆)\n",
        "Hint : We can see the index of maximum value using `Z.argmax()`"
      ],
      "id": "b7109c9f"
    },
    {
      "cell_type": "code",
      "metadata": {
        "id": "f79e79a7",
        "colab": {
          "base_uri": "https://localhost:8080/"
        },
        "outputId": "a3016943-f1a5-40e4-9050-2312e53c2240"
      },
      "source": [
        "Z = np.random.random(10)\n",
        "Z[Z.argmax()] = 0 #Z.argmax() 큰값의 인덱스를 찾는다\n",
        "print(Z)"
      ],
      "id": "f79e79a7",
      "execution_count": 64,
      "outputs": [
        {
          "output_type": "stream",
          "name": "stdout",
          "text": [
            "[0.65078061 0.3167824  0.54502101 0.         0.16406093 0.60719152\n",
            " 0.19960429 0.67220698 0.3708477  0.42943969]\n"
          ]
        }
      ]
    },
    {
      "cell_type": "markdown",
      "metadata": {
        "id": "e6e1ae2f"
      },
      "source": [
        "#### 36. How to find the closest value (to a given scalar v) in a vector Z? (★★☆)\n",
        "```python\n",
        "Z = np.arange(100)\n",
        "v = np.random.uniform(0,100)\n",
        "```\n",
        "Hint : Coumpute the distances between the each elements of Z and the scalar v. After that, we can see the index of minimum value using `argmin()`.  "
      ],
      "id": "e6e1ae2f"
    },
    {
      "cell_type": "code",
      "source": [
        "Z = np.arange(100)\n",
        "v = np.random.uniform(0,100)\n",
        "index = (np.abs(Z-v)).argmin()\n",
        "print(Z[index])"
      ],
      "metadata": {
        "id": "QkQ2Mii77FrE",
        "colab": {
          "base_uri": "https://localhost:8080/"
        },
        "outputId": "1aef6a93-639c-4bc5-fa36-7e5d19bf39e0"
      },
      "id": "QkQ2Mii77FrE",
      "execution_count": 65,
      "outputs": [
        {
          "output_type": "stream",
          "name": "stdout",
          "text": [
            "87\n"
          ]
        }
      ]
    },
    {
      "cell_type": "markdown",
      "metadata": {
        "id": "f98713a6"
      },
      "source": [
        "#### 37. What is the equivalent of enumerate for numpy arrays? (★★☆)\n",
        "Hint : Use `numpy.ndenumerate()`or `numpy.ndindex()`\n",
        "\n",
        "Example of the output :\n",
        "```python\n",
        "Z = np.arange(9).reshape(3,3)\n",
        "```\n",
        "```python\n",
        "# output\n",
        "(0, 0) 0\n",
        "(0, 1) 1\n",
        "(0, 2) 2\n",
        "(1, 0) 3\n",
        "(1, 1) 4\n",
        "(1, 2) 5\n",
        "(2, 0) 6\n",
        "(2, 1) 7\n",
        "(2, 2) 8\n",
        "```"
      ],
      "id": "f98713a6"
    },
    {
      "cell_type": "code",
      "metadata": {
        "id": "64795f84",
        "colab": {
          "base_uri": "https://localhost:8080/"
        },
        "outputId": "3db8ecf0-37aa-4d5b-81a9-7e2c4b38adca"
      },
      "source": [
        "\n",
        "Z = np.arange(9).reshape(3, 3)\n",
        "\n",
        "for index, value in np.ndenumerate(Z):\n",
        "    print(index, value)"
      ],
      "id": "64795f84",
      "execution_count": 66,
      "outputs": [
        {
          "output_type": "stream",
          "name": "stdout",
          "text": [
            "(0, 0) 0\n",
            "(0, 1) 1\n",
            "(0, 2) 2\n",
            "(1, 0) 3\n",
            "(1, 1) 4\n",
            "(1, 2) 5\n",
            "(2, 0) 6\n",
            "(2, 1) 7\n",
            "(2, 2) 8\n"
          ]
        }
      ]
    },
    {
      "cell_type": "markdown",
      "metadata": {
        "id": "0cf413ee"
      },
      "source": [
        "#### 38. How to randomly place p elements in a 2D array? (★★☆)\n",
        "Hint : modify the code below\n",
        "```python\n",
        "n = 'size of a 2D array'\n",
        "p = 'the number of elements that you want to place'\n",
        "Z = np.zeros((n,n))\n",
        "np.put(Z, np.random.choice(range(n*n), p, replace = False),'value that you want to place')\n",
        "print(Z)\n",
        "```"
      ],
      "id": "0cf413ee"
    },
    {
      "cell_type": "code",
      "metadata": {
        "id": "dfc57e06",
        "colab": {
          "base_uri": "https://localhost:8080/"
        },
        "outputId": "7d090bce-7c8c-4f1a-f44d-e005b46f3ad9"
      },
      "source": [
        "n = 'size of a 2D array'\n",
        "p = 'the number of elements that you want to place'\n",
        "Z = np.zeros((5, 5))\n",
        "\n",
        "# 임의의 요소 위치를 선택하여 해당 위치에 값을 배치\n",
        "random_indices = np.random.choice(range(5 * 5), 5, replace=False)\n",
        "values_to_place = 55  # 원하는 값을 지정\n",
        "\n",
        "np.put(Z, random_indices, values_to_place)\n",
        "print(Z)"
      ],
      "id": "dfc57e06",
      "execution_count": 72,
      "outputs": [
        {
          "output_type": "stream",
          "name": "stdout",
          "text": [
            "[[ 0.  0.  0.  0.  0.]\n",
            " [55. 55. 55.  0.  0.]\n",
            " [ 0.  0.  0.  0.  0.]\n",
            " [55.  0.  0.  0.  0.]\n",
            " [55.  0.  0.  0.  0.]]\n"
          ]
        }
      ]
    },
    {
      "cell_type": "markdown",
      "metadata": {
        "id": "c0cf37e0"
      },
      "source": [
        "#### 39. How to sort an array below by the nth column? (★★☆)\n",
        "```python\n",
        "Z = np.random.randint(0,10,(3,3))\n",
        "```"
      ],
      "id": "c0cf37e0"
    },
    {
      "cell_type": "code",
      "metadata": {
        "id": "9336ca5f",
        "colab": {
          "base_uri": "https://localhost:8080/"
        },
        "outputId": "3552283d-a441-4c97-ce08-01bededc7bdb"
      },
      "source": [
        "# column 1\n",
        "Z = np.random.randint(0, 10, (3, 3))\n",
        "\n",
        "# n번째 열을 기준으로 정렬\n",
        "n = '원하는 열의 인덱스'\n",
        "sorted_Z = Z[Z[:, 0].argsort()]\n",
        "\n",
        "print(\"원본 배열:\")\n",
        "print(Z)\n",
        "\n",
        "print(\"\\n정렬된 배열:\")\n",
        "print(sorted_Z)"
      ],
      "id": "9336ca5f",
      "execution_count": 77,
      "outputs": [
        {
          "output_type": "stream",
          "name": "stdout",
          "text": [
            "원본 배열:\n",
            "[[2 5 0]\n",
            " [9 5 8]\n",
            " [4 9 4]]\n",
            "\n",
            "정렬된 배열:\n",
            "[[2 5 0]\n",
            " [4 9 4]\n",
            " [9 5 8]]\n"
          ]
        }
      ]
    },
    {
      "cell_type": "code",
      "source": [
        "# column 2\n",
        "Z = np.random.randint(0, 10, (3, 3))\n",
        "\n",
        "# n번째 열을 기준으로 정렬\n",
        "n = '원하는 열의 인덱스'\n",
        "sorted_Z = Z[Z[:, 1].argsort()]\n",
        "\n",
        "print(\"원본 배열:\")\n",
        "print(Z)\n",
        "\n",
        "print(\"\\n정렬된 배열:\")\n",
        "print(sorted_Z)"
      ],
      "metadata": {
        "id": "0hZzZ6tn2K6V",
        "colab": {
          "base_uri": "https://localhost:8080/"
        },
        "outputId": "8462050f-010a-4fc6-9d01-f2082cfb7cd1"
      },
      "id": "0hZzZ6tn2K6V",
      "execution_count": 78,
      "outputs": [
        {
          "output_type": "stream",
          "name": "stdout",
          "text": [
            "원본 배열:\n",
            "[[6 5 2]\n",
            " [9 9 4]\n",
            " [3 7 1]]\n",
            "\n",
            "정렬된 배열:\n",
            "[[6 5 2]\n",
            " [3 7 1]\n",
            " [9 9 4]]\n"
          ]
        }
      ]
    },
    {
      "cell_type": "code",
      "source": [
        "# column 3\n",
        "Z = np.random.randint(0, 10, (3, 3))\n",
        "\n",
        "# n번째 열을 기준으로 정렬\n",
        "n = '원하는 열의 인덱스'\n",
        "sorted_Z = Z[Z[:, 2].argsort()] #3이 최대이니까 -1 하여 2 사용\n",
        "# sorted_Z = Z[:, 2].argsort()\n",
        "# 해당 Z만뽑혀서 정렬된 배열 모양이 아래처럼 한줄만 뽑혀서 나옴.\n",
        "#원본에서 바뀐 것을 비교하고 싶으면 위 처럼 짜야함.\n",
        "# 정렬된 배열:\n",
        "#[1 0 2]\n",
        "print(\"원본 배열:\")\n",
        "print(Z)\n",
        "\n",
        "print(\"\\n정렬된 배열:\")\n",
        "print(sorted_Z)"
      ],
      "metadata": {
        "id": "z4zqQXvt2NaB",
        "colab": {
          "base_uri": "https://localhost:8080/"
        },
        "outputId": "a452c76b-9650-4ae6-a4c2-c47ded3bc75a"
      },
      "id": "z4zqQXvt2NaB",
      "execution_count": 83,
      "outputs": [
        {
          "output_type": "stream",
          "name": "stdout",
          "text": [
            "원본 배열:\n",
            "[[6 4 0]\n",
            " [8 8 7]\n",
            " [1 2 4]]\n",
            "\n",
            "정렬된 배열:\n",
            "[[6 4 0]\n",
            " [1 2 4]\n",
            " [8 8 7]]\n"
          ]
        }
      ]
    }
  ]
}
