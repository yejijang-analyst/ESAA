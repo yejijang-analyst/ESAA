{
  "nbformat": 4,
  "nbformat_minor": 0,
  "metadata": {
    "colab": {
      "provenance": [],
      "authorship_tag": "ABX9TyN27JtYt3hh2B9dajlkEhPd",
      "include_colab_link": true
    },
    "kernelspec": {
      "name": "python3",
      "display_name": "Python 3"
    },
    "language_info": {
      "name": "python"
    }
  },
  "cells": [
    {
      "cell_type": "markdown",
      "metadata": {
        "id": "view-in-github",
        "colab_type": "text"
      },
      "source": [
        "<a href=\"https://colab.research.google.com/github/yejijang-analyst/ESAA/blob/main/6_1_Classification(2).ipynb\" target=\"_parent\"><img src=\"https://colab.research.google.com/assets/colab-badge.svg\" alt=\"Open In Colab\"/></a>"
      ]
    },
    {
      "cell_type": "markdown",
      "source": [
        "# **[개념정리]**\n",
        "\n",
        "# **Classification(2)**\n",
        "\n",
        "**XGBoost**\n",
        "- GBM 기반으로 최근 가장 강력한 머신러닝 알고리즘 중 하나로 각광받고 있음\n",
        "- GBM의 단점을 보완하는데 수행 시간 단축 및 과적합 규제 부재 등의 문제를 해결\n",
        "- 분류에 있어서 뛰어난 성능을 보이는 것은 물론 과적합 규제에 뛰어나다\n",
        "\n",
        "> XGBoost 모델 학습의 하이퍼 파라미터\n",
        "- 하이퍼 파라미터를 train()함수에 파라미터로 전달\n",
        "(사이킷런의 경우는 Estimator의 생성자를 하이퍼 파라미터로 전달)\n",
        "- 하이퍼파라미터 종류: max_depth, eta , binary logistic (이진 분류일 때), logloss, num_rounds 부스팅 반복 횟수\n",
        "  \n",
        "\n",
        "*   eval_metric : 평가 세트에 적용할 성능 평가 방법. 분류일 경우 주로 \"error\"나  \"logloss\"를 적용\n",
        "*    eval_set : 성능 평가를 수행할 평가용 데이터 세트를 설정\n",
        "\n",
        "\n",
        "**LightGBM**\n",
        "- XGBoost와 비슷한 성능을 보이며 학습시간 단축\n",
        "- 리프 중심 트리 분할 방식 이용하는데 원-핫 인코딩 등을 사용하지 않고도, 카테고리형 피처를 최적으로 변환\n",
        "> - 기존의 균형 트리 분할 방식 : 트리의 깊이가 최소화하고 오버피팅에 보다 더 강한 구조를 가질 수 있다\n",
        "> - 리프 중심 트리 방식 : 트리의 균형 맞추지 않고 최대 손실 값을 가지는 리프노드를 지속적으로 분할하면서 트리의 깊이는 깊어지고 비대칭적인 트리 생성, 예측 오류 손실 최소화 (* LightGBM은 XGboost와 다르게 리프 노드가 계속 분할되면서 트리의 깊이가 깊어지므로 이러한 트리 특성에 맞는 하이퍼 파라미터 설정이 필요함 (ex) max_depth 큰 값))\n",
        "\n",
        "\n",
        "\n"
      ],
      "metadata": {
        "id": "8yeHpD4Ehxuj"
      }
    },
    {
      "cell_type": "code",
      "execution_count": null,
      "metadata": {
        "id": "-m3e7wzThIbx"
      },
      "outputs": [],
      "source": [
        "import xgboost as xgb\n",
        "from xgboost import XGBClassifier"
      ]
    },
    {
      "cell_type": "code",
      "source": [
        "import xgboost\n",
        "\n",
        "print(xgboost.__version__)"
      ],
      "metadata": {
        "colab": {
          "base_uri": "https://localhost:8080/"
        },
        "id": "k0H_rHfujrj2",
        "outputId": "d1f24215-ce72-40d1-9a2f-12f89765870b"
      },
      "execution_count": null,
      "outputs": [
        {
          "output_type": "stream",
          "name": "stdout",
          "text": [
            "2.0.0\n"
          ]
        }
      ]
    },
    {
      "cell_type": "code",
      "source": [
        "import xgboost as xgb\n",
        "from xgboost import plot_importance\n",
        "import pandas as pd\n",
        "import numpy as np\n",
        "from sklearn.datasets import load_breast_cancer\n",
        "from sklearn.model_selection import train_test_split\n",
        "import warnings\n",
        "warnings.filterwarnings(\"ignore\")"
      ],
      "metadata": {
        "id": "nVx9sFFGjrro"
      },
      "execution_count": null,
      "outputs": []
    },
    {
      "cell_type": "code",
      "source": [
        "dataset = load_breast_cancer()\n",
        "X_features = dataset.data\n",
        "y_label = dataset.target\n",
        "\n",
        "cancer_df = pd.DataFrame(data=X_features, columns=dataset.feature_names)\n",
        "cancer_df[\"target\"]=y_label\n",
        "cancer_df.head(3)"
      ],
      "metadata": {
        "colab": {
          "base_uri": "https://localhost:8080/",
          "height": 227
        },
        "id": "FAWjG47ljrzN",
        "outputId": "1273862e-23fd-4642-ea0f-1005a3c2ec6d"
      },
      "execution_count": null,
      "outputs": [
        {
          "output_type": "execute_result",
          "data": {
            "text/plain": [
              "   mean radius  mean texture  mean perimeter  mean area  mean smoothness  \\\n",
              "0        17.99         10.38           122.8     1001.0          0.11840   \n",
              "1        20.57         17.77           132.9     1326.0          0.08474   \n",
              "2        19.69         21.25           130.0     1203.0          0.10960   \n",
              "\n",
              "   mean compactness  mean concavity  mean concave points  mean symmetry  \\\n",
              "0           0.27760          0.3001              0.14710         0.2419   \n",
              "1           0.07864          0.0869              0.07017         0.1812   \n",
              "2           0.15990          0.1974              0.12790         0.2069   \n",
              "\n",
              "   mean fractal dimension  ...  worst texture  worst perimeter  worst area  \\\n",
              "0                 0.07871  ...          17.33            184.6      2019.0   \n",
              "1                 0.05667  ...          23.41            158.8      1956.0   \n",
              "2                 0.05999  ...          25.53            152.5      1709.0   \n",
              "\n",
              "   worst smoothness  worst compactness  worst concavity  worst concave points  \\\n",
              "0            0.1622             0.6656           0.7119                0.2654   \n",
              "1            0.1238             0.1866           0.2416                0.1860   \n",
              "2            0.1444             0.4245           0.4504                0.2430   \n",
              "\n",
              "   worst symmetry  worst fractal dimension  target  \n",
              "0          0.4601                  0.11890       0  \n",
              "1          0.2750                  0.08902       0  \n",
              "2          0.3613                  0.08758       0  \n",
              "\n",
              "[3 rows x 31 columns]"
            ],
            "text/html": [
              "\n",
              "  <div id=\"df-b679fabf-9940-48f2-9cda-80f36fe5f4c0\" class=\"colab-df-container\">\n",
              "    <div>\n",
              "<style scoped>\n",
              "    .dataframe tbody tr th:only-of-type {\n",
              "        vertical-align: middle;\n",
              "    }\n",
              "\n",
              "    .dataframe tbody tr th {\n",
              "        vertical-align: top;\n",
              "    }\n",
              "\n",
              "    .dataframe thead th {\n",
              "        text-align: right;\n",
              "    }\n",
              "</style>\n",
              "<table border=\"1\" class=\"dataframe\">\n",
              "  <thead>\n",
              "    <tr style=\"text-align: right;\">\n",
              "      <th></th>\n",
              "      <th>mean radius</th>\n",
              "      <th>mean texture</th>\n",
              "      <th>mean perimeter</th>\n",
              "      <th>mean area</th>\n",
              "      <th>mean smoothness</th>\n",
              "      <th>mean compactness</th>\n",
              "      <th>mean concavity</th>\n",
              "      <th>mean concave points</th>\n",
              "      <th>mean symmetry</th>\n",
              "      <th>mean fractal dimension</th>\n",
              "      <th>...</th>\n",
              "      <th>worst texture</th>\n",
              "      <th>worst perimeter</th>\n",
              "      <th>worst area</th>\n",
              "      <th>worst smoothness</th>\n",
              "      <th>worst compactness</th>\n",
              "      <th>worst concavity</th>\n",
              "      <th>worst concave points</th>\n",
              "      <th>worst symmetry</th>\n",
              "      <th>worst fractal dimension</th>\n",
              "      <th>target</th>\n",
              "    </tr>\n",
              "  </thead>\n",
              "  <tbody>\n",
              "    <tr>\n",
              "      <th>0</th>\n",
              "      <td>17.99</td>\n",
              "      <td>10.38</td>\n",
              "      <td>122.8</td>\n",
              "      <td>1001.0</td>\n",
              "      <td>0.11840</td>\n",
              "      <td>0.27760</td>\n",
              "      <td>0.3001</td>\n",
              "      <td>0.14710</td>\n",
              "      <td>0.2419</td>\n",
              "      <td>0.07871</td>\n",
              "      <td>...</td>\n",
              "      <td>17.33</td>\n",
              "      <td>184.6</td>\n",
              "      <td>2019.0</td>\n",
              "      <td>0.1622</td>\n",
              "      <td>0.6656</td>\n",
              "      <td>0.7119</td>\n",
              "      <td>0.2654</td>\n",
              "      <td>0.4601</td>\n",
              "      <td>0.11890</td>\n",
              "      <td>0</td>\n",
              "    </tr>\n",
              "    <tr>\n",
              "      <th>1</th>\n",
              "      <td>20.57</td>\n",
              "      <td>17.77</td>\n",
              "      <td>132.9</td>\n",
              "      <td>1326.0</td>\n",
              "      <td>0.08474</td>\n",
              "      <td>0.07864</td>\n",
              "      <td>0.0869</td>\n",
              "      <td>0.07017</td>\n",
              "      <td>0.1812</td>\n",
              "      <td>0.05667</td>\n",
              "      <td>...</td>\n",
              "      <td>23.41</td>\n",
              "      <td>158.8</td>\n",
              "      <td>1956.0</td>\n",
              "      <td>0.1238</td>\n",
              "      <td>0.1866</td>\n",
              "      <td>0.2416</td>\n",
              "      <td>0.1860</td>\n",
              "      <td>0.2750</td>\n",
              "      <td>0.08902</td>\n",
              "      <td>0</td>\n",
              "    </tr>\n",
              "    <tr>\n",
              "      <th>2</th>\n",
              "      <td>19.69</td>\n",
              "      <td>21.25</td>\n",
              "      <td>130.0</td>\n",
              "      <td>1203.0</td>\n",
              "      <td>0.10960</td>\n",
              "      <td>0.15990</td>\n",
              "      <td>0.1974</td>\n",
              "      <td>0.12790</td>\n",
              "      <td>0.2069</td>\n",
              "      <td>0.05999</td>\n",
              "      <td>...</td>\n",
              "      <td>25.53</td>\n",
              "      <td>152.5</td>\n",
              "      <td>1709.0</td>\n",
              "      <td>0.1444</td>\n",
              "      <td>0.4245</td>\n",
              "      <td>0.4504</td>\n",
              "      <td>0.2430</td>\n",
              "      <td>0.3613</td>\n",
              "      <td>0.08758</td>\n",
              "      <td>0</td>\n",
              "    </tr>\n",
              "  </tbody>\n",
              "</table>\n",
              "<p>3 rows × 31 columns</p>\n",
              "</div>\n",
              "    <div class=\"colab-df-buttons\">\n",
              "\n",
              "  <div class=\"colab-df-container\">\n",
              "    <button class=\"colab-df-convert\" onclick=\"convertToInteractive('df-b679fabf-9940-48f2-9cda-80f36fe5f4c0')\"\n",
              "            title=\"Convert this dataframe to an interactive table.\"\n",
              "            style=\"display:none;\">\n",
              "\n",
              "  <svg xmlns=\"http://www.w3.org/2000/svg\" height=\"24px\" viewBox=\"0 -960 960 960\">\n",
              "    <path d=\"M120-120v-720h720v720H120Zm60-500h600v-160H180v160Zm220 220h160v-160H400v160Zm0 220h160v-160H400v160ZM180-400h160v-160H180v160Zm440 0h160v-160H620v160ZM180-180h160v-160H180v160Zm440 0h160v-160H620v160Z\"/>\n",
              "  </svg>\n",
              "    </button>\n",
              "\n",
              "  <style>\n",
              "    .colab-df-container {\n",
              "      display:flex;\n",
              "      gap: 12px;\n",
              "    }\n",
              "\n",
              "    .colab-df-convert {\n",
              "      background-color: #E8F0FE;\n",
              "      border: none;\n",
              "      border-radius: 50%;\n",
              "      cursor: pointer;\n",
              "      display: none;\n",
              "      fill: #1967D2;\n",
              "      height: 32px;\n",
              "      padding: 0 0 0 0;\n",
              "      width: 32px;\n",
              "    }\n",
              "\n",
              "    .colab-df-convert:hover {\n",
              "      background-color: #E2EBFA;\n",
              "      box-shadow: 0px 1px 2px rgba(60, 64, 67, 0.3), 0px 1px 3px 1px rgba(60, 64, 67, 0.15);\n",
              "      fill: #174EA6;\n",
              "    }\n",
              "\n",
              "    .colab-df-buttons div {\n",
              "      margin-bottom: 4px;\n",
              "    }\n",
              "\n",
              "    [theme=dark] .colab-df-convert {\n",
              "      background-color: #3B4455;\n",
              "      fill: #D2E3FC;\n",
              "    }\n",
              "\n",
              "    [theme=dark] .colab-df-convert:hover {\n",
              "      background-color: #434B5C;\n",
              "      box-shadow: 0px 1px 3px 1px rgba(0, 0, 0, 0.15);\n",
              "      filter: drop-shadow(0px 1px 2px rgba(0, 0, 0, 0.3));\n",
              "      fill: #FFFFFF;\n",
              "    }\n",
              "  </style>\n",
              "\n",
              "    <script>\n",
              "      const buttonEl =\n",
              "        document.querySelector('#df-b679fabf-9940-48f2-9cda-80f36fe5f4c0 button.colab-df-convert');\n",
              "      buttonEl.style.display =\n",
              "        google.colab.kernel.accessAllowed ? 'block' : 'none';\n",
              "\n",
              "      async function convertToInteractive(key) {\n",
              "        const element = document.querySelector('#df-b679fabf-9940-48f2-9cda-80f36fe5f4c0');\n",
              "        const dataTable =\n",
              "          await google.colab.kernel.invokeFunction('convertToInteractive',\n",
              "                                                    [key], {});\n",
              "        if (!dataTable) return;\n",
              "\n",
              "        const docLinkHtml = 'Like what you see? Visit the ' +\n",
              "          '<a target=\"_blank\" href=https://colab.research.google.com/notebooks/data_table.ipynb>data table notebook</a>'\n",
              "          + ' to learn more about interactive tables.';\n",
              "        element.innerHTML = '';\n",
              "        dataTable['output_type'] = 'display_data';\n",
              "        await google.colab.output.renderOutput(dataTable, element);\n",
              "        const docLink = document.createElement('div');\n",
              "        docLink.innerHTML = docLinkHtml;\n",
              "        element.appendChild(docLink);\n",
              "      }\n",
              "    </script>\n",
              "  </div>\n",
              "\n",
              "\n",
              "<div id=\"df-3ec64507-105f-40af-b935-19f7364d5e58\">\n",
              "  <button class=\"colab-df-quickchart\" onclick=\"quickchart('df-3ec64507-105f-40af-b935-19f7364d5e58')\"\n",
              "            title=\"Suggest charts.\"\n",
              "            style=\"display:none;\">\n",
              "\n",
              "<svg xmlns=\"http://www.w3.org/2000/svg\" height=\"24px\"viewBox=\"0 0 24 24\"\n",
              "     width=\"24px\">\n",
              "    <g>\n",
              "        <path d=\"M19 3H5c-1.1 0-2 .9-2 2v14c0 1.1.9 2 2 2h14c1.1 0 2-.9 2-2V5c0-1.1-.9-2-2-2zM9 17H7v-7h2v7zm4 0h-2V7h2v10zm4 0h-2v-4h2v4z\"/>\n",
              "    </g>\n",
              "</svg>\n",
              "  </button>\n",
              "\n",
              "<style>\n",
              "  .colab-df-quickchart {\n",
              "      --bg-color: #E8F0FE;\n",
              "      --fill-color: #1967D2;\n",
              "      --hover-bg-color: #E2EBFA;\n",
              "      --hover-fill-color: #174EA6;\n",
              "      --disabled-fill-color: #AAA;\n",
              "      --disabled-bg-color: #DDD;\n",
              "  }\n",
              "\n",
              "  [theme=dark] .colab-df-quickchart {\n",
              "      --bg-color: #3B4455;\n",
              "      --fill-color: #D2E3FC;\n",
              "      --hover-bg-color: #434B5C;\n",
              "      --hover-fill-color: #FFFFFF;\n",
              "      --disabled-bg-color: #3B4455;\n",
              "      --disabled-fill-color: #666;\n",
              "  }\n",
              "\n",
              "  .colab-df-quickchart {\n",
              "    background-color: var(--bg-color);\n",
              "    border: none;\n",
              "    border-radius: 50%;\n",
              "    cursor: pointer;\n",
              "    display: none;\n",
              "    fill: var(--fill-color);\n",
              "    height: 32px;\n",
              "    padding: 0;\n",
              "    width: 32px;\n",
              "  }\n",
              "\n",
              "  .colab-df-quickchart:hover {\n",
              "    background-color: var(--hover-bg-color);\n",
              "    box-shadow: 0 1px 2px rgba(60, 64, 67, 0.3), 0 1px 3px 1px rgba(60, 64, 67, 0.15);\n",
              "    fill: var(--button-hover-fill-color);\n",
              "  }\n",
              "\n",
              "  .colab-df-quickchart-complete:disabled,\n",
              "  .colab-df-quickchart-complete:disabled:hover {\n",
              "    background-color: var(--disabled-bg-color);\n",
              "    fill: var(--disabled-fill-color);\n",
              "    box-shadow: none;\n",
              "  }\n",
              "\n",
              "  .colab-df-spinner {\n",
              "    border: 2px solid var(--fill-color);\n",
              "    border-color: transparent;\n",
              "    border-bottom-color: var(--fill-color);\n",
              "    animation:\n",
              "      spin 1s steps(1) infinite;\n",
              "  }\n",
              "\n",
              "  @keyframes spin {\n",
              "    0% {\n",
              "      border-color: transparent;\n",
              "      border-bottom-color: var(--fill-color);\n",
              "      border-left-color: var(--fill-color);\n",
              "    }\n",
              "    20% {\n",
              "      border-color: transparent;\n",
              "      border-left-color: var(--fill-color);\n",
              "      border-top-color: var(--fill-color);\n",
              "    }\n",
              "    30% {\n",
              "      border-color: transparent;\n",
              "      border-left-color: var(--fill-color);\n",
              "      border-top-color: var(--fill-color);\n",
              "      border-right-color: var(--fill-color);\n",
              "    }\n",
              "    40% {\n",
              "      border-color: transparent;\n",
              "      border-right-color: var(--fill-color);\n",
              "      border-top-color: var(--fill-color);\n",
              "    }\n",
              "    60% {\n",
              "      border-color: transparent;\n",
              "      border-right-color: var(--fill-color);\n",
              "    }\n",
              "    80% {\n",
              "      border-color: transparent;\n",
              "      border-right-color: var(--fill-color);\n",
              "      border-bottom-color: var(--fill-color);\n",
              "    }\n",
              "    90% {\n",
              "      border-color: transparent;\n",
              "      border-bottom-color: var(--fill-color);\n",
              "    }\n",
              "  }\n",
              "</style>\n",
              "\n",
              "  <script>\n",
              "    async function quickchart(key) {\n",
              "      const quickchartButtonEl =\n",
              "        document.querySelector('#' + key + ' button');\n",
              "      quickchartButtonEl.disabled = true;  // To prevent multiple clicks.\n",
              "      quickchartButtonEl.classList.add('colab-df-spinner');\n",
              "      try {\n",
              "        const charts = await google.colab.kernel.invokeFunction(\n",
              "            'suggestCharts', [key], {});\n",
              "      } catch (error) {\n",
              "        console.error('Error during call to suggestCharts:', error);\n",
              "      }\n",
              "      quickchartButtonEl.classList.remove('colab-df-spinner');\n",
              "      quickchartButtonEl.classList.add('colab-df-quickchart-complete');\n",
              "    }\n",
              "    (() => {\n",
              "      let quickchartButtonEl =\n",
              "        document.querySelector('#df-3ec64507-105f-40af-b935-19f7364d5e58 button');\n",
              "      quickchartButtonEl.style.display =\n",
              "        google.colab.kernel.accessAllowed ? 'block' : 'none';\n",
              "    })();\n",
              "  </script>\n",
              "</div>\n",
              "    </div>\n",
              "  </div>\n"
            ]
          },
          "metadata": {},
          "execution_count": 4
        }
      ]
    },
    {
      "cell_type": "code",
      "source": [
        "print(dataset.target_names)\n",
        "print(cancer_df[\"target\"].value_counts())"
      ],
      "metadata": {
        "colab": {
          "base_uri": "https://localhost:8080/"
        },
        "id": "2Z0W67H3jr5g",
        "outputId": "b31192f1-bf9f-4165-c002-afb8793408c6"
      },
      "execution_count": null,
      "outputs": [
        {
          "output_type": "stream",
          "name": "stdout",
          "text": [
            "['malignant' 'benign']\n",
            "1    357\n",
            "0    212\n",
            "Name: target, dtype: int64\n"
          ]
        }
      ]
    },
    {
      "cell_type": "code",
      "source": [
        "X_train, X_test, y_train, y_test = train_test_split(X_features, y_label, test_size=0.2, random_state=156)\n",
        "\n",
        "print(X_train.shape, X_test.shape)"
      ],
      "metadata": {
        "colab": {
          "base_uri": "https://localhost:8080/"
        },
        "id": "B-uO0TCbjsAT",
        "outputId": "30e7c666-151c-4ce1-f64c-7141271712dc"
      },
      "execution_count": null,
      "outputs": [
        {
          "output_type": "stream",
          "name": "stdout",
          "text": [
            "(455, 30) (114, 30)\n"
          ]
        }
      ]
    },
    {
      "cell_type": "code",
      "source": [
        "#DMatrix : XGBoost 만의 전용 데이터 세트. 입력 파라미터는 data랑 label\n",
        "\n",
        "dtrain=xgb.DMatrix(data = X_train, label = y_train)\n",
        "dtest=xgb.DMatrix(data = X_test, label = y_test)"
      ],
      "metadata": {
        "id": "vkE2wddDjsHE"
      },
      "execution_count": null,
      "outputs": []
    },
    {
      "cell_type": "code",
      "source": [
        "#하이퍼 파라미터 설정하기\n",
        "\n",
        "params={'max_depth':3,\n",
        "        'eta':0.1,  # learning rate\n",
        "        'objective':'binary:logistic', # 이진 분류이기 때문에 목적함수는 이진 로지스틱\n",
        "        'eval_metric':'logloss',  # 오류 함수의 평가 성능 지표\n",
        "        'early_stoppings':100\n",
        "        }\n",
        "num_rounds = 400  # 부스팅 반복 횟수"
      ],
      "metadata": {
        "id": "H0AlPjGHjsOa"
      },
      "execution_count": null,
      "outputs": []
    },
    {
      "cell_type": "code",
      "source": [
        "# train 데이터 세트는 'train', evaluation(test) 데이터 세트는 'eval'로 명기\n",
        "wlist = [(dtrain, 'train'), (dtest, 'eval')]\n",
        "\n",
        "# 하이퍼 파라미터와 early stopping 파라미터를 train() 함수의 파라미터로 전달\n",
        "xgb_model = xgb.train(params=params, dtrain=dtrain, num_boost_round=num_rounds,early_stopping_rounds=100,evals=wlist)"
      ],
      "metadata": {
        "colab": {
          "base_uri": "https://localhost:8080/"
        },
        "id": "SSFHWg6ZjsVc",
        "outputId": "f26f5da3-5bbd-41c6-d59d-cee72090070a"
      },
      "execution_count": null,
      "outputs": [
        {
          "output_type": "stream",
          "name": "stdout",
          "text": [
            "[0]\ttrain-logloss:0.58431\teval-logloss:0.56554\n",
            "[1]\ttrain-logloss:0.51885\teval-logloss:0.50669\n",
            "[2]\ttrain-logloss:0.46457\teval-logloss:0.45868\n",
            "[3]\ttrain-logloss:0.41713\teval-logloss:0.41822\n",
            "[4]\ttrain-logloss:0.37585\teval-logloss:0.38103\n",
            "[5]\ttrain-logloss:0.34075\teval-logloss:0.35137\n",
            "[6]\ttrain-logloss:0.31028\teval-logloss:0.32588\n",
            "[7]\ttrain-logloss:0.28283\teval-logloss:0.30127\n",
            "[8]\ttrain-logloss:0.25925\teval-logloss:0.28197\n",
            "[9]\ttrain-logloss:0.23822\teval-logloss:0.26265\n",
            "[10]\ttrain-logloss:0.21951\teval-logloss:0.24821\n",
            "[11]\ttrain-logloss:0.20251\teval-logloss:0.23231\n",
            "[12]\ttrain-logloss:0.18759\teval-logloss:0.22079\n",
            "[13]\ttrain-logloss:0.17386\teval-logloss:0.20795\n",
            "[14]\ttrain-logloss:0.16199\teval-logloss:0.19764\n",
            "[15]\ttrain-logloss:0.15109\teval-logloss:0.18950\n",
            "[16]\ttrain-logloss:0.14056\teval-logloss:0.18052\n",
            "[17]\ttrain-logloss:0.13137\teval-logloss:0.17246\n",
            "[18]\ttrain-logloss:0.12329\teval-logloss:0.16512\n",
            "[19]\ttrain-logloss:0.11565\teval-logloss:0.15828\n",
            "[20]\ttrain-logloss:0.10860\teval-logloss:0.15436\n",
            "[21]\ttrain-logloss:0.10190\teval-logloss:0.14633\n",
            "[22]\ttrain-logloss:0.09563\teval-logloss:0.13936\n",
            "[23]\ttrain-logloss:0.09016\teval-logloss:0.13393\n",
            "[24]\ttrain-logloss:0.08496\teval-logloss:0.13015\n",
            "[25]\ttrain-logloss:0.08021\teval-logloss:0.12489\n",
            "[26]\ttrain-logloss:0.07583\teval-logloss:0.12206\n",
            "[27]\ttrain-logloss:0.07215\teval-logloss:0.11890\n",
            "[28]\ttrain-logloss:0.06837\teval-logloss:0.11637\n",
            "[29]\ttrain-logloss:0.06489\teval-logloss:0.11293\n",
            "[30]\ttrain-logloss:0.06186\teval-logloss:0.11040\n",
            "[31]\ttrain-logloss:0.05924\teval-logloss:0.10826\n",
            "[32]\ttrain-logloss:0.05646\teval-logloss:0.10452\n",
            "[33]\ttrain-logloss:0.05394\teval-logloss:0.10322\n",
            "[34]\ttrain-logloss:0.05167\teval-logloss:0.10059\n",
            "[35]\ttrain-logloss:0.04951\teval-logloss:0.09869\n",
            "[36]\ttrain-logloss:0.04740\teval-logloss:0.09658\n",
            "[37]\ttrain-logloss:0.04554\teval-logloss:0.09487\n",
            "[38]\ttrain-logloss:0.04378\teval-logloss:0.09443\n",
            "[39]\ttrain-logloss:0.04226\teval-logloss:0.09374\n",
            "[40]\ttrain-logloss:0.04075\teval-logloss:0.09239\n",
            "[41]\ttrain-logloss:0.03890\teval-logloss:0.09159\n",
            "[42]\ttrain-logloss:0.03745\teval-logloss:0.09004\n",
            "[43]\ttrain-logloss:0.03608\teval-logloss:0.09029\n",
            "[44]\ttrain-logloss:0.03470\teval-logloss:0.08966\n",
            "[45]\ttrain-logloss:0.03354\teval-logloss:0.08808\n",
            "[46]\ttrain-logloss:0.03250\teval-logloss:0.08783\n",
            "[47]\ttrain-logloss:0.03142\teval-logloss:0.08756\n",
            "[48]\ttrain-logloss:0.03024\teval-logloss:0.08682\n",
            "[49]\ttrain-logloss:0.02905\teval-logloss:0.08829\n",
            "[50]\ttrain-logloss:0.02815\teval-logloss:0.08882\n",
            "[51]\ttrain-logloss:0.02729\teval-logloss:0.08871\n",
            "[52]\ttrain-logloss:0.02651\teval-logloss:0.08780\n",
            "[53]\ttrain-logloss:0.02574\teval-logloss:0.08766\n",
            "[54]\ttrain-logloss:0.02502\teval-logloss:0.08825\n",
            "[55]\ttrain-logloss:0.02433\teval-logloss:0.08882\n",
            "[56]\ttrain-logloss:0.02371\teval-logloss:0.08785\n",
            "[57]\ttrain-logloss:0.02312\teval-logloss:0.08813\n",
            "[58]\ttrain-logloss:0.02247\teval-logloss:0.08871\n",
            "[59]\ttrain-logloss:0.02186\teval-logloss:0.08760\n",
            "[60]\ttrain-logloss:0.02125\teval-logloss:0.08712\n",
            "[61]\ttrain-logloss:0.02075\teval-logloss:0.08795\n",
            "[62]\ttrain-logloss:0.02029\teval-logloss:0.08799\n",
            "[63]\ttrain-logloss:0.01974\teval-logloss:0.08808\n",
            "[64]\ttrain-logloss:0.01926\teval-logloss:0.08749\n",
            "[65]\ttrain-logloss:0.01879\teval-logloss:0.08760\n",
            "[66]\ttrain-logloss:0.01838\teval-logloss:0.08708\n",
            "[67]\ttrain-logloss:0.01812\teval-logloss:0.08668\n",
            "[68]\ttrain-logloss:0.01774\teval-logloss:0.08654\n",
            "[69]\ttrain-logloss:0.01741\teval-logloss:0.08630\n",
            "[70]\ttrain-logloss:0.01710\teval-logloss:0.08574\n",
            "[71]\ttrain-logloss:0.01676\teval-logloss:0.08696\n",
            "[72]\ttrain-logloss:0.01641\teval-logloss:0.08626\n",
            "[73]\ttrain-logloss:0.01609\teval-logloss:0.08685\n",
            "[74]\ttrain-logloss:0.01583\teval-logloss:0.08663\n",
            "[75]\ttrain-logloss:0.01550\teval-logloss:0.08780\n",
            "[76]\ttrain-logloss:0.01530\teval-logloss:0.08713\n",
            "[77]\ttrain-logloss:0.01502\teval-logloss:0.08822\n",
            "[78]\ttrain-logloss:0.01484\teval-logloss:0.08758\n",
            "[79]\ttrain-logloss:0.01465\teval-logloss:0.08728\n",
            "[80]\ttrain-logloss:0.01443\teval-logloss:0.08703\n",
            "[81]\ttrain-logloss:0.01422\teval-logloss:0.08719\n",
            "[82]\ttrain-logloss:0.01408\teval-logloss:0.08662\n",
            "[83]\ttrain-logloss:0.01391\teval-logloss:0.08637\n",
            "[84]\ttrain-logloss:0.01363\teval-logloss:0.08570\n",
            "[85]\ttrain-logloss:0.01344\teval-logloss:0.08590\n",
            "[86]\ttrain-logloss:0.01321\teval-logloss:0.08587\n",
            "[87]\ttrain-logloss:0.01307\teval-logloss:0.08614\n",
            "[88]\ttrain-logloss:0.01289\teval-logloss:0.08635\n",
            "[89]\ttrain-logloss:0.01273\teval-logloss:0.08646\n",
            "[90]\ttrain-logloss:0.01259\teval-logloss:0.08583\n",
            "[91]\ttrain-logloss:0.01240\teval-logloss:0.08583\n",
            "[92]\ttrain-logloss:0.01227\teval-logloss:0.08564\n",
            "[93]\ttrain-logloss:0.01207\teval-logloss:0.08669\n",
            "[94]\ttrain-logloss:0.01192\teval-logloss:0.08692\n",
            "[95]\ttrain-logloss:0.01180\teval-logloss:0.08687\n",
            "[96]\ttrain-logloss:0.01163\teval-logloss:0.08641\n",
            "[97]\ttrain-logloss:0.01153\teval-logloss:0.08584\n",
            "[98]\ttrain-logloss:0.01142\teval-logloss:0.08568\n",
            "[99]\ttrain-logloss:0.01130\teval-logloss:0.08552\n",
            "[100]\ttrain-logloss:0.01118\teval-logloss:0.08548\n",
            "[101]\ttrain-logloss:0.01102\teval-logloss:0.08630\n",
            "[102]\ttrain-logloss:0.01092\teval-logloss:0.08658\n",
            "[103]\ttrain-logloss:0.01081\teval-logloss:0.08656\n",
            "[104]\ttrain-logloss:0.01066\teval-logloss:0.08742\n",
            "[105]\ttrain-logloss:0.01053\teval-logloss:0.08779\n",
            "[106]\ttrain-logloss:0.01045\teval-logloss:0.08777\n",
            "[107]\ttrain-logloss:0.01032\teval-logloss:0.08738\n",
            "[108]\ttrain-logloss:0.01023\teval-logloss:0.08729\n",
            "[109]\ttrain-logloss:0.01015\teval-logloss:0.08736\n",
            "[110]\ttrain-logloss:0.01006\teval-logloss:0.08722\n",
            "[111]\ttrain-logloss:0.00998\teval-logloss:0.08774\n",
            "[112]\ttrain-logloss:0.00985\teval-logloss:0.08864\n",
            "[113]\ttrain-logloss:0.00978\teval-logloss:0.08871\n",
            "[114]\ttrain-logloss:0.00966\teval-logloss:0.08836\n",
            "[115]\ttrain-logloss:0.00958\teval-logloss:0.08865\n",
            "[116]\ttrain-logloss:0.00955\teval-logloss:0.08874\n",
            "[117]\ttrain-logloss:0.00947\teval-logloss:0.08861\n",
            "[118]\ttrain-logloss:0.00940\teval-logloss:0.08819\n",
            "[119]\ttrain-logloss:0.00930\teval-logloss:0.08901\n",
            "[120]\ttrain-logloss:0.00922\teval-logloss:0.08894\n",
            "[121]\ttrain-logloss:0.00917\teval-logloss:0.08869\n",
            "[122]\ttrain-logloss:0.00910\teval-logloss:0.08880\n",
            "[123]\ttrain-logloss:0.00900\teval-logloss:0.08848\n",
            "[124]\ttrain-logloss:0.00897\teval-logloss:0.08858\n",
            "[125]\ttrain-logloss:0.00893\teval-logloss:0.08849\n",
            "[126]\ttrain-logloss:0.00884\teval-logloss:0.08909\n",
            "[127]\ttrain-logloss:0.00877\teval-logloss:0.08886\n",
            "[128]\ttrain-logloss:0.00873\teval-logloss:0.08861\n",
            "[129]\ttrain-logloss:0.00864\teval-logloss:0.08942\n",
            "[130]\ttrain-logloss:0.00861\teval-logloss:0.08934\n",
            "[131]\ttrain-logloss:0.00858\teval-logloss:0.08918\n",
            "[132]\ttrain-logloss:0.00852\teval-logloss:0.08880\n",
            "[133]\ttrain-logloss:0.00844\teval-logloss:0.08956\n",
            "[134]\ttrain-logloss:0.00841\teval-logloss:0.08949\n",
            "[135]\ttrain-logloss:0.00838\teval-logloss:0.08934\n",
            "[136]\ttrain-logloss:0.00833\teval-logloss:0.08891\n",
            "[137]\ttrain-logloss:0.00825\teval-logloss:0.08949\n",
            "[138]\ttrain-logloss:0.00822\teval-logloss:0.08962\n",
            "[139]\ttrain-logloss:0.00815\teval-logloss:0.08969\n",
            "[140]\ttrain-logloss:0.00812\teval-logloss:0.08963\n",
            "[141]\ttrain-logloss:0.00810\teval-logloss:0.08948\n",
            "[142]\ttrain-logloss:0.00807\teval-logloss:0.08961\n",
            "[143]\ttrain-logloss:0.00800\teval-logloss:0.09038\n",
            "[144]\ttrain-logloss:0.00797\teval-logloss:0.09033\n",
            "[145]\ttrain-logloss:0.00793\teval-logloss:0.08991\n",
            "[146]\ttrain-logloss:0.00789\teval-logloss:0.08955\n",
            "[147]\ttrain-logloss:0.00782\teval-logloss:0.08994\n",
            "[148]\ttrain-logloss:0.00779\teval-logloss:0.09002\n",
            "[149]\ttrain-logloss:0.00777\teval-logloss:0.09004\n",
            "[150]\ttrain-logloss:0.00775\teval-logloss:0.09000\n",
            "[151]\ttrain-logloss:0.00772\teval-logloss:0.08985\n",
            "[152]\ttrain-logloss:0.00768\teval-logloss:0.08947\n",
            "[153]\ttrain-logloss:0.00763\teval-logloss:0.08979\n",
            "[154]\ttrain-logloss:0.00757\teval-logloss:0.09010\n",
            "[155]\ttrain-logloss:0.00754\teval-logloss:0.09022\n",
            "[156]\ttrain-logloss:0.00752\teval-logloss:0.09018\n",
            "[157]\ttrain-logloss:0.00748\teval-logloss:0.08997\n",
            "[158]\ttrain-logloss:0.00746\teval-logloss:0.09000\n",
            "[159]\ttrain-logloss:0.00744\teval-logloss:0.08977\n",
            "[160]\ttrain-logloss:0.00742\teval-logloss:0.08976\n",
            "[161]\ttrain-logloss:0.00739\teval-logloss:0.08985\n",
            "[162]\ttrain-logloss:0.00737\teval-logloss:0.08988\n",
            "[163]\ttrain-logloss:0.00735\teval-logloss:0.08959\n",
            "[164]\ttrain-logloss:0.00733\teval-logloss:0.08955\n",
            "[165]\ttrain-logloss:0.00731\teval-logloss:0.08958\n",
            "[166]\ttrain-logloss:0.00729\teval-logloss:0.08930\n",
            "[167]\ttrain-logloss:0.00727\teval-logloss:0.08926\n",
            "[168]\ttrain-logloss:0.00725\teval-logloss:0.08913\n",
            "[169]\ttrain-logloss:0.00723\teval-logloss:0.08915\n",
            "[170]\ttrain-logloss:0.00721\teval-logloss:0.08893\n",
            "[171]\ttrain-logloss:0.00719\teval-logloss:0.08896\n",
            "[172]\ttrain-logloss:0.00717\teval-logloss:0.08908\n",
            "[173]\ttrain-logloss:0.00715\teval-logloss:0.08886\n",
            "[174]\ttrain-logloss:0.00713\teval-logloss:0.08886\n",
            "[175]\ttrain-logloss:0.00711\teval-logloss:0.08895\n",
            "[176]\ttrain-logloss:0.00709\teval-logloss:0.08899\n",
            "[177]\ttrain-logloss:0.00708\teval-logloss:0.08895\n",
            "[178]\ttrain-logloss:0.00706\teval-logloss:0.08867\n",
            "[179]\ttrain-logloss:0.00704\teval-logloss:0.08856\n",
            "[180]\ttrain-logloss:0.00702\teval-logloss:0.08844\n",
            "[181]\ttrain-logloss:0.00700\teval-logloss:0.08841\n",
            "[182]\ttrain-logloss:0.00698\teval-logloss:0.08849\n",
            "[183]\ttrain-logloss:0.00697\teval-logloss:0.08853\n",
            "[184]\ttrain-logloss:0.00695\teval-logloss:0.08831\n",
            "[185]\ttrain-logloss:0.00693\teval-logloss:0.08843\n",
            "[186]\ttrain-logloss:0.00691\teval-logloss:0.08847\n",
            "[187]\ttrain-logloss:0.00689\teval-logloss:0.08826\n",
            "[188]\ttrain-logloss:0.00688\teval-logloss:0.08827\n",
            "[189]\ttrain-logloss:0.00686\teval-logloss:0.08817\n",
            "[190]\ttrain-logloss:0.00684\teval-logloss:0.08826\n",
            "[191]\ttrain-logloss:0.00683\teval-logloss:0.08823\n",
            "[192]\ttrain-logloss:0.00681\teval-logloss:0.08811\n",
            "[193]\ttrain-logloss:0.00679\teval-logloss:0.08791\n",
            "[194]\ttrain-logloss:0.00678\teval-logloss:0.08795\n",
            "[195]\ttrain-logloss:0.00676\teval-logloss:0.08806\n",
            "[196]\ttrain-logloss:0.00674\teval-logloss:0.08787\n",
            "[197]\ttrain-logloss:0.00673\teval-logloss:0.08790\n",
            "[198]\ttrain-logloss:0.00671\teval-logloss:0.08792\n",
            "[199]\ttrain-logloss:0.00670\teval-logloss:0.08800\n",
            "[200]\ttrain-logloss:0.00668\teval-logloss:0.08804\n"
          ]
        }
      ]
    },
    {
      "cell_type": "code",
      "source": [
        "pred_probs=xgb_model.predict(dtest)\n",
        "print('predict() 수행 결괏값을 10개만 표시, 예측 확률값으로 표시됨')\n",
        "print(np.round(pred_probs[:10], 3))\n",
        "\n",
        "# 예측 확률이 0.5보다 크면 1, 그렇지 않으면 0으로 예측값 결정해 리스트 객체인 preds에 저장\n",
        "preds=[1 if x>0.5 else 0 for x in pred_probs]\n",
        "print('예측값 10개만 표시:', preds[:10])"
      ],
      "metadata": {
        "colab": {
          "base_uri": "https://localhost:8080/"
        },
        "id": "VbzzJ-mJjsdC",
        "outputId": "49841cc5-44df-42ce-e70d-d82c7c3cf898"
      },
      "execution_count": null,
      "outputs": [
        {
          "output_type": "stream",
          "name": "stdout",
          "text": [
            "predict() 수행 결괏값을 10개만 표시, 예측 확률값으로 표시됨\n",
            "[0.904 0.004 0.908 0.267 0.992 1.    1.    0.999 0.994 0.   ]\n",
            "예측값 10개만 표시: [1, 0, 1, 0, 1, 1, 1, 1, 1, 0]\n"
          ]
        }
      ]
    },
    {
      "cell_type": "code",
      "source": [
        "from sklearn.metrics import confusion_matrix, accuracy_score\n",
        "from sklearn.metrics import precision_score, recall_score\n",
        "from sklearn.metrics import f1_score, roc_auc_score\n",
        "\n",
        "def get_clf_eval(y_test, pred=None, pred_proba=None):\n",
        "    confusion = confusion_matrix( y_test, pred)\n",
        "    accuracy = accuracy_score(y_test , pred)\n",
        "    precision = precision_score(y_test , pred)\n",
        "    recall = recall_score(y_test , pred)\n",
        "    f1 = f1_score(y_test,pred)\n",
        "    # ROC-AUC 추가\n",
        "    roc_auc = roc_auc_score(y_test, pred_proba)\n",
        "    print('오차 행렬')\n",
        "    print(confusion)\n",
        "    # ROC-AUC print 추가\n",
        "    print('정확도: {0:.4f}, 정밀도: {1:.4f}, 재현율: {2:.4f},\\\n",
        "    F1: {3:.4f}, AUC:{4:.4f}'.format(accuracy, precision, recall, f1, roc_auc))"
      ],
      "metadata": {
        "id": "Ns9-La0wjsju"
      },
      "execution_count": null,
      "outputs": []
    },
    {
      "cell_type": "code",
      "source": [
        "get_clf_eval(y_test,preds,pred_probs)"
      ],
      "metadata": {
        "colab": {
          "base_uri": "https://localhost:8080/"
        },
        "id": "UZ6vrht4jsrC",
        "outputId": "bcbfe8bf-8918-4ddd-da58-65a0ef919540"
      },
      "execution_count": null,
      "outputs": [
        {
          "output_type": "stream",
          "name": "stdout",
          "text": [
            "오차 행렬\n",
            "[[34  3]\n",
            " [ 1 76]]\n",
            "정확도: 0.9649, 정밀도: 0.9620, 재현율: 0.9870,    F1: 0.9744, AUC:0.9951\n"
          ]
        }
      ]
    },
    {
      "cell_type": "markdown",
      "source": [
        "xgboost의 시각화  \n",
        "- plot_importance(): 피처의 중요도를 막대그래프로 나타낸다. (ex)f0, f1...)\n",
        "- to_graphviz () : 트리 구조 그리기"
      ],
      "metadata": {
        "id": "fNq5c7Npl4u9"
      }
    },
    {
      "cell_type": "code",
      "source": [
        "from xgboost import plot_importance   # xgboost의 plot_importance() : 피처의 중요도를 막대 그래프 형식으로 나타냄\n",
        "import matplotlib.pyplot as plt\n",
        "%matplotlib inline\n",
        "\n",
        "fig, ax=plt.subplots(figsize=(10,12))\n",
        "plot_importance(xgb_model, ax=ax)\n"
      ],
      "metadata": {
        "colab": {
          "base_uri": "https://localhost:8080/",
          "height": 1000
        },
        "id": "W1yP7nSijsxo",
        "outputId": "3527191d-60db-4077-e4f8-9d9cc39e4e29"
      },
      "execution_count": null,
      "outputs": [
        {
          "output_type": "execute_result",
          "data": {
            "text/plain": [
              "<Axes: title={'center': 'Feature importance'}, xlabel='F score', ylabel='Features'>"
            ]
          },
          "metadata": {},
          "execution_count": 14
        },
        {
          "output_type": "display_data",
          "data": {
            "text/plain": [
              "<Figure size 1000x1200 with 1 Axes>"
            ],
            "image/png": "[encoded data removed]"
          },
          "metadata": {}
        }
      ]
    },
    {
      "cell_type": "code",
      "source": [
        "# xgboost에서 교차 검증 수행 후 최적의 파라미터 구하는 법 : cv()\n",
        "\n",
        "xgboost.cv(params, dtrain, num_boost_round=10, nfold=3, stratified=False, folds=None, metrics=(), obj=None,\n",
        "           feval=None, maximize=False, early_stopping_rounds=None, fpreproc=None, as_pandas=True, verbose_eval=None,\n",
        "           show_stdv=True, seed=0, callbacks=None, shuffle=True)"
      ],
      "metadata": {
        "colab": {
          "base_uri": "https://localhost:8080/",
          "height": 362
        },
        "id": "KJVtaS4bjs4s",
        "outputId": "4fe3dc71-0fd6-481c-a27a-f65e36e358d1"
      },
      "execution_count": null,
      "outputs": [
        {
          "output_type": "execute_result",
          "data": {
            "text/plain": [
              "   train-logloss-mean  train-logloss-std  test-logloss-mean  test-logloss-std\n",
              "0            0.584737           0.005961           0.592041          0.008024\n",
              "1            0.517898           0.004745           0.532735          0.007335\n",
              "2            0.462199           0.003589           0.483123          0.008418\n",
              "3            0.415639           0.003043           0.441435          0.011510\n",
              "4            0.375350           0.002036           0.406194          0.014400\n",
              "5            0.340102           0.000854           0.373831          0.015171\n",
              "6            0.308902           0.000900           0.348411          0.018183\n",
              "7            0.281927           0.001335           0.324136          0.017817\n",
              "8            0.257775           0.001182           0.304679          0.021239\n",
              "9            0.236439           0.001313           0.286202          0.021203"
            ],
            "text/html": [
              "\n",
              "  <div id=\"df-a9eaadb1-ccaf-421f-8192-1a7267529032\" class=\"colab-df-container\">\n",
              "    <div>\n",
              "<style scoped>\n",
              "    .dataframe tbody tr th:only-of-type {\n",
              "        vertical-align: middle;\n",
              "    }\n",
              "\n",
              "    .dataframe tbody tr th {\n",
              "        vertical-align: top;\n",
              "    }\n",
              "\n",
              "    .dataframe thead th {\n",
              "        text-align: right;\n",
              "    }\n",
              "</style>\n",
              "<table border=\"1\" class=\"dataframe\">\n",
              "  <thead>\n",
              "    <tr style=\"text-align: right;\">\n",
              "      <th></th>\n",
              "      <th>train-logloss-mean</th>\n",
              "      <th>train-logloss-std</th>\n",
              "      <th>test-logloss-mean</th>\n",
              "      <th>test-logloss-std</th>\n",
              "    </tr>\n",
              "  </thead>\n",
              "  <tbody>\n",
              "    <tr>\n",
              "      <th>0</th>\n",
              "      <td>0.584737</td>\n",
              "      <td>0.005961</td>\n",
              "      <td>0.592041</td>\n",
              "      <td>0.008024</td>\n",
              "    </tr>\n",
              "    <tr>\n",
              "      <th>1</th>\n",
              "      <td>0.517898</td>\n",
              "      <td>0.004745</td>\n",
              "      <td>0.532735</td>\n",
              "      <td>0.007335</td>\n",
              "    </tr>\n",
              "    <tr>\n",
              "      <th>2</th>\n",
              "      <td>0.462199</td>\n",
              "      <td>0.003589</td>\n",
              "      <td>0.483123</td>\n",
              "      <td>0.008418</td>\n",
              "    </tr>\n",
              "    <tr>\n",
              "      <th>3</th>\n",
              "      <td>0.415639</td>\n",
              "      <td>0.003043</td>\n",
              "      <td>0.441435</td>\n",
              "      <td>0.011510</td>\n",
              "    </tr>\n",
              "    <tr>\n",
              "      <th>4</th>\n",
              "      <td>0.375350</td>\n",
              "      <td>0.002036</td>\n",
              "      <td>0.406194</td>\n",
              "      <td>0.014400</td>\n",
              "    </tr>\n",
              "    <tr>\n",
              "      <th>5</th>\n",
              "      <td>0.340102</td>\n",
              "      <td>0.000854</td>\n",
              "      <td>0.373831</td>\n",
              "      <td>0.015171</td>\n",
              "    </tr>\n",
              "    <tr>\n",
              "      <th>6</th>\n",
              "      <td>0.308902</td>\n",
              "      <td>0.000900</td>\n",
              "      <td>0.348411</td>\n",
              "      <td>0.018183</td>\n",
              "    </tr>\n",
              "    <tr>\n",
              "      <th>7</th>\n",
              "      <td>0.281927</td>\n",
              "      <td>0.001335</td>\n",
              "      <td>0.324136</td>\n",
              "      <td>0.017817</td>\n",
              "    </tr>\n",
              "    <tr>\n",
              "      <th>8</th>\n",
              "      <td>0.257775</td>\n",
              "      <td>0.001182</td>\n",
              "      <td>0.304679</td>\n",
              "      <td>0.021239</td>\n",
              "    </tr>\n",
              "    <tr>\n",
              "      <th>9</th>\n",
              "      <td>0.236439</td>\n",
              "      <td>0.001313</td>\n",
              "      <td>0.286202</td>\n",
              "      <td>0.021203</td>\n",
              "    </tr>\n",
              "  </tbody>\n",
              "</table>\n",
              "</div>\n",
              "    <div class=\"colab-df-buttons\">\n",
              "\n",
              "  <div class=\"colab-df-container\">\n",
              "    <button class=\"colab-df-convert\" onclick=\"convertToInteractive('df-a9eaadb1-ccaf-421f-8192-1a7267529032')\"\n",
              "            title=\"Convert this dataframe to an interactive table.\"\n",
              "            style=\"display:none;\">\n",
              "\n",
              "  <svg xmlns=\"http://www.w3.org/2000/svg\" height=\"24px\" viewBox=\"0 -960 960 960\">\n",
              "    <path d=\"M120-120v-720h720v720H120Zm60-500h600v-160H180v160Zm220 220h160v-160H400v160Zm0 220h160v-160H400v160ZM180-400h160v-160H180v160Zm440 0h160v-160H620v160ZM180-180h160v-160H180v160Zm440 0h160v-160H620v160Z\"/>\n",
              "  </svg>\n",
              "    </button>\n",
              "\n",
              "  <style>\n",
              "    .colab-df-container {\n",
              "      display:flex;\n",
              "      gap: 12px;\n",
              "    }\n",
              "\n",
              "    .colab-df-convert {\n",
              "      background-color: #E8F0FE;\n",
              "      border: none;\n",
              "      border-radius: 50%;\n",
              "      cursor: pointer;\n",
              "      display: none;\n",
              "      fill: #1967D2;\n",
              "      height: 32px;\n",
              "      padding: 0 0 0 0;\n",
              "      width: 32px;\n",
              "    }\n",
              "\n",
              "    .colab-df-convert:hover {\n",
              "      background-color: #E2EBFA;\n",
              "      box-shadow: 0px 1px 2px rgba(60, 64, 67, 0.3), 0px 1px 3px 1px rgba(60, 64, 67, 0.15);\n",
              "      fill: #174EA6;\n",
              "    }\n",
              "\n",
              "    .colab-df-buttons div {\n",
              "      margin-bottom: 4px;\n",
              "    }\n",
              "\n",
              "    [theme=dark] .colab-df-convert {\n",
              "      background-color: #3B4455;\n",
              "      fill: #D2E3FC;\n",
              "    }\n",
              "\n",
              "    [theme=dark] .colab-df-convert:hover {\n",
              "      background-color: #434B5C;\n",
              "      box-shadow: 0px 1px 3px 1px rgba(0, 0, 0, 0.15);\n",
              "      filter: drop-shadow(0px 1px 2px rgba(0, 0, 0, 0.3));\n",
              "      fill: #FFFFFF;\n",
              "    }\n",
              "  </style>\n",
              "\n",
              "    <script>\n",
              "      const buttonEl =\n",
              "        document.querySelector('#df-a9eaadb1-ccaf-421f-8192-1a7267529032 button.colab-df-convert');\n",
              "      buttonEl.style.display =\n",
              "        google.colab.kernel.accessAllowed ? 'block' : 'none';\n",
              "\n",
              "      async function convertToInteractive(key) {\n",
              "        const element = document.querySelector('#df-a9eaadb1-ccaf-421f-8192-1a7267529032');\n",
              "        const dataTable =\n",
              "          await google.colab.kernel.invokeFunction('convertToInteractive',\n",
              "                                                    [key], {});\n",
              "        if (!dataTable) return;\n",
              "\n",
              "        const docLinkHtml = 'Like what you see? Visit the ' +\n",
              "          '<a target=\"_blank\" href=https://colab.research.google.com/notebooks/data_table.ipynb>data table notebook</a>'\n",
              "          + ' to learn more about interactive tables.';\n",
              "        element.innerHTML = '';\n",
              "        dataTable['output_type'] = 'display_data';\n",
              "        await google.colab.output.renderOutput(dataTable, element);\n",
              "        const docLink = document.createElement('div');\n",
              "        docLink.innerHTML = docLinkHtml;\n",
              "        element.appendChild(docLink);\n",
              "      }\n",
              "    </script>\n",
              "  </div>\n",
              "\n",
              "\n",
              "<div id=\"df-cb867c4f-9bcd-427d-851c-5268306de2b0\">\n",
              "  <button class=\"colab-df-quickchart\" onclick=\"quickchart('df-cb867c4f-9bcd-427d-851c-5268306de2b0')\"\n",
              "            title=\"Suggest charts.\"\n",
              "            style=\"display:none;\">\n",
              "\n",
              "<svg xmlns=\"http://www.w3.org/2000/svg\" height=\"24px\"viewBox=\"0 0 24 24\"\n",
              "     width=\"24px\">\n",
              "    <g>\n",
              "        <path d=\"M19 3H5c-1.1 0-2 .9-2 2v14c0 1.1.9 2 2 2h14c1.1 0 2-.9 2-2V5c0-1.1-.9-2-2-2zM9 17H7v-7h2v7zm4 0h-2V7h2v10zm4 0h-2v-4h2v4z\"/>\n",
              "    </g>\n",
              "</svg>\n",
              "  </button>\n",
              "\n",
              "<style>\n",
              "  .colab-df-quickchart {\n",
              "      --bg-color: #E8F0FE;\n",
              "      --fill-color: #1967D2;\n",
              "      --hover-bg-color: #E2EBFA;\n",
              "      --hover-fill-color: #174EA6;\n",
              "      --disabled-fill-color: #AAA;\n",
              "      --disabled-bg-color: #DDD;\n",
              "  }\n",
              "\n",
              "  [theme=dark] .colab-df-quickchart {\n",
              "      --bg-color: #3B4455;\n",
              "      --fill-color: #D2E3FC;\n",
              "      --hover-bg-color: #434B5C;\n",
              "      --hover-fill-color: #FFFFFF;\n",
              "      --disabled-bg-color: #3B4455;\n",
              "      --disabled-fill-color: #666;\n",
              "  }\n",
              "\n",
              "  .colab-df-quickchart {\n",
              "    background-color: var(--bg-color);\n",
              "    border: none;\n",
              "    border-radius: 50%;\n",
              "    cursor: pointer;\n",
              "    display: none;\n",
              "    fill: var(--fill-color);\n",
              "    height: 32px;\n",
              "    padding: 0;\n",
              "    width: 32px;\n",
              "  }\n",
              "\n",
              "  .colab-df-quickchart:hover {\n",
              "    background-color: var(--hover-bg-color);\n",
              "    box-shadow: 0 1px 2px rgba(60, 64, 67, 0.3), 0 1px 3px 1px rgba(60, 64, 67, 0.15);\n",
              "    fill: var(--button-hover-fill-color);\n",
              "  }\n",
              "\n",
              "  .colab-df-quickchart-complete:disabled,\n",
              "  .colab-df-quickchart-complete:disabled:hover {\n",
              "    background-color: var(--disabled-bg-color);\n",
              "    fill: var(--disabled-fill-color);\n",
              "    box-shadow: none;\n",
              "  }\n",
              "\n",
              "  .colab-df-spinner {\n",
              "    border: 2px solid var(--fill-color);\n",
              "    border-color: transparent;\n",
              "    border-bottom-color: var(--fill-color);\n",
              "    animation:\n",
              "      spin 1s steps(1) infinite;\n",
              "  }\n",
              "\n",
              "  @keyframes spin {\n",
              "    0% {\n",
              "      border-color: transparent;\n",
              "      border-bottom-color: var(--fill-color);\n",
              "      border-left-color: var(--fill-color);\n",
              "    }\n",
              "    20% {\n",
              "      border-color: transparent;\n",
              "      border-left-color: var(--fill-color);\n",
              "      border-top-color: var(--fill-color);\n",
              "    }\n",
              "    30% {\n",
              "      border-color: transparent;\n",
              "      border-left-color: var(--fill-color);\n",
              "      border-top-color: var(--fill-color);\n",
              "      border-right-color: var(--fill-color);\n",
              "    }\n",
              "    40% {\n",
              "      border-color: transparent;\n",
              "      border-right-color: var(--fill-color);\n",
              "      border-top-color: var(--fill-color);\n",
              "    }\n",
              "    60% {\n",
              "      border-color: transparent;\n",
              "      border-right-color: var(--fill-color);\n",
              "    }\n",
              "    80% {\n",
              "      border-color: transparent;\n",
              "      border-right-color: var(--fill-color);\n",
              "      border-bottom-color: var(--fill-color);\n",
              "    }\n",
              "    90% {\n",
              "      border-color: transparent;\n",
              "      border-bottom-color: var(--fill-color);\n",
              "    }\n",
              "  }\n",
              "</style>\n",
              "\n",
              "  <script>\n",
              "    async function quickchart(key) {\n",
              "      const quickchartButtonEl =\n",
              "        document.querySelector('#' + key + ' button');\n",
              "      quickchartButtonEl.disabled = true;  // To prevent multiple clicks.\n",
              "      quickchartButtonEl.classList.add('colab-df-spinner');\n",
              "      try {\n",
              "        const charts = await google.colab.kernel.invokeFunction(\n",
              "            'suggestCharts', [key], {});\n",
              "      } catch (error) {\n",
              "        console.error('Error during call to suggestCharts:', error);\n",
              "      }\n",
              "      quickchartButtonEl.classList.remove('colab-df-spinner');\n",
              "      quickchartButtonEl.classList.add('colab-df-quickchart-complete');\n",
              "    }\n",
              "    (() => {\n",
              "      let quickchartButtonEl =\n",
              "        document.querySelector('#df-cb867c4f-9bcd-427d-851c-5268306de2b0 button');\n",
              "      quickchartButtonEl.style.display =\n",
              "        google.colab.kernel.accessAllowed ? 'block' : 'none';\n",
              "    })();\n",
              "  </script>\n",
              "</div>\n",
              "    </div>\n",
              "  </div>\n"
            ]
          },
          "metadata": {},
          "execution_count": 15
        }
      ]
    },
    {
      "cell_type": "markdown",
      "source": [
        "사이킷런 래퍼 XGBoost는 XGBoost를 사이킷런과의 연동을 용이하게 하기 위해 구현된 래퍼(Wrapper)\n",
        "\n",
        "- 분류 : XGBClassifier\n",
        "- 회귀 : XGBRegressor\n",
        "\n",
        "##하이퍼 파라미터의 차이\n",
        "eta -> learning_rate  \n",
        "sub_sample -> subsample   \n",
        "lambda -> reg_lambda   \n",
        "alpha -> reg_alpha   \n",
        "n_rounds -> n_estimators\n",
        "\n",
        "- 조기 중단 파라미터:  fit() 안에 early_stopping_rounds, eval_metric, eval_set\n",
        "> 해당 예제에서는 n_estimators보다 작은 횟수에서 멈춤"
      ],
      "metadata": {
        "id": "30AMUs_4mnZ8"
      }
    },
    {
      "cell_type": "code",
      "source": [
        "# 사이킷런 래퍼 XGBoost 클래스인 XGBClassifier 임포트\n",
        "from xgboost import XGBClassifier\n",
        "\n",
        "xgb_wrapper = XGBClassifier(n_estimators=400, learning_rate=0.1, max_depth=3)\n",
        "xgb_wrapper.fit(X_train, y_train)\n",
        "w_preds = xgb_wrapper.predict(X_test)\n",
        "w_pred_proba = xgb_wrapper.predict_proba(X_test)[:,1]"
      ],
      "metadata": {
        "id": "PxBX_XJjml8t"
      },
      "execution_count": null,
      "outputs": []
    },
    {
      "cell_type": "code",
      "source": [
        "# 모델의 예측 성능 평가\n",
        "get_clf_eval(y_test, w_preds, w_pred_proba)"
      ],
      "metadata": {
        "colab": {
          "base_uri": "https://localhost:8080/"
        },
        "id": "gXoWtOo1m99y",
        "outputId": "3b5f57b4-1ae6-4c93-9aa9-5d57a15322d7"
      },
      "execution_count": null,
      "outputs": [
        {
          "output_type": "stream",
          "name": "stdout",
          "text": [
            "오차 행렬\n",
            "[[35  2]\n",
            " [ 1 76]]\n",
            "정확도: 0.9737, 정밀도: 0.9744, 재현율: 0.9870,    F1: 0.9806, AUC:0.9947\n"
          ]
        }
      ]
    },
    {
      "cell_type": "code",
      "source": [
        "from xgboost import XGBClassifier\n",
        "\n",
        "xgb_wrapper = XGBClassifier(n_estimators=400, learning_rate=0.1, max_depth=3)\n",
        "evals = [(X_test, y_test)]\n",
        "xgb_wrapper.fit(X_train, y_train, early_stopping_rounds=100, eval_metric='logloss', eval_set=evals, verbose=True)\n",
        "ws100_preds = xgb_wrapper.predict(X_test)\n",
        "ws100_pred_proba = xgb_wrapper.predict_proba(X_test)[:,1]"
      ],
      "metadata": {
        "colab": {
          "base_uri": "https://localhost:8080/"
        },
        "id": "3Nk9ZFXBm-EK",
        "outputId": "7d23a38e-2da7-41ed-ffa8-aac6dba5aee7"
      },
      "execution_count": null,
      "outputs": [
        {
          "output_type": "stream",
          "name": "stdout",
          "text": [
            "[0]\tvalidation_0-logloss:0.56554\n",
            "[1]\tvalidation_0-logloss:0.50669\n",
            "[2]\tvalidation_0-logloss:0.45868\n",
            "[3]\tvalidation_0-logloss:0.41822\n",
            "[4]\tvalidation_0-logloss:0.38103\n",
            "[5]\tvalidation_0-logloss:0.35137\n",
            "[6]\tvalidation_0-logloss:0.32588\n",
            "[7]\tvalidation_0-logloss:0.30127\n",
            "[8]\tvalidation_0-logloss:0.28197\n",
            "[9]\tvalidation_0-logloss:0.26265\n",
            "[10]\tvalidation_0-logloss:0.24821\n",
            "[11]\tvalidation_0-logloss:0.23231\n",
            "[12]\tvalidation_0-logloss:0.22079\n",
            "[13]\tvalidation_0-logloss:0.20795\n",
            "[14]\tvalidation_0-logloss:0.19764\n",
            "[15]\tvalidation_0-logloss:0.18950\n",
            "[16]\tvalidation_0-logloss:0.18052\n",
            "[17]\tvalidation_0-logloss:0.17246\n",
            "[18]\tvalidation_0-logloss:0.16512\n",
            "[19]\tvalidation_0-logloss:0.15828\n",
            "[20]\tvalidation_0-logloss:0.15436\n",
            "[21]\tvalidation_0-logloss:0.14633\n",
            "[22]\tvalidation_0-logloss:0.13936\n",
            "[23]\tvalidation_0-logloss:0.13393\n",
            "[24]\tvalidation_0-logloss:0.13015\n",
            "[25]\tvalidation_0-logloss:0.12489\n",
            "[26]\tvalidation_0-logloss:0.12206\n",
            "[27]\tvalidation_0-logloss:0.11890\n",
            "[28]\tvalidation_0-logloss:0.11637\n",
            "[29]\tvalidation_0-logloss:0.11293\n",
            "[30]\tvalidation_0-logloss:0.11040\n",
            "[31]\tvalidation_0-logloss:0.10826\n",
            "[32]\tvalidation_0-logloss:0.10452\n",
            "[33]\tvalidation_0-logloss:0.10322\n",
            "[34]\tvalidation_0-logloss:0.10059\n",
            "[35]\tvalidation_0-logloss:0.09869\n",
            "[36]\tvalidation_0-logloss:0.09658\n",
            "[37]\tvalidation_0-logloss:0.09487\n",
            "[38]\tvalidation_0-logloss:0.09443\n",
            "[39]\tvalidation_0-logloss:0.09374\n",
            "[40]\tvalidation_0-logloss:0.09239\n",
            "[41]\tvalidation_0-logloss:0.09159\n",
            "[42]\tvalidation_0-logloss:0.09004\n",
            "[43]\tvalidation_0-logloss:0.09029\n",
            "[44]\tvalidation_0-logloss:0.08966\n",
            "[45]\tvalidation_0-logloss:0.08808\n",
            "[46]\tvalidation_0-logloss:0.08783\n",
            "[47]\tvalidation_0-logloss:0.08756\n",
            "[48]\tvalidation_0-logloss:0.08682\n",
            "[49]\tvalidation_0-logloss:0.08829\n",
            "[50]\tvalidation_0-logloss:0.08882\n",
            "[51]\tvalidation_0-logloss:0.08871\n",
            "[52]\tvalidation_0-logloss:0.08780\n",
            "[53]\tvalidation_0-logloss:0.08766\n",
            "[54]\tvalidation_0-logloss:0.08825\n",
            "[55]\tvalidation_0-logloss:0.08882\n",
            "[56]\tvalidation_0-logloss:0.08785\n",
            "[57]\tvalidation_0-logloss:0.08813\n",
            "[58]\tvalidation_0-logloss:0.08871\n",
            "[59]\tvalidation_0-logloss:0.08760\n",
            "[60]\tvalidation_0-logloss:0.08712\n",
            "[61]\tvalidation_0-logloss:0.08795\n",
            "[62]\tvalidation_0-logloss:0.08799\n",
            "[63]\tvalidation_0-logloss:0.08808\n",
            "[64]\tvalidation_0-logloss:0.08749\n",
            "[65]\tvalidation_0-logloss:0.08760\n",
            "[66]\tvalidation_0-logloss:0.08708\n",
            "[67]\tvalidation_0-logloss:0.08668\n",
            "[68]\tvalidation_0-logloss:0.08654\n",
            "[69]\tvalidation_0-logloss:0.08630\n",
            "[70]\tvalidation_0-logloss:0.08574\n",
            "[71]\tvalidation_0-logloss:0.08696\n",
            "[72]\tvalidation_0-logloss:0.08626\n",
            "[73]\tvalidation_0-logloss:0.08685\n",
            "[74]\tvalidation_0-logloss:0.08663\n",
            "[75]\tvalidation_0-logloss:0.08780\n",
            "[76]\tvalidation_0-logloss:0.08713\n",
            "[77]\tvalidation_0-logloss:0.08822\n",
            "[78]\tvalidation_0-logloss:0.08758\n",
            "[79]\tvalidation_0-logloss:0.08728\n",
            "[80]\tvalidation_0-logloss:0.08703\n",
            "[81]\tvalidation_0-logloss:0.08719\n",
            "[82]\tvalidation_0-logloss:0.08662\n",
            "[83]\tvalidation_0-logloss:0.08637\n",
            "[84]\tvalidation_0-logloss:0.08570\n",
            "[85]\tvalidation_0-logloss:0.08590\n",
            "[86]\tvalidation_0-logloss:0.08587\n",
            "[87]\tvalidation_0-logloss:0.08614\n",
            "[88]\tvalidation_0-logloss:0.08635\n",
            "[89]\tvalidation_0-logloss:0.08646\n",
            "[90]\tvalidation_0-logloss:0.08583\n",
            "[91]\tvalidation_0-logloss:0.08583\n",
            "[92]\tvalidation_0-logloss:0.08564\n",
            "[93]\tvalidation_0-logloss:0.08669\n",
            "[94]\tvalidation_0-logloss:0.08692\n",
            "[95]\tvalidation_0-logloss:0.08687\n",
            "[96]\tvalidation_0-logloss:0.08641\n",
            "[97]\tvalidation_0-logloss:0.08584\n",
            "[98]\tvalidation_0-logloss:0.08568\n",
            "[99]\tvalidation_0-logloss:0.08552\n",
            "[100]\tvalidation_0-logloss:0.08548\n",
            "[101]\tvalidation_0-logloss:0.08630\n",
            "[102]\tvalidation_0-logloss:0.08658\n",
            "[103]\tvalidation_0-logloss:0.08656\n",
            "[104]\tvalidation_0-logloss:0.08742\n",
            "[105]\tvalidation_0-logloss:0.08779\n",
            "[106]\tvalidation_0-logloss:0.08777\n",
            "[107]\tvalidation_0-logloss:0.08738\n",
            "[108]\tvalidation_0-logloss:0.08729\n",
            "[109]\tvalidation_0-logloss:0.08736\n",
            "[110]\tvalidation_0-logloss:0.08722\n",
            "[111]\tvalidation_0-logloss:0.08774\n",
            "[112]\tvalidation_0-logloss:0.08864\n",
            "[113]\tvalidation_0-logloss:0.08871\n",
            "[114]\tvalidation_0-logloss:0.08836\n",
            "[115]\tvalidation_0-logloss:0.08865\n",
            "[116]\tvalidation_0-logloss:0.08874\n",
            "[117]\tvalidation_0-logloss:0.08861\n",
            "[118]\tvalidation_0-logloss:0.08819\n",
            "[119]\tvalidation_0-logloss:0.08901\n",
            "[120]\tvalidation_0-logloss:0.08894\n",
            "[121]\tvalidation_0-logloss:0.08869\n",
            "[122]\tvalidation_0-logloss:0.08880\n",
            "[123]\tvalidation_0-logloss:0.08848\n",
            "[124]\tvalidation_0-logloss:0.08858\n",
            "[125]\tvalidation_0-logloss:0.08849\n",
            "[126]\tvalidation_0-logloss:0.08909\n",
            "[127]\tvalidation_0-logloss:0.08886\n",
            "[128]\tvalidation_0-logloss:0.08861\n",
            "[129]\tvalidation_0-logloss:0.08942\n",
            "[130]\tvalidation_0-logloss:0.08934\n",
            "[131]\tvalidation_0-logloss:0.08918\n",
            "[132]\tvalidation_0-logloss:0.08880\n",
            "[133]\tvalidation_0-logloss:0.08956\n",
            "[134]\tvalidation_0-logloss:0.08949\n",
            "[135]\tvalidation_0-logloss:0.08934\n",
            "[136]\tvalidation_0-logloss:0.08891\n",
            "[137]\tvalidation_0-logloss:0.08949\n",
            "[138]\tvalidation_0-logloss:0.08962\n",
            "[139]\tvalidation_0-logloss:0.08969\n",
            "[140]\tvalidation_0-logloss:0.08963\n",
            "[141]\tvalidation_0-logloss:0.08948\n",
            "[142]\tvalidation_0-logloss:0.08961\n",
            "[143]\tvalidation_0-logloss:0.09038\n",
            "[144]\tvalidation_0-logloss:0.09033\n",
            "[145]\tvalidation_0-logloss:0.08991\n",
            "[146]\tvalidation_0-logloss:0.08955\n",
            "[147]\tvalidation_0-logloss:0.08994\n",
            "[148]\tvalidation_0-logloss:0.09002\n",
            "[149]\tvalidation_0-logloss:0.09004\n",
            "[150]\tvalidation_0-logloss:0.09000\n",
            "[151]\tvalidation_0-logloss:0.08985\n",
            "[152]\tvalidation_0-logloss:0.08947\n",
            "[153]\tvalidation_0-logloss:0.08979\n",
            "[154]\tvalidation_0-logloss:0.09010\n",
            "[155]\tvalidation_0-logloss:0.09022\n",
            "[156]\tvalidation_0-logloss:0.09018\n",
            "[157]\tvalidation_0-logloss:0.08997\n",
            "[158]\tvalidation_0-logloss:0.09000\n",
            "[159]\tvalidation_0-logloss:0.08977\n",
            "[160]\tvalidation_0-logloss:0.08976\n",
            "[161]\tvalidation_0-logloss:0.08985\n",
            "[162]\tvalidation_0-logloss:0.08988\n",
            "[163]\tvalidation_0-logloss:0.08959\n",
            "[164]\tvalidation_0-logloss:0.08955\n",
            "[165]\tvalidation_0-logloss:0.08958\n",
            "[166]\tvalidation_0-logloss:0.08930\n",
            "[167]\tvalidation_0-logloss:0.08926\n",
            "[168]\tvalidation_0-logloss:0.08913\n",
            "[169]\tvalidation_0-logloss:0.08915\n",
            "[170]\tvalidation_0-logloss:0.08893\n",
            "[171]\tvalidation_0-logloss:0.08896\n",
            "[172]\tvalidation_0-logloss:0.08908\n",
            "[173]\tvalidation_0-logloss:0.08886\n",
            "[174]\tvalidation_0-logloss:0.08886\n",
            "[175]\tvalidation_0-logloss:0.08895\n",
            "[176]\tvalidation_0-logloss:0.08899\n",
            "[177]\tvalidation_0-logloss:0.08895\n",
            "[178]\tvalidation_0-logloss:0.08867\n",
            "[179]\tvalidation_0-logloss:0.08856\n",
            "[180]\tvalidation_0-logloss:0.08844\n",
            "[181]\tvalidation_0-logloss:0.08841\n",
            "[182]\tvalidation_0-logloss:0.08849\n",
            "[183]\tvalidation_0-logloss:0.08853\n",
            "[184]\tvalidation_0-logloss:0.08831\n",
            "[185]\tvalidation_0-logloss:0.08843\n",
            "[186]\tvalidation_0-logloss:0.08847\n",
            "[187]\tvalidation_0-logloss:0.08826\n",
            "[188]\tvalidation_0-logloss:0.08827\n",
            "[189]\tvalidation_0-logloss:0.08817\n",
            "[190]\tvalidation_0-logloss:0.08826\n",
            "[191]\tvalidation_0-logloss:0.08823\n",
            "[192]\tvalidation_0-logloss:0.08811\n",
            "[193]\tvalidation_0-logloss:0.08791\n",
            "[194]\tvalidation_0-logloss:0.08795\n",
            "[195]\tvalidation_0-logloss:0.08806\n",
            "[196]\tvalidation_0-logloss:0.08787\n",
            "[197]\tvalidation_0-logloss:0.08790\n",
            "[198]\tvalidation_0-logloss:0.08792\n",
            "[199]\tvalidation_0-logloss:0.08800\n"
          ]
        }
      ]
    },
    {
      "cell_type": "code",
      "source": [
        "# 조기 중단으로 학습된 XGBCllassifier의 예측 성능\n",
        "get_clf_eval(y_test, ws100_preds, ws100_pred_proba)"
      ],
      "metadata": {
        "colab": {
          "base_uri": "https://localhost:8080/"
        },
        "id": "0NqEaVGFm-Kp",
        "outputId": "c01478e2-9166-44db-d65a-aa4bf79eb4fa"
      },
      "execution_count": null,
      "outputs": [
        {
          "output_type": "stream",
          "name": "stdout",
          "text": [
            "오차 행렬\n",
            "[[34  3]\n",
            " [ 1 76]]\n",
            "정확도: 0.9649, 정밀도: 0.9620, 재현율: 0.9870,    F1: 0.9744, AUC:0.9951\n"
          ]
        }
      ]
    },
    {
      "cell_type": "code",
      "source": [
        "# early_stopping_rounds를 10으로 설정했을 떼\n",
        "xgb_wrapper.fit(X_train, y_train, early_stopping_rounds=10, eval_metric='logloss', eval_set=evals, verbose=True)\n",
        "\n",
        "ws10_preds = xgb_wrapper.predict(X_test)\n",
        "ws10_pred_proba = xgb_wrapper.predict_proba(X_test)[:,1]\n",
        "get_clf_eval(y_test, ws10_preds, ws10_pred_proba)"
      ],
      "metadata": {
        "colab": {
          "base_uri": "https://localhost:8080/"
        },
        "id": "-e2gYefYm-Ry",
        "outputId": "60ba9c46-c872-423a-bf17-bf8855b69fbc"
      },
      "execution_count": null,
      "outputs": [
        {
          "output_type": "stream",
          "name": "stdout",
          "text": [
            "[0]\tvalidation_0-logloss:0.56554\n",
            "[1]\tvalidation_0-logloss:0.50669\n",
            "[2]\tvalidation_0-logloss:0.45868\n",
            "[3]\tvalidation_0-logloss:0.41822\n",
            "[4]\tvalidation_0-logloss:0.38103\n",
            "[5]\tvalidation_0-logloss:0.35137\n",
            "[6]\tvalidation_0-logloss:0.32588\n",
            "[7]\tvalidation_0-logloss:0.30127\n",
            "[8]\tvalidation_0-logloss:0.28197\n",
            "[9]\tvalidation_0-logloss:0.26265\n",
            "[10]\tvalidation_0-logloss:0.24821\n",
            "[11]\tvalidation_0-logloss:0.23231\n",
            "[12]\tvalidation_0-logloss:0.22079\n",
            "[13]\tvalidation_0-logloss:0.20795\n",
            "[14]\tvalidation_0-logloss:0.19764\n",
            "[15]\tvalidation_0-logloss:0.18950\n",
            "[16]\tvalidation_0-logloss:0.18052\n",
            "[17]\tvalidation_0-logloss:0.17246\n",
            "[18]\tvalidation_0-logloss:0.16512\n",
            "[19]\tvalidation_0-logloss:0.15828\n",
            "[20]\tvalidation_0-logloss:0.15436\n",
            "[21]\tvalidation_0-logloss:0.14633\n",
            "[22]\tvalidation_0-logloss:0.13936\n",
            "[23]\tvalidation_0-logloss:0.13393\n",
            "[24]\tvalidation_0-logloss:0.13015\n",
            "[25]\tvalidation_0-logloss:0.12489\n",
            "[26]\tvalidation_0-logloss:0.12206\n",
            "[27]\tvalidation_0-logloss:0.11890\n",
            "[28]\tvalidation_0-logloss:0.11637\n",
            "[29]\tvalidation_0-logloss:0.11293\n",
            "[30]\tvalidation_0-logloss:0.11040\n",
            "[31]\tvalidation_0-logloss:0.10826\n",
            "[32]\tvalidation_0-logloss:0.10452\n",
            "[33]\tvalidation_0-logloss:0.10322\n",
            "[34]\tvalidation_0-logloss:0.10059\n",
            "[35]\tvalidation_0-logloss:0.09869\n",
            "[36]\tvalidation_0-logloss:0.09658\n",
            "[37]\tvalidation_0-logloss:0.09487\n",
            "[38]\tvalidation_0-logloss:0.09443\n",
            "[39]\tvalidation_0-logloss:0.09374\n",
            "[40]\tvalidation_0-logloss:0.09239\n",
            "[41]\tvalidation_0-logloss:0.09159\n",
            "[42]\tvalidation_0-logloss:0.09004\n",
            "[43]\tvalidation_0-logloss:0.09029\n",
            "[44]\tvalidation_0-logloss:0.08966\n",
            "[45]\tvalidation_0-logloss:0.08808\n",
            "[46]\tvalidation_0-logloss:0.08783\n",
            "[47]\tvalidation_0-logloss:0.08756\n",
            "[48]\tvalidation_0-logloss:0.08682\n",
            "[49]\tvalidation_0-logloss:0.08829\n",
            "[50]\tvalidation_0-logloss:0.08882\n",
            "[51]\tvalidation_0-logloss:0.08871\n",
            "[52]\tvalidation_0-logloss:0.08780\n",
            "[53]\tvalidation_0-logloss:0.08766\n",
            "[54]\tvalidation_0-logloss:0.08825\n",
            "[55]\tvalidation_0-logloss:0.08882\n",
            "[56]\tvalidation_0-logloss:0.08785\n",
            "[57]\tvalidation_0-logloss:0.08813\n",
            "[58]\tvalidation_0-logloss:0.08871\n",
            "오차 행렬\n",
            "[[34  3]\n",
            " [ 2 75]]\n",
            "정확도: 0.9561, 정밀도: 0.9615, 재현율: 0.9740,    F1: 0.9677, AUC:0.9954\n"
          ]
        }
      ]
    },
    {
      "cell_type": "code",
      "source": [
        "from xgboost import plot_importance\n",
        "import matplotlib.pyplot as plt\n",
        "%matplotlib inline\n",
        "\n",
        "fig, ax=plt.subplots(figsize=(10,12))\n",
        "\n",
        "#사이킷런 Wrapper 클래스를 입력해도 무방\n",
        "plot_importance(xgb_wrapper, ax=ax)"
      ],
      "metadata": {
        "colab": {
          "base_uri": "https://localhost:8080/",
          "height": 1000
        },
        "id": "cT1HqPRcm-Yq",
        "outputId": "ea932905-7eb3-40d5-bf34-3b8085573375"
      },
      "execution_count": null,
      "outputs": [
        {
          "output_type": "execute_result",
          "data": {
            "text/plain": [
              "<Axes: title={'center': 'Feature importance'}, xlabel='F score', ylabel='Features'>"
            ]
          },
          "metadata": {},
          "execution_count": 21
        },
        {
          "output_type": "display_data",
          "data": {
            "text/plain": [
              "<Figure size 1000x1200 with 1 Axes>"
            ],
            "image/png": "[encoded data removed]"
          },
          "metadata": {}
        }
      ]
    },
    {
      "cell_type": "code",
      "source": [
        "#LightGBM의 파이썬 패키지인 lightgbm에서 LGBMClassifier 임포트\n",
        "from lightgbm import LGBMClassifier\n",
        "\n",
        "import pandas as pd\n",
        "import numpy as np\n",
        "from sklearn.datasets import load_breast_cancer\n",
        "from sklearn.model_selection import train_test_split\n",
        "\n",
        "dataset = load_breast_cancer()\n",
        "ftr = dataset.data\n",
        "target = dataset.target\n",
        "\n",
        "# 전체 데이터 중 80%는 학습용데이터 , 20%는 테스트용 데이터 추출\n",
        "X_train, X_test, y_train, y_test = train_test_split(ftr, target, test_size=0.2, random_state=156)\n",
        "\n",
        "# 앞서 XGBoost와 동일하게 n_estmators는 400 설정\n",
        "lgbm_wrapper = LGBMClassifier(n_estimators=400)\n",
        "\n",
        "# LightGBM도 XGBoost와 동일하게 조기 중단 수행 가능\n",
        "evals = [(X_test, y_test)]\n",
        "lgbm_wrapper.fit(X_train, y_train, early_stopping_round=100, eval_metric='logloss',\n",
        "                 eval_set=evals, verbose=True)\n",
        "preds = lgbm_wrapper.predict(X_test)\n",
        "pred_proba = lgbm_wrapper.predict_proba(X_test)[:,1]\n",
        "\n"
      ],
      "metadata": {
        "colab": {
          "base_uri": "https://localhost:8080/",
          "height": 253
        },
        "id": "Z9QLly8dm-fY",
        "outputId": "f38678f5-9a25-4d16-f7da-31cd22138296"
      },
      "execution_count": null,
      "outputs": [
        {
          "output_type": "error",
          "ename": "TypeError",
          "evalue": "ignored",
          "traceback": [
            "\u001b[0;31m---------------------------------------------------------------------------\u001b[0m",
            "\u001b[0;31mTypeError\u001b[0m                                 Traceback (most recent call last)",
            "\u001b[0;32m<ipython-input-24-b91e73c3229c>\u001b[0m in \u001b[0;36m<cell line: 21>\u001b[0;34m()\u001b[0m\n\u001b[1;32m     19\u001b[0m \u001b[0;31m# LightGBM도 XGBoost와 동일하게 조기 중단 수행 가능\u001b[0m\u001b[0;34m\u001b[0m\u001b[0;34m\u001b[0m\u001b[0m\n\u001b[1;32m     20\u001b[0m \u001b[0mevals\u001b[0m \u001b[0;34m=\u001b[0m \u001b[0;34m[\u001b[0m\u001b[0;34m(\u001b[0m\u001b[0mX_test\u001b[0m\u001b[0;34m,\u001b[0m \u001b[0my_test\u001b[0m\u001b[0;34m)\u001b[0m\u001b[0;34m]\u001b[0m\u001b[0;34m\u001b[0m\u001b[0;34m\u001b[0m\u001b[0m\n\u001b[0;32m---> 21\u001b[0;31m lgbm_wrapper.fit(X_train, y_train, early_stopping_round=100, eval_metric='logloss',\n\u001b[0m\u001b[1;32m     22\u001b[0m                  eval_set=evals, verbose=True)\n\u001b[1;32m     23\u001b[0m \u001b[0mpreds\u001b[0m \u001b[0;34m=\u001b[0m \u001b[0mlgbm_wrapper\u001b[0m\u001b[0;34m.\u001b[0m\u001b[0mpredict\u001b[0m\u001b[0;34m(\u001b[0m\u001b[0mX_test\u001b[0m\u001b[0;34m)\u001b[0m\u001b[0;34m\u001b[0m\u001b[0;34m\u001b[0m\u001b[0m\n",
            "\u001b[0;31mTypeError\u001b[0m: LGBMClassifier.fit() got an unexpected keyword argument 'early_stopping_round'"
          ]
        }
      ]
    },
    {
      "cell_type": "code",
      "source": [
        "from lightgbm import LGBMClassifier\n",
        "\n",
        "import pandas as pd\n",
        "import numpy as np\n",
        "from sklearn.datasets import load_breast_cancer\n",
        "from sklearn.model_selection import train_test_split\n",
        "\n",
        "dataset = load_breast_cancer()\n",
        "ftr = dataset.data\n",
        "target = dataset.target\n",
        "\n",
        "X_train, X_test, y_train, y_test = train_test_split(ftr, target, test_size=0.2, random_state=156)\n",
        "\n"
      ],
      "metadata": {
        "id": "XMv2ykDCosEY"
      },
      "execution_count": null,
      "outputs": []
    },
    {
      "cell_type": "code",
      "source": [
        "# 앞서 XGBoost와 동일하게 n_estmators는 400 설정\n",
        "lgbm_wrapper = LGBMClassifier(n_estimators=400)\n",
        "\n",
        "# LightGBM도 XGBoost와 동일하게 조기 중단 수행 가능\n",
        "evals = [(X_test, y_test)]\n",
        "lgbm_wrapper.fit(X_train, y_train, early_stopping_rounds=100, eval_metric='logloss',\n",
        "                 eval_set=evals, verbose=True)\n",
        "preds = lgbm_wrapper.predict(X_test)\n",
        "pred_proba = lgbm_wrapper.predict_proba(X_test)[:,1]\n",
        "\n"
      ],
      "metadata": {
        "colab": {
          "base_uri": "https://localhost:8080/",
          "height": 253
        },
        "id": "1dbrQY0gosNq",
        "outputId": "c4029b05-dc40-43f8-dce0-91a48e1a2ad0"
      },
      "execution_count": null,
      "outputs": [
        {
          "output_type": "error",
          "ename": "TypeError",
          "evalue": "ignored",
          "traceback": [
            "\u001b[0;31m---------------------------------------------------------------------------\u001b[0m",
            "\u001b[0;31mTypeError\u001b[0m                                 Traceback (most recent call last)",
            "\u001b[0;32m<ipython-input-30-6f0cf8ab80a8>\u001b[0m in \u001b[0;36m<cell line: 6>\u001b[0;34m()\u001b[0m\n\u001b[1;32m      4\u001b[0m \u001b[0;31m# LightGBM도 XGBoost와 동일하게 조기 중단 수행 가능\u001b[0m\u001b[0;34m\u001b[0m\u001b[0;34m\u001b[0m\u001b[0m\n\u001b[1;32m      5\u001b[0m \u001b[0mevals\u001b[0m \u001b[0;34m=\u001b[0m \u001b[0;34m[\u001b[0m\u001b[0;34m(\u001b[0m\u001b[0mX_test\u001b[0m\u001b[0;34m,\u001b[0m \u001b[0my_test\u001b[0m\u001b[0;34m)\u001b[0m\u001b[0;34m]\u001b[0m\u001b[0;34m\u001b[0m\u001b[0;34m\u001b[0m\u001b[0m\n\u001b[0;32m----> 6\u001b[0;31m lgbm_wrapper.fit(X_train, y_train, early_stopping_rounds=100, eval_metric='logloss',\n\u001b[0m\u001b[1;32m      7\u001b[0m                  eval_set=evals, verbose=True)\n\u001b[1;32m      8\u001b[0m \u001b[0mpreds\u001b[0m \u001b[0;34m=\u001b[0m \u001b[0mlgbm_wrapper\u001b[0m\u001b[0;34m.\u001b[0m\u001b[0mpredict\u001b[0m\u001b[0;34m(\u001b[0m\u001b[0mX_test\u001b[0m\u001b[0;34m)\u001b[0m\u001b[0;34m\u001b[0m\u001b[0;34m\u001b[0m\u001b[0m\n",
            "\u001b[0;31mTypeError\u001b[0m: LGBMClassifier.fit() got an unexpected keyword argument 'early_stopping_rounds'"
          ]
        }
      ]
    },
    {
      "cell_type": "code",
      "source": [
        "# plot_importance()를 이용해 피처 중요도 시각화 : Column_0 : 첫번째 피처, Column_1 : 두번째 피처\n",
        "from lightgbm import plot_importance\n",
        "import matplotlib.pyplot as plt\n",
        "%matplotlib inline\n",
        "\n",
        "fig, ax=plt.subplots(figsize=(10,12))\n",
        "plot_importance(lgbm_wrapper, ax=ax)"
      ],
      "metadata": {
        "id": "9nYo1x7jm-lF"
      },
      "execution_count": null,
      "outputs": []
    },
    {
      "cell_type": "markdown",
      "source": [
        "**스태킹앙상블**"
      ],
      "metadata": {
        "id": "JMZQdb0YqfbZ"
      }
    },
    {
      "cell_type": "code",
      "source": [
        "import numpy as np\n",
        "\n",
        "from sklearn.neighbors import KNeighborsClassifier\n",
        "from sklearn.ensemble import RandomForestClassifier\n",
        "from sklearn.ensemble import AdaBoostClassifier\n",
        "from sklearn.tree import DecisionTreeClassifier\n",
        "from sklearn.linear_model import LogisticRegression\n",
        "\n",
        "from sklearn.datasets import load_breast_cancer\n",
        "from sklearn.model_selection import train_test_split\n",
        "from sklearn.metrics import accuracy_score\n",
        "\n",
        "cancer_data = load_breast_cancer()\n",
        "\n",
        "X_data = cancer_data.data\n",
        "y_label = cancer_data.target\n",
        "\n",
        "X_train, X_test, y_train, y_test = train_test_split(X_data, y_label, test_size=0.2, random_state=0)"
      ],
      "metadata": {
        "id": "yfmj3AsUm-tf"
      },
      "execution_count": null,
      "outputs": []
    },
    {
      "cell_type": "code",
      "source": [
        "# 개별 ML 모델 생성\n",
        "knn_clf=KNeighborsClassifier(n_neighbors=4)\n",
        "rf_clf=RandomForestClassifier(n_estimators=100, random_state=0)\n",
        "dt_clf=DecisionTreeClassifier()\n",
        "ada_clf=AdaBoostClassifier(n_estimators=100)\n",
        "\n",
        "#스태킹으로 만들어진 데이터 세트를 학습, 예측할 최종 모델\n",
        "lr_final=LogisticRegression(C=10)"
      ],
      "metadata": {
        "id": "ySyaXXDpqd_d"
      },
      "execution_count": null,
      "outputs": []
    },
    {
      "cell_type": "code",
      "source": [
        "\n",
        "# 개별 모델들을 학습\n",
        "knn_clf.fit(X_train, y_train)\n",
        "rf_clf.fit(X_train, y_train)\n",
        "dt_clf.fit(X_train, y_train)\n",
        "ada_clf.fit(X_train, y_train)"
      ],
      "metadata": {
        "colab": {
          "base_uri": "https://localhost:8080/",
          "height": 74
        },
        "id": "NpCTPghvqeHR",
        "outputId": "b6739d3c-4e5e-43d4-f56e-e8c7284d1aea"
      },
      "execution_count": null,
      "outputs": [
        {
          "output_type": "execute_result",
          "data": {
            "text/plain": [
              "AdaBoostClassifier(n_estimators=100)"
            ],
            "text/html": [
              "<style>#sk-container-id-1 {color: black;background-color: white;}#sk-container-id-1 pre{padding: 0;}#sk-container-id-1 div.sk-toggleable {background-color: white;}#sk-container-id-1 label.sk-toggleable__label {cursor: pointer;display: block;width: 100%;margin-bottom: 0;padding: 0.3em;box-sizing: border-box;text-align: center;}#sk-container-id-1 label.sk-toggleable__label-arrow:before {content: \"▸\";float: left;margin-right: 0.25em;color: #696969;}#sk-container-id-1 label.sk-toggleable__label-arrow:hover:before {color: black;}#sk-container-id-1 div.sk-estimator:hover label.sk-toggleable__label-arrow:before {color: black;}#sk-container-id-1 div.sk-toggleable__content {max-height: 0;max-width: 0;overflow: hidden;text-align: left;background-color: #f0f8ff;}#sk-container-id-1 div.sk-toggleable__content pre {margin: 0.2em;color: black;border-radius: 0.25em;background-color: #f0f8ff;}#sk-container-id-1 input.sk-toggleable__control:checked~div.sk-toggleable__content {max-height: 200px;max-width: 100%;overflow: auto;}#sk-container-id-1 input.sk-toggleable__control:checked~label.sk-toggleable__label-arrow:before {content: \"▾\";}#sk-container-id-1 div.sk-estimator input.sk-toggleable__control:checked~label.sk-toggleable__label {background-color: #d4ebff;}#sk-container-id-1 div.sk-label input.sk-toggleable__control:checked~label.sk-toggleable__label {background-color: #d4ebff;}#sk-container-id-1 input.sk-hidden--visually {border: 0;clip: rect(1px 1px 1px 1px);clip: rect(1px, 1px, 1px, 1px);height: 1px;margin: -1px;overflow: hidden;padding: 0;position: absolute;width: 1px;}#sk-container-id-1 div.sk-estimator {font-family: monospace;background-color: #f0f8ff;border: 1px dotted black;border-radius: 0.25em;box-sizing: border-box;margin-bottom: 0.5em;}#sk-container-id-1 div.sk-estimator:hover {background-color: #d4ebff;}#sk-container-id-1 div.sk-parallel-item::after {content: \"\";width: 100%;border-bottom: 1px solid gray;flex-grow: 1;}#sk-container-id-1 div.sk-label:hover label.sk-toggleable__label {background-color: #d4ebff;}#sk-container-id-1 div.sk-serial::before {content: \"\";position: absolute;border-left: 1px solid gray;box-sizing: border-box;top: 0;bottom: 0;left: 50%;z-index: 0;}#sk-container-id-1 div.sk-serial {display: flex;flex-direction: column;align-items: center;background-color: white;padding-right: 0.2em;padding-left: 0.2em;position: relative;}#sk-container-id-1 div.sk-item {position: relative;z-index: 1;}#sk-container-id-1 div.sk-parallel {display: flex;align-items: stretch;justify-content: center;background-color: white;position: relative;}#sk-container-id-1 div.sk-item::before, #sk-container-id-1 div.sk-parallel-item::before {content: \"\";position: absolute;border-left: 1px solid gray;box-sizing: border-box;top: 0;bottom: 0;left: 50%;z-index: -1;}#sk-container-id-1 div.sk-parallel-item {display: flex;flex-direction: column;z-index: 1;position: relative;background-color: white;}#sk-container-id-1 div.sk-parallel-item:first-child::after {align-self: flex-end;width: 50%;}#sk-container-id-1 div.sk-parallel-item:last-child::after {align-self: flex-start;width: 50%;}#sk-container-id-1 div.sk-parallel-item:only-child::after {width: 0;}#sk-container-id-1 div.sk-dashed-wrapped {border: 1px dashed gray;margin: 0 0.4em 0.5em 0.4em;box-sizing: border-box;padding-bottom: 0.4em;background-color: white;}#sk-container-id-1 div.sk-label label {font-family: monospace;font-weight: bold;display: inline-block;line-height: 1.2em;}#sk-container-id-1 div.sk-label-container {text-align: center;}#sk-container-id-1 div.sk-container {/* jupyter's `normalize.less` sets `[hidden] { display: none; }` but bootstrap.min.css set `[hidden] { display: none !important; }` so we also need the `!important` here to be able to override the default hidden behavior on the sphinx rendered scikit-learn.org. See: https://github.com/scikit-learn/scikit-learn/issues/21755 */display: inline-block !important;position: relative;}#sk-container-id-1 div.sk-text-repr-fallback {display: none;}</style><div id=\"sk-container-id-1\" class=\"sk-top-container\"><div class=\"sk-text-repr-fallback\"><pre>AdaBoostClassifier(n_estimators=100)</pre><b>In a Jupyter environment, please rerun this cell to show the HTML representation or trust the notebook. <br />On GitHub, the HTML representation is unable to render, please try loading this page with nbviewer.org.</b></div><div class=\"sk-container\" hidden><div class=\"sk-item\"><div class=\"sk-estimator sk-toggleable\"><input class=\"sk-toggleable__control sk-hidden--visually\" id=\"sk-estimator-id-1\" type=\"checkbox\" checked><label for=\"sk-estimator-id-1\" class=\"sk-toggleable__label sk-toggleable__label-arrow\">AdaBoostClassifier</label><div class=\"sk-toggleable__content\"><pre>AdaBoostClassifier(n_estimators=100)</pre></div></div></div></div></div>"
            ]
          },
          "metadata": {},
          "execution_count": 34
        }
      ]
    },
    {
      "cell_type": "code",
      "source": [
        "# 학습된 개별 모델들이 각자 반환하는 예측 데이터 세트를 생성하고 개별 모델의 정확도 측정\n",
        "knn_pred=knn_clf.predict(X_test)\n",
        "rf_pred=rf_clf.predict(X_test)\n",
        "dt_pred=dt_clf.predict(X_test)\n",
        "ada_pred=ada_clf.predict(X_test)\n",
        "\n",
        "print('KNN 정확도:{0:.4f}'.format(accuracy_score(y_test, knn_pred)))\n",
        "print('랜덤 포레스트 정확도:{0:.4f}'.format(accuracy_score(y_test, rf_pred)))\n",
        "print('결정 트리 정확도:{0:.4f}'.format(accuracy_score(y_test, dt_pred)))\n",
        "print('에이다부스트 정확도:{0:.4f}'.format(accuracy_score(y_test, ada_pred)))"
      ],
      "metadata": {
        "colab": {
          "base_uri": "https://localhost:8080/"
        },
        "id": "3EuU9pUuqeRG",
        "outputId": "6bf08f99-b050-4439-c71a-6ceeac21899c"
      },
      "execution_count": null,
      "outputs": [
        {
          "output_type": "stream",
          "name": "stdout",
          "text": [
            "KNN 정확도:0.9211\n",
            "랜덤 포레스트 정확도:0.9649\n",
            "결정 트리 정확도:0.9035\n",
            "에이다부스트 정확도:0.9561\n"
          ]
        }
      ]
    },
    {
      "cell_type": "code",
      "source": [
        "pred=np.array([knn_pred, rf_pred, dt_pred, ada_pred])\n",
        "print(pred.shape)\n",
        "\n",
        "#transpose를 이용해 행과 열의 위치 교환. 칼럼 레벨로 각 알고리즘의 예측 결과를 피처로 만듦\n",
        "pred=np.transpose(pred)\n",
        "print(pred.shape)"
      ],
      "metadata": {
        "colab": {
          "base_uri": "https://localhost:8080/"
        },
        "id": "6wecAa3kqnw1",
        "outputId": "9f32ae09-58fb-4fe4-b90e-10e9d220f042"
      },
      "execution_count": null,
      "outputs": [
        {
          "output_type": "stream",
          "name": "stdout",
          "text": [
            "(4, 114)\n",
            "(114, 4)\n"
          ]
        }
      ]
    },
    {
      "cell_type": "code",
      "source": [
        "\n",
        "# 최종 메타 모델인 로지스틱 회귀를 학습하고 예측 정확도 측정\n",
        "\n",
        "lr_final.fit(pred, y_test)\n",
        "final=lr_final.predict(pred)\n",
        "print('최종 메타 모델의 예측 정확도:{0:.4f}'.format(accuracy_score(y_test, final)))\n"
      ],
      "metadata": {
        "colab": {
          "base_uri": "https://localhost:8080/"
        },
        "id": "hN4DD7d2qpMb",
        "outputId": "b5bce091-f01d-490a-99e0-b18464e31a8e"
      },
      "execution_count": null,
      "outputs": [
        {
          "output_type": "stream",
          "name": "stdout",
          "text": [
            "최종 메타 모델의 예측 정확도:0.9649\n"
          ]
        }
      ]
    },
    {
      "cell_type": "code",
      "source": [
        "# 스텝 1 코드 구현\n",
        "\n",
        "from sklearn.model_selection import KFold\n",
        "from sklearn.metrics import mean_absolute_error\n",
        "\n",
        "# 개별 기반 모델에서 최종 메타 모델이 사용할 학습 및 테스트용 데이터를 생성하기 위한 함수.\n",
        "def get_stacking_base_datasets(model, X_train_n, y_train_n, X_test_n, n_folds ):\n",
        "    # 지정된 n_folds값으로 KFold 생성.\n",
        "    kf=KFold(n_splits=n_folds, shuffle=True, random_state=0)\n",
        "    #추후에 메타 모델이 사용할 학습 데이터 반환을 위한 넘파이 배열 초기화\n",
        "    train_fold_pred = np.zeros((X_train_n.shape[0] ,1 ))\n",
        "    test_pred = np.zeros((X_test_n.shape[0],n_folds))\n",
        "    print(model.__class__.__name__ , ' model 시작 ')\n",
        "\n",
        "    for folder_counter , (train_index, valid_index) in enumerate(kf.split(X_train_n)):\n",
        "        #입력된 학습 데이터에서 기반 모델이 학습/예측할 폴드 데이터 셋 추출\n",
        "        print('\\t 폴드 세트: ',folder_counter,' 시작 ')\n",
        "        X_tr=X_train_n[train_index]\n",
        "        y_tr=y_train_n[train_index]\n",
        "        X_te=X_train_n[valid_index]\n",
        "\n",
        "        #폴드 세트 내부에서 다시 만들어진 학습 데이터로 기반 모델의 학습 수행.\n",
        "        model.fit(X_tr , y_tr)\n",
        "        #폴드 세트 내부에서 다시 만들어진 검증 데이터로 기반 모델 예측 후 데이터 저장.\n",
        "        train_fold_pred[valid_index, :]=model.predict(X_te).reshape(-1,1)\n",
        "        #입력된 원본 테스트 데이터를 폴드 세트내 학습된 기반 모델에서 예측 후 데이터 저장.\n",
        "        test_pred[:, folder_counter]=model.predict(X_test_n)\n",
        "\n",
        "    # 폴드 세트 내에서 원본 테스트 데이터를 예측한 데이터를 평균하여 테스트 데이터로 생성\n",
        "    test_pred_mean=np.mean(test_pred, axis=1).reshape(-1,1)\n",
        "\n",
        "    #train_fold_pred는 최종 메타 모델이 사용하는 학습 데이터, test_pred_mean은 테스트 데이터\n",
        "    return train_fold_pred , test_pred_mean"
      ],
      "metadata": {
        "id": "Um_icOfFqrOB"
      },
      "execution_count": null,
      "outputs": []
    },
    {
      "cell_type": "code",
      "source": [
        "\n",
        "knn_train, knn_test=get_stacking_base_datasets(knn_clf, X_train, y_train, X_test, 7)\n",
        "rf_train, rf_test=get_stacking_base_datasets(rf_clf, X_train, y_train, X_test, 7)\n",
        "dt_train, dt_test=get_stacking_base_datasets(dt_clf, X_train, y_train, X_test,  7)\n",
        "ada_train, ada_test=get_stacking_base_datasets(ada_clf, X_train, y_train, X_test,7)"
      ],
      "metadata": {
        "id": "zsgokTF1q2bb",
        "outputId": "5a08ca1f-0597-4c3c-d5de-02f52498e3d0",
        "colab": {
          "base_uri": "https://localhost:8080/"
        }
      },
      "execution_count": null,
      "outputs": [
        {
          "output_type": "stream",
          "name": "stdout",
          "text": [
            "KNeighborsClassifier  model 시작 \n",
            "\t 폴드 세트:  0  시작 \n",
            "\t 폴드 세트:  1  시작 \n",
            "\t 폴드 세트:  2  시작 \n",
            "\t 폴드 세트:  3  시작 \n",
            "\t 폴드 세트:  4  시작 \n",
            "\t 폴드 세트:  5  시작 \n",
            "\t 폴드 세트:  6  시작 \n",
            "RandomForestClassifier  model 시작 \n",
            "\t 폴드 세트:  0  시작 \n",
            "\t 폴드 세트:  1  시작 \n",
            "\t 폴드 세트:  2  시작 \n",
            "\t 폴드 세트:  3  시작 \n",
            "\t 폴드 세트:  4  시작 \n",
            "\t 폴드 세트:  5  시작 \n",
            "\t 폴드 세트:  6  시작 \n",
            "DecisionTreeClassifier  model 시작 \n",
            "\t 폴드 세트:  0  시작 \n",
            "\t 폴드 세트:  1  시작 \n",
            "\t 폴드 세트:  2  시작 \n",
            "\t 폴드 세트:  3  시작 \n",
            "\t 폴드 세트:  4  시작 \n",
            "\t 폴드 세트:  5  시작 \n",
            "\t 폴드 세트:  6  시작 \n",
            "AdaBoostClassifier  model 시작 \n",
            "\t 폴드 세트:  0  시작 \n",
            "\t 폴드 세트:  1  시작 \n",
            "\t 폴드 세트:  2  시작 \n",
            "\t 폴드 세트:  3  시작 \n",
            "\t 폴드 세트:  4  시작 \n",
            "\t 폴드 세트:  5  시작 \n",
            "\t 폴드 세트:  6  시작 \n"
          ]
        }
      ]
    },
    {
      "cell_type": "code",
      "source": [
        "\n",
        "# 스텝 2 코드 구현\n",
        "\n",
        "Stack_final_X_train = np.concatenate((knn_train, rf_train, dt_train, ada_train), axis=1)\n",
        "Stack_final_X_test = np.concatenate((knn_test, rf_test, dt_test, ada_test), axis=1)\n",
        "print('원본 학습 피처 데이터 Shape:',X_train.shape, '원본 테스트 피처 Shape:',X_test.shape)\n",
        "print('스태킹 학습 피처 데이터 Shape:', Stack_final_X_train.shape,\n",
        "      '스태킹 테스트 피처 데이터 Shape:',Stack_final_X_test.shape)"
      ],
      "metadata": {
        "id": "K5xclBSEq2iR",
        "outputId": "ec0150db-b1cd-4b0e-a287-62db4078a9c2",
        "colab": {
          "base_uri": "https://localhost:8080/"
        }
      },
      "execution_count": null,
      "outputs": [
        {
          "output_type": "stream",
          "name": "stdout",
          "text": [
            "원본 학습 피처 데이터 Shape: (455, 30) 원본 테스트 피처 Shape: (114, 30)\n",
            "스태킹 학습 피처 데이터 Shape: (455, 4) 스태킹 테스트 피처 데이터 Shape: (114, 4)\n"
          ]
        }
      ]
    },
    {
      "cell_type": "code",
      "source": [
        "\n",
        "lr_final.fit(Stack_final_X_train, y_train)\n",
        "stack_final = lr_final.predict(Stack_final_X_test)\n",
        "\n",
        "print('최종 메타 모델의 예측 정확도: {0:.4f}'.format(accuracy_score(y_test, stack_final)))"
      ],
      "metadata": {
        "id": "ZAIsh_e2q2oK",
        "outputId": "9eea5a94-0449-4177-c75f-6778ace0fb18",
        "colab": {
          "base_uri": "https://localhost:8080/"
        }
      },
      "execution_count": null,
      "outputs": [
        {
          "output_type": "stream",
          "name": "stdout",
          "text": [
            "최종 메타 모델의 예측 정확도: 0.9649\n"
          ]
        }
      ]
    }
  ]
}