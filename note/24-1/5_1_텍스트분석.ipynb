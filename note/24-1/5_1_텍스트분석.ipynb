{
  "nbformat": 4,
  "nbformat_minor": 0,
  "metadata": {
    "colab": {
      "provenance": [],
      "include_colab_link": true
    },
    "kernelspec": {
      "name": "python3",
      "display_name": "Python 3"
    },
    "language_info": {
      "name": "python"
    }
  },
  "cells": [
    {
      "cell_type": "markdown",
      "metadata": {
        "id": "view-in-github",
        "colab_type": "text"
      },
      "source": [
        "<a href=\"https://colab.research.google.com/github/yejijang-analyst/ESAA/blob/main/note/24-1/5_1_%ED%85%8D%EC%8A%A4%ED%8A%B8%EB%B6%84%EC%84%9D.ipynb\" target=\"_parent\"><img src=\"https://colab.research.google.com/assets/colab-badge.svg\" alt=\"Open In Colab\"/></a>"
      ]
    },
    {
      "cell_type": "markdown",
      "source": [
        "# Chapter 8. 텍스트 분석\n",
        "\n",
        "\n",
        "\n",
        "- 텍스트 분류\n",
        "- 감성 분석\n",
        "- 텍스트 요약\n",
        "- 텍스트 군집화와 유사도 측정\n"
      ],
      "metadata": {
        "id": "FmLLw3j6Ajp5"
      }
    },
    {
      "cell_type": "markdown",
      "source": [
        "## 01 텍스트 분석 이해\n",
        "중요: 피쳐벡터화\n",
        "\n",
        "<텍스트 분석 수행 프로세스>\n",
        "1. 텍스트 전처리\n",
        "  - 클렌징,  단어 토큰화, 어근 추출, 텍스트 정규화\n",
        "\n",
        "2. 피처 벡터화 / 추출 :  Word2Vec\n",
        "\n",
        "3. ML 모델링\n",
        "\n",
        "\n",
        "->  **텍스트 전처리**\n",
        "\n",
        "- 클렌징\n",
        "-  단어 토큰화\n",
        "- 스톱워드 제거\n",
        "- Stemming\n",
        "\n",
        "\n"
      ],
      "metadata": {
        "id": "A52YSLeqB6Y6"
      }
    },
    {
      "cell_type": "markdown",
      "source": [
        "## 클렌징 & 토큰화\n"
      ],
      "metadata": {
        "id": "L4oqXbjxDZ6r"
      }
    },
    {
      "cell_type": "code",
      "source": [
        "from nltk import sent_tokenize\n",
        "import nltk\n",
        "nltk.download('punkt')\n",
        "\n",
        "text_sample = 'The Matrix is everywhere its all around us, here even in this room. \\\n",
        "                You can see it out your window or on your television. \\\n",
        "                You feel it when you go to work, or go to church or pay your taxes.'\n",
        "sentences = sent_tokenize(text = text_sample)\n",
        "\n",
        "print(type(sentences), len(sentences))\n",
        "print(sentences)"
      ],
      "metadata": {
        "colab": {
          "base_uri": "https://localhost:8080/"
        },
        "id": "1CgcDZ3PDqF9",
        "outputId": "2f9678bd-b7cf-4a96-9020-c0cb56323928"
      },
      "execution_count": 1,
      "outputs": [
        {
          "output_type": "stream",
          "name": "stderr",
          "text": [
            "[nltk_data] Downloading package punkt to /root/nltk_data...\n",
            "[nltk_data]   Unzipping tokenizers/punkt.zip.\n"
          ]
        },
        {
          "output_type": "stream",
          "name": "stdout",
          "text": [
            "<class 'list'> 3\n",
            "['The Matrix is everywhere its all around us, here even in this room.', 'You can see it out your window or on your television.', 'You feel it when you go to work, or go to church or pay your taxes.']\n"
          ]
        }
      ]
    },
    {
      "cell_type": "code",
      "source": [
        "from nltk import word_tokenize\n",
        "\n",
        "sentence = 'The Matrix is everywhere its all around us, here even in this room.'\n",
        "words = word_tokenize(sentence)\n",
        "print(type(words), len(words))\n",
        "print(words)"
      ],
      "metadata": {
        "colab": {
          "base_uri": "https://localhost:8080/"
        },
        "id": "yQQFy0vBEVX5",
        "outputId": "a5a19c4b-3c50-4e70-b963-8714a1343428"
      },
      "execution_count": 2,
      "outputs": [
        {
          "output_type": "stream",
          "name": "stdout",
          "text": [
            "<class 'list'> 15\n",
            "['The', 'Matrix', 'is', 'everywhere', 'its', 'all', 'around', 'us', ',', 'here', 'even', 'in', 'this', 'room', '.']\n"
          ]
        }
      ]
    },
    {
      "cell_type": "markdown",
      "source": [
        "sent_tokenize와 word_tokenize를 조합"
      ],
      "metadata": {
        "id": "s5-HgMf4EmSy"
      }
    },
    {
      "cell_type": "code",
      "execution_count": 3,
      "metadata": {
        "colab": {
          "base_uri": "https://localhost:8080/"
        },
        "id": "-6OW0PZOAgeh",
        "outputId": "92faad08-c78d-4c48-b3bb-12970d81db90"
      },
      "outputs": [
        {
          "output_type": "stream",
          "name": "stdout",
          "text": [
            "<class 'list'> 3\n",
            "[['The', 'Matrix', 'is', 'everywhere', 'its', 'all', 'around', 'us', ',', 'here', 'even', 'in', 'this', 'room', '.'], ['You', 'can', 'see', 'it', 'out', 'your', 'window', 'or', 'on', 'your', 'television', '.'], ['You', 'feel', 'it', 'when', 'you', 'go', 'to', 'work', ',', 'or', 'go', 'to', 'church', 'or', 'pay', 'your', 'taxes', '.']]\n"
          ]
        }
      ],
      "source": [
        "from nltk import word_tokenize, sent_tokenize\n",
        "\n",
        "# 여러 개의 문장으로 된 입력 데이터를 문장별로 단어 토큰화하게 만드는 함수 생성\n",
        "def tokenize_text(text):\n",
        "\n",
        "    # 문장별로 분리 토큰\n",
        "    sentences = sent_tokenize(text)\n",
        "\n",
        "    # 분리된 문장별 단어 토큰화\n",
        "    word_tokens = [word_tokenize(sentence) for sentence in sentences]\n",
        "    return word_tokens\n",
        "\n",
        "# 여러 문장에 대해 문장별 단어 토큰화 수행\n",
        "word_tokens = tokenize_text(text_sample)\n",
        "print(type(word_tokens), len(word_tokens))\n",
        "print(word_tokens)"
      ]
    },
    {
      "cell_type": "markdown",
      "source": [
        "문맥적 의미가 무시"
      ],
      "metadata": {
        "id": "dUwFCV-IE26i"
      }
    },
    {
      "cell_type": "markdown",
      "source": [
        "###스톱워드 제거\n"
      ],
      "metadata": {
        "id": "IrK8uRybFDvE"
      }
    },
    {
      "cell_type": "code",
      "source": [
        "import nltk\n",
        "nltk.download(\"stopwords\")"
      ],
      "metadata": {
        "colab": {
          "base_uri": "https://localhost:8080/"
        },
        "id": "g-9dMSVyFCwe",
        "outputId": "1e9690ec-9bf9-447b-a5ee-a6439a866c11"
      },
      "execution_count": 4,
      "outputs": [
        {
          "output_type": "stream",
          "name": "stderr",
          "text": [
            "[nltk_data] Downloading package stopwords to /root/nltk_data...\n",
            "[nltk_data]   Unzipping corpora/stopwords.zip.\n"
          ]
        },
        {
          "output_type": "execute_result",
          "data": {
            "text/plain": [
              "True"
            ]
          },
          "metadata": {},
          "execution_count": 4
        }
      ]
    },
    {
      "cell_type": "code",
      "source": [
        "print('영어 stop words 개수 : ', len(nltk.corpus.stopwords.words('english')))\n",
        "print(nltk.corpus.stopwords.words('english')[:20])"
      ],
      "metadata": {
        "colab": {
          "base_uri": "https://localhost:8080/"
        },
        "id": "rtsFOLBqFDAe",
        "outputId": "74fd337d-a993-4362-a9cd-643b8b3e8aaa"
      },
      "execution_count": 5,
      "outputs": [
        {
          "output_type": "stream",
          "name": "stdout",
          "text": [
            "영어 stop words 개수 :  179\n",
            "['i', 'me', 'my', 'myself', 'we', 'our', 'ours', 'ourselves', 'you', \"you're\", \"you've\", \"you'll\", \"you'd\", 'your', 'yours', 'yourself', 'yourselves', 'he', 'him', 'his']\n"
          ]
        }
      ]
    },
    {
      "cell_type": "code",
      "source": [
        "\n",
        "import nltk\n",
        "\n",
        "stopwords = nltk.corpus.stopwords.words('english')\n",
        "all_tokens = []\n",
        "\n",
        "for sentence in word_tokens :\n",
        "    filtered_words = []\n",
        "    for word in sentence :\n",
        "\n",
        "        word = word.lower()\n",
        "\n",
        "        if word not in stopwords :\n",
        "            filtered_words.append(word)\n",
        "    all_tokens.append(filtered_words)\n",
        "\n",
        "print(all_tokens)"
      ],
      "metadata": {
        "colab": {
          "base_uri": "https://localhost:8080/"
        },
        "id": "opxnz17KFDDO",
        "outputId": "b5c246a6-f252-4987-84b0-ffaa5d886b02"
      },
      "execution_count": 6,
      "outputs": [
        {
          "output_type": "stream",
          "name": "stdout",
          "text": [
            "[['matrix', 'everywhere', 'around', 'us', ',', 'even', 'room', '.'], ['see', 'window', 'television', '.'], ['feel', 'go', 'work', ',', 'go', 'church', 'pay', 'taxes', '.']]\n"
          ]
        }
      ]
    },
    {
      "cell_type": "markdown",
      "source": [
        "is, this 같은 스톱워드 제거"
      ],
      "metadata": {
        "id": "iftKbuTnFvJ9"
      }
    },
    {
      "cell_type": "markdown",
      "source": [
        "### Stemming 과 Lemmatization\n",
        "-  단어의 원형을 찾기\n",
        "\n",
        "**Lemmatization**이 Stemming보다 정교하며 의미론적인 기반에서 단어의 원형을 찾는다\n",
        "\n",
        "- WordNetLemmatizer\n",
        "\n",
        "\n",
        "**Stemming**은 원형 단어로 변환 시 일반적인 방법을 적용하거나 더 단순화된 방법을 적용"
      ],
      "metadata": {
        "id": "1iU53HWpFxg9"
      }
    },
    {
      "cell_type": "code",
      "source": [
        "from nltk.stem import LancasterStemmer\n",
        "stemmer = LancasterStemmer()\n",
        "\n",
        "print(stemmer.stem('working'), stemmer.stem('works'), stemmer.stem('worked'))\n",
        "print(stemmer.stem('amusing'), stemmer.stem('amuses'), stemmer.stem('amused'))\n",
        "print(stemmer.stem('happier'), stemmer.stem('happiest'))\n",
        "print(stemmer.stem('fancier'), stemmer.stem('fanciest'))"
      ],
      "metadata": {
        "colab": {
          "base_uri": "https://localhost:8080/"
        },
        "id": "R_iOcrWaFDFv",
        "outputId": "5fc0d1bf-61c8-428b-f0e7-e8e2bfb4e39f"
      },
      "execution_count": 7,
      "outputs": [
        {
          "output_type": "stream",
          "name": "stdout",
          "text": [
            "work work work\n",
            "amus amus amus\n",
            "happy happiest\n",
            "fant fanciest\n"
          ]
        }
      ]
    },
    {
      "cell_type": "markdown",
      "source": [
        "- WordNetLemmatizer\n",
        "- 정확한 원형단어추출을 위해 단어의 품사를 입력필요"
      ],
      "metadata": {
        "id": "bsiJB0tcG-j5"
      }
    },
    {
      "cell_type": "code",
      "source": [
        "from nltk.stem import WordNetLemmatizer\n",
        "import nltk\n",
        "\n",
        "nltk.download('wordnet')\n",
        "\n",
        "lemma = WordNetLemmatizer()\n",
        "print(lemma.lemmatize('amusing', 'v'), lemma.lemmatize('amuses', 'v'), lemma.lemmatize('amused', 'v'))\n",
        "print(lemma.lemmatize('happier', 'a'), lemma.lemmatize('happiest', 'a'))\n",
        "print(lemma.lemmatize('fancier', 'a'), lemma.lemmatize('fanciest', 'a'))"
      ],
      "metadata": {
        "colab": {
          "base_uri": "https://localhost:8080/"
        },
        "id": "iwHkNQjMFDIW",
        "outputId": "ba4a359e-1f8e-4ae1-95ec-3bb77adb2ab8"
      },
      "execution_count": 8,
      "outputs": [
        {
          "output_type": "stream",
          "name": "stderr",
          "text": [
            "[nltk_data] Downloading package wordnet to /root/nltk_data...\n"
          ]
        },
        {
          "output_type": "stream",
          "name": "stdout",
          "text": [
            "amuse amuse amuse\n",
            "happy happy\n",
            "fancy fancy\n"
          ]
        }
      ]
    },
    {
      "cell_type": "markdown",
      "source": [
        "## 03 Bag of Words - BOW\n",
        "\n",
        "- 단어의 문맥이나 순서를 무시하고 일괄적으로 단어에 대해 빈도 값을 부여해 피처 값 추출\n",
        "\n",
        "문장 2개가 있을 때..\n",
        "1. 문장1과 2에 있는 모든 단어에서 중복을 제거하고 각 단어를 칼럼 형태로 나열하고 각 단어에 고유의 인덱스를 부여\n",
        "\n",
        "2. 개별 문장에서 해당 단어가 나타나는 횟수를 각 단어에 기재\n",
        "\n",
        "단점\n",
        "- 문맥 의미 반영 부족\n",
        "- 희소 행렬 문제 (희소성, 희소행렬)\n",
        "  - 대규모의 칼럼에서 구성된 행렬에서 대부분의 값이 0인 행렬"
      ],
      "metadata": {
        "id": "EB0C02j2HLyr"
      }
    },
    {
      "cell_type": "markdown",
      "source": [
        "### BOW 피처 벡터화\n",
        "\n",
        "1. 카운트 기반 벡터화\n",
        "- 단어 횟수\n",
        "- 카운트 높으면 중요한 단어라고 고려\n",
        "\n",
        "2. TF-IDF (Term Frequency - Inverse Document Frequency) 기반 벡터화\n",
        "- 자주 나타나는 단어에 높은 가중치, ㅗ든 문서에 자주 나타나는 단어에 대해서는 패널티 부여"
      ],
      "metadata": {
        "id": "a7sbJ0pHHt81"
      }
    },
    {
      "cell_type": "markdown",
      "source": [
        "### CountVectorizer, TfidfVectorizer\n",
        "\n",
        "\n",
        "파라미터\n",
        "- max_df : 너무 높은 빈도수를 가지는 단어 피처를 제외\n",
        "- min_df : 너무 낮은 빈도수를 가지는 단어 피처를 제외\n",
        "- max_features : 피처의 개수를 제한\n",
        "- n_gram_range : tuple 형태로 범위 최솟값, 범위 최댓값을 지정\n",
        "- analyzer : 피처 추출을 수행한 단위, 디폴트는 word\n",
        "- token_pattern : 토큰화를 수행하는 정규 표현식 패턴 지정\n",
        "-tokenizer : 토큰화를 별도의 커스텀 함수로 이용시 적용\n",
        "\n",
        "\n",
        "\n",
        "**TfidfVectorizer**\n",
        "\n",
        "파라미터 동일"
      ],
      "metadata": {
        "id": "Fzx8Ep-hIc_R"
      }
    },
    {
      "cell_type": "markdown",
      "source": [
        "### 희소행렬 :COO 형식\n",
        "별도의 데이터 배열에 0이 아닌 데이터만 저장하고 데이터가 가리키는 행과 열의 위치를 별도의 배열로 저장"
      ],
      "metadata": {
        "id": "KVREMUeeKH_c"
      }
    },
    {
      "cell_type": "code",
      "source": [
        "import numpy as np\n",
        "\n",
        "dense = np.array([[3,0,1], [0,2,0]])"
      ],
      "metadata": {
        "id": "NtSST7KjFDK8"
      },
      "execution_count": 9,
      "outputs": []
    },
    {
      "cell_type": "code",
      "source": [
        "from scipy import sparse\n",
        "\n",
        "# 0이 아닌 데이터 추출\n",
        "data = np.array([3,1,2])\n",
        "\n",
        "# 행 위치와 열 위치를 각각 배열로 생성\n",
        "row_pos = np.array([0,0,1])\n",
        "col_pos = np.array([0,2,1])\n",
        "\n",
        "# sparse 패키지의 coo_matrix를 이용해 COO 형식으로 희소 행렬 생성\n",
        "sparse_coo = sparse.coo_matrix((data, (row_pos, col_pos)))"
      ],
      "metadata": {
        "id": "pH9sZwjaFDN6"
      },
      "execution_count": 10,
      "outputs": []
    },
    {
      "cell_type": "code",
      "source": [
        "sparse_coo.toarray()"
      ],
      "metadata": {
        "colab": {
          "base_uri": "https://localhost:8080/"
        },
        "id": "hkaAA7ZbK2H_",
        "outputId": "b9743bed-d644-4513-a107-090e839dad64"
      },
      "execution_count": 11,
      "outputs": [
        {
          "output_type": "execute_result",
          "data": {
            "text/plain": [
              "array([[3, 0, 1],\n",
              "       [0, 2, 0]])"
            ]
          },
          "metadata": {},
          "execution_count": 11
        }
      ]
    },
    {
      "cell_type": "markdown",
      "source": [
        "### 희소행렬 - CSR 형식\n",
        "COO 형식의 반복적인 위치 데이터를 사용해야하는 것 해결\n"
      ],
      "metadata": {
        "id": "nRr3Z-IpK4P-"
      }
    },
    {
      "cell_type": "code",
      "source": [
        "from scipy import sparse\n",
        "\n",
        "dense = np.array([[0,0,1,0,0,5],\n",
        "                  [1,4,0,3,2,5],\n",
        "                  [0,6,0,3,0,0],\n",
        "                  [2,0,0,0,0,0],\n",
        "                  [0,0,0,7,0,8],\n",
        "                  [1,0,0,0,0,0]\n",
        "\n",
        "])\n",
        "\n",
        "# 0이 아닌 데이터 추출\n",
        "data2 = np.array([1,5,1,4,3,2,5,6,3,2,7,8,1])\n",
        "\n",
        "# 행 위치와 열 위치를 각각 array로 생성\n",
        "row_pos = np.array([0,0,1,1,1,1,1,2,2,3,4,4,5])\n",
        "col_pos = np.array([2,5,0,1,3,4,5,1,3,0,3,5,0])\n",
        "\n",
        "# COO 형식으로 변환\n",
        "sparse_coo = sparse.coo_matrix((data2, (row_pos, col_pos)))\n",
        "\n",
        "# 행 위치 배열의 고유한 값의 시작 위치 인덱스를 배열로 생성\n",
        "row_pos_ind = np.array([0,2,7,9,10,12,13])\n",
        "\n",
        "# CSR 형식으로 변환\n",
        "sparse_csr = sparse.csr_matrix((data2, col_pos, row_pos_ind))\n",
        "\n",
        "print('COO 변환된 데이터가 제대로 되었는지 다시 Dense로 출력 확인')\n",
        "print(sparse_coo.toarray())\n",
        "print('CSR 변환된 데이터가 제대로 되었는지 다시 Dense로 출력 확인')\n",
        "print(sparse_csr.toarray())"
      ],
      "metadata": {
        "colab": {
          "base_uri": "https://localhost:8080/"
        },
        "id": "Lq5GVvbvK2Ek",
        "outputId": "b6387934-c006-41d4-882a-a1043bfd37d3"
      },
      "execution_count": 12,
      "outputs": [
        {
          "output_type": "stream",
          "name": "stdout",
          "text": [
            "COO 변환된 데이터가 제대로 되었는지 다시 Dense로 출력 확인\n",
            "[[0 0 1 0 0 5]\n",
            " [1 4 0 3 2 5]\n",
            " [0 6 0 3 0 0]\n",
            " [2 0 0 0 0 0]\n",
            " [0 0 0 7 0 8]\n",
            " [1 0 0 0 0 0]]\n",
            "CSR 변환된 데이터가 제대로 되었는지 다시 Dense로 출력 확인\n",
            "[[0 0 1 0 0 5]\n",
            " [1 4 0 3 2 5]\n",
            " [0 6 0 3 0 0]\n",
            " [2 0 0 0 0 0]\n",
            " [0 0 0 7 0 8]\n",
            " [1 0 0 0 0 0]]\n"
          ]
        }
      ]
    },
    {
      "cell_type": "code",
      "source": [
        "dense3= np.array([[0,0,1,0,0,5],\n",
        "                  [1,4,0,3,2,5],\n",
        "                  [0,6,0,3,0,0],\n",
        "                  [2,0,0,0,0,0],\n",
        "                  [0,0,0,7,0,8],\n",
        "                  [1,0,0,0,0,0]\n",
        "\n",
        "])\n",
        "\n",
        "coo = sparse.coo_matrix(dense3)\n",
        "csr = sparse.csr_matrix(dense3)"
      ],
      "metadata": {
        "id": "ttxOj0xeK2DF"
      },
      "execution_count": 13,
      "outputs": []
    }
  ]
}