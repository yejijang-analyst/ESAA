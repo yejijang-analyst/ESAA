{
  "nbformat": 4,
  "nbformat_minor": 0,
  "metadata": {
    "colab": {
      "provenance": []
    },
    "kernelspec": {
      "name": "python3",
      "display_name": "Python 3"
    },
    "language_info": {
      "name": "python"
    }
  },
  "cells": [
    {
      "cell_type": "markdown",
      "source": [
        "# Chapter9. 추천 시스템"
      ],
      "metadata": {
        "id": "N4u33f2auTBn"
      }
    },
    {
      "cell_type": "markdown",
      "source": [
        "## 01. 추천 시스템의 개요와 배경\n",
        "\n"
      ],
      "metadata": {
        "id": "fOg6FeY1uX_J"
      }
    },
    {
      "cell_type": "markdown",
      "source": [
        "\n",
        "- 선택된 콘텐츠와 연관된 추천 콘텐츠가 얼마나 개인에게 맞춘 콘텐츠를 추천했는지가 사이트의 평판을 좌우하는 중요 요소.\n",
        "- 더 많은 데이터일수록 좋은 선순환 시스템 구축 가능."
      ],
      "metadata": {
        "id": "-t8wqFQYwio-"
      }
    },
    {
      "cell_type": "markdown",
      "source": [
        "추천 시스템의 유형\n",
        "- 콘텐츠 기반 필터링 방식\n",
        "\n",
        "- 협업 필터링 방식\n",
        "  - 최근접 이웃 협업 필터링\n",
        "  - 잠재 요인 협업 필터링  \n",
        "\n",
        "\n"
      ],
      "metadata": {
        "id": "hhE89K_0wmd0"
      }
    },
    {
      "cell_type": "markdown",
      "source": [
        "## 02. 콘텐츠 기반 필터링 추천 시스템\n",
        "- 사용자가 특정한 아이템을 매우 선호 시에 그 아이템과 비슷한 콘텐츠를 가진 다른 아이템을 추천해주는 방식"
      ],
      "metadata": {
        "id": "HEWSL9QlxAXK"
      }
    },
    {
      "cell_type": "markdown",
      "source": [
        "## 03. 최근접 이웃 협업 필터링\n",
        "\n",
        "사용자 기반: 당신과 비슷한 고객들이 다음 상품도 구매했습니다\n",
        "\n",
        "\n",
        "- 특정 사용자와 타 사용자 간의 유사도를 측정한 뒤 가장 유사도가 높은 사\n",
        "용자를 추출해 그들이 선호하는 아이템을 추천\n",
        "\n",
        "\n",
        "아이템 기반: 이 상품을 선택한 다른 고객들은 다음 상품도 구매했습니다"
      ],
      "metadata": {
        "id": "agD5LXN5xT6g"
      }
    },
    {
      "cell_type": "markdown",
      "source": [
        "## 04. 잠재 요인 협업 필터링\n"
      ],
      "metadata": {
        "id": "5lzQ3EjeyPQJ"
      }
    },
    {
      "cell_type": "markdown",
      "source": [
        "### 잠재 요인 협업 필터링의 이해\n",
        "- 사용자-아이템 평점 매트릭스 속에 숨어 있는 잠재 요인을 추출해 추천 예측을 할 수 있게 하는 기법.\n",
        "- 행렬분해: 다차원의 매트릭스를 저차원 매트릭스로 분해하는 기법"
      ],
      "metadata": {
        "id": "VvrI7Jbm7bnF"
      }
    },
    {
      "cell_type": "markdown",
      "source": [
        "### 확률적 경사 하강법을 이용한 행렬 분해\n",
        "- P와 Q 행렬로 계산된 예측 R 행렬 값이 실제 R 행렬 값과 가장 최소의 오류를 가질 수 있도록 반복적인 비용 함수 최적화를 통해 P와 Q를 유추해내는 것.\n"
      ],
      "metadata": {
        "id": "Flj59V947jir"
      }
    },
    {
      "cell_type": "code",
      "execution_count": 1,
      "metadata": {
        "id": "tBgV1XGdt13i"
      },
      "outputs": [],
      "source": [
        "import numpy as np\n",
        "\n",
        "# 원본 행렬 R 생성, 분해 행렬 P와 Q 초기화, 잠재 요인 차원 K는 3으로 설정.\n",
        "R = np.array([[4,np.NaN, np.NaN, 2, np.NaN],\n",
        "              [np.NaN, 5, np.NaN, 3,1],\n",
        "              [np.NaN, np.NaN, 3,4,4],\n",
        "              [5,2,1,2,np.NaN]])\n",
        "num_users, num_items = R.shape\n",
        "K=3\n",
        "\n",
        "# P와 Q 행렬의 크기를 지정하고 정규 분포를 가진 임의의 값 입력\n",
        "np.random.seed(1)\n",
        "P = np.random.normal(scale=1./K, size=(num_users,K))\n",
        "Q = np.random.normal(scale=1./K, size=(num_items, K))"
      ]
    },
    {
      "cell_type": "code",
      "source": [
        "from sklearn.metrics import mean_squared_error\n",
        "\n",
        "def get_rmse(R,P,Q, non_zeros):\n",
        "  error=0\n",
        "  # 두 개의 분해된 행렬 P와 Q.T의 내적으로 예측 R 행렬 생성\n",
        "  full_pred_matrix = np.dot(P, Q.T)\n",
        "\n",
        "  # 실제 R 행렬에서 널이 아닌 값의 위치 인덱스 추출해  실제 R 행렬과 예측 행렬의 RMSE 추출\n",
        "  x_non_zero_ind = [non_zero[0] for non_zero in non_zeros]\n",
        "  y_non_zero_ind = [non_zero[1] for non_zero in non_zeros]\n",
        "  R_non_zeros = R[x_non_zero_ind,y_non_zero_ind]\n",
        "  full_pred_matrix_non_zeros = full_pred_matrix[x_non_zero_ind, y_non_zero_ind]\n",
        "  mse = mean_squared_error(R_non_zeros, full_pred_matrix_non_zeros)\n",
        "  rmse = np.sqrt(mse)\n",
        "\n",
        "  return mse"
      ],
      "metadata": {
        "id": "t9DdAlTAt7Q2"
      },
      "execution_count": 2,
      "outputs": []
    },
    {
      "cell_type": "code",
      "source": [
        "# R > 0 인 행 위치, 열 위치, 값을 non_zeros 리스트에 저장\n",
        "non_zeros = [(i,j,R[i,j]) for i in range(num_users) for j in range(num_items) if R[i,j] >0]\n",
        "\n",
        "steps=1000\n",
        "learning_rate=0.01\n",
        "r_lambda = 0.01\n",
        "\n",
        "# SGD 기법으로 P와 Q 매트릭스를 계속 업데이트\n",
        "for step in range(steps):\n",
        "  for i,j,r in non_zeros:\n",
        "    # 실제 값과 예측 값의 차이인 오류 값 구함\n",
        "    eij = r-np.dot(P[i,:], Q[j,:].T)\n",
        "    # Regularization 을 반영한 SGD 업데이트 공식 적용\n",
        "    P[i,:] = P[i,:]+learning_rate*(eij*Q[j,:]-r_lambda*P[i,:])\n",
        "    Q[i,:] = Q[i,:]+learning_rate*(eij*P[i,:]-r_lambda*Q[j,:])\n",
        "  rmse = get_rmse(R,P,Q, non_zeros)\n",
        "  if (step%50) ==0:\n",
        "    print('### iteration step :', step, \"rmse:\",rmse)"
      ],
      "metadata": {
        "colab": {
          "base_uri": "https://localhost:8080/"
        },
        "id": "G7mDftq0t8_b",
        "outputId": "26bc7697-e27b-4111-fabe-659c58fbc43c"
      },
      "execution_count": 3,
      "outputs": [
        {
          "output_type": "stream",
          "name": "stdout",
          "text": [
            "### iteration step : 0 rmse: 10.47522280446722\n",
            "### iteration step : 50 rmse: 3.418585982566469\n",
            "### iteration step : 100 rmse: 3.273734855096425\n",
            "### iteration step : 150 rmse: 3.464220850838796\n",
            "### iteration step : 200 rmse: 3.4322385531999733\n",
            "### iteration step : 250 rmse: 3.3864046022230117\n",
            "### iteration step : 300 rmse: 3.27191594953962\n",
            "### iteration step : 350 rmse: 3.5611823070899007\n",
            "### iteration step : 400 rmse: 3.5730741261624885\n",
            "### iteration step : 450 rmse: 3.5555201049264924\n",
            "### iteration step : 500 rmse: 3.5425397660106603\n",
            "### iteration step : 550 rmse: 3.5704393570420603\n",
            "### iteration step : 600 rmse: 3.6452169448009655\n",
            "### iteration step : 650 rmse: 3.722272244280297\n",
            "### iteration step : 700 rmse: 3.7134141829891543\n",
            "### iteration step : 750 rmse: 3.1486523640340036\n",
            "### iteration step : 800 rmse: 3.8211742690886097\n",
            "### iteration step : 850 rmse: 3.7096692914597043\n",
            "### iteration step : 900 rmse: 3.7531498311026827\n",
            "### iteration step : 950 rmse: 3.892945147497157\n"
          ]
        }
      ]
    },
    {
      "cell_type": "code",
      "source": [
        "pred_matrix = np.dot(P, Q.T)\n",
        "print('예측 행렬:\\n', np.round(pred_matrix,3))"
      ],
      "metadata": {
        "colab": {
          "base_uri": "https://localhost:8080/"
        },
        "id": "dZAezODDt_wn",
        "outputId": "8781ef3b-7ac1-4240-efa2-256b81cd7715"
      },
      "execution_count": 4,
      "outputs": [
        {
          "output_type": "stream",
          "name": "stdout",
          "text": [
            "예측 행렬:\n",
            " [[  3.969 -17.204  16.879   2.011   0.496]\n",
            " [ -0.413   4.97   -1.872   3.044   0.075]\n",
            " [  0.892   0.247   3.106   4.226   0.271]\n",
            " [  0.316  -0.13   -1.4    -0.745   0.072]]\n"
          ]
        }
      ]
    }
  ]
}