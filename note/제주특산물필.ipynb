{
  "nbformat": 4,
  "nbformat_minor": 0,
  "metadata": {
    "colab": {
      "provenance": [],
      "authorship_tag": "ABX9TyOcmpJyB8IK/vwyETOTqSEu",
      "include_colab_link": true
    },
    "kernelspec": {
      "name": "python3",
      "display_name": "Python 3"
    },
    "language_info": {
      "name": "python"
    }
  },
  "cells": [
    {
      "cell_type": "markdown",
      "metadata": {
        "id": "view-in-github",
        "colab_type": "text"
      },
      "source": [
        "<a href=\"https://colab.research.google.com/github/yejijang-analyst/ESAA/blob/main/note/%EC%A0%9C%EC%A3%BC%ED%8A%B9%EC%82%B0%EB%AC%BC%ED%95%84.ipynb\" target=\"_parent\"><img src=\"https://colab.research.google.com/assets/colab-badge.svg\" alt=\"Open In Colab\"/></a>"
      ]
    },
    {
      "cell_type": "code",
      "execution_count": null,
      "metadata": {
        "id": "f_SEB9MatvQp"
      },
      "outputs": [],
      "source": [
        "import random\n",
        "import pandas as pd\n",
        "import numpy as np\n",
        "import os\n",
        "\n",
        "from sklearn.ensemble import RandomForestRegressor\n",
        "from sklearn.preprocessing import LabelEncoder\n",
        "\n",
        "import warnings\n",
        "warnings.filterwarnings(action='ignore')"
      ]
    },
    {
      "cell_type": "code",
      "source": [
        "def seed_everything(seed):\n",
        "    random.seed(seed)\n",
        "    os.environ['PYTHONHASHSEED'] = str(seed)\n",
        "    np.random.seed(seed)\n",
        "\n",
        "seed_everything(42) # Seed 고정"
      ],
      "metadata": {
        "id": "OgOVn7MXtzTC"
      },
      "execution_count": null,
      "outputs": []
    },
    {
      "cell_type": "code",
      "source": [
        "train_df = pd.read_csv('./train.csv')\n",
        "test_df = pd.read_csv('./test.csv')"
      ],
      "metadata": {
        "id": "z0csj5nLtzYI"
      },
      "execution_count": null,
      "outputs": []
    },
    {
      "cell_type": "code",
      "source": [
        "#시계열 특성을 학습에 반영하기 위해 timestamp를 월, 일, 시간으로 나눕니다\n",
        "train_df['year'] = train_df['timestamp'].apply(lambda x : int(x[0:4]))\n",
        "train_df['month'] = train_df['timestamp'].apply(lambda x : int(x[5:7]))\n",
        "train_df['day'] = train_df['timestamp'].apply(lambda x : int(x[8:10]))\n",
        "\n",
        "test_df['year'] = test_df['timestamp'].apply(lambda x : int(x[0:4]))\n",
        "test_df['month'] = test_df['timestamp'].apply(lambda x : int(x[5:7]))\n",
        "test_df['day'] = test_df['timestamp'].apply(lambda x : int(x[8:10]))"
      ],
      "metadata": {
        "id": "PoPutDvWtzdg"
      },
      "execution_count": null,
      "outputs": []
    },
    {
      "cell_type": "code",
      "source": [
        "#학습에 사용하지 않을 변수들을 제거합니다\n",
        "train_x = train_df.drop(columns=['ID', 'timestamp', 'supply(kg)', 'price(원/kg)'])\n",
        "train_y = train_df['price(원/kg)']\n",
        "\n",
        "test_x = test_df.drop(columns=['ID', 'timestamp'])"
      ],
      "metadata": {
        "id": "O7GT0OlWt6P2"
      },
      "execution_count": null,
      "outputs": []
    },
    {
      "cell_type": "code",
      "source": [
        "#질적 변수들을 수치화합니다\n",
        "qual_col = ['item', 'corporation', 'location']\n",
        "\n",
        "for i in qual_col:\n",
        "    le = LabelEncoder()\n",
        "    train_x[i]=le.fit_transform(train_x[i])\n",
        "    test_x[i]=le.transform(test_x[i]) #test 데이터에 대해서 fit하는 것은 data leakage에 해당합니다\n",
        "\n",
        "print('Done.')"
      ],
      "metadata": {
        "id": "KWmP8zZAt6E6"
      },
      "execution_count": null,
      "outputs": []
    },
    {
      "cell_type": "code",
      "source": [
        "model = RandomForestRegressor()\n",
        "model.fit(train_x, train_y)"
      ],
      "metadata": {
        "id": "oMQ_PAr1t_id"
      },
      "execution_count": null,
      "outputs": []
    },
    {
      "cell_type": "code",
      "source": [
        "preds = model.predict(test_x)"
      ],
      "metadata": {
        "id": "wzHQuugPuBc8"
      },
      "execution_count": null,
      "outputs": []
    }
  ]
}